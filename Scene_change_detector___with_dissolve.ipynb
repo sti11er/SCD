{
  "cells": [
    {
      "cell_type": "markdown",
      "metadata": {
        "id": "view-in-github",
        "colab_type": "text"
      },
      "source": [
        "<a href=\"https://colab.research.google.com/github/sti11er/SCD/blob/main/Scene_change_detector___with_dissolve.ipynb\" target=\"_parent\"><img src=\"https://colab.research.google.com/assets/colab-badge.svg\" alt=\"Open In Colab\"/></a>"
      ]
    },
    {
      "cell_type": "markdown",
      "metadata": {
        "id": "WRLiOCuGGq1a"
      },
      "source": [
        "# Интеллектуальные методы обработки видео"
      ]
    },
    {
      "cell_type": "markdown",
      "metadata": {
        "id": "cCEoO1kTGq1i"
      },
      "source": [
        "# Ноутбук разделен на два задания:\n",
        "   * ### [Эвристический SCD](#first)\n",
        "   * ### [SCD с ML](#second)\n",
        "   \n",
        "Сроки выполнения для каждого задания — одна неделя. Оцениваются задания независимо."
      ]
    },
    {
      "cell_type": "markdown",
      "metadata": {
        "id": "X3Cv5pSvGq1k"
      },
      "source": [
        "## Задание 1. Scene Change Detector\n",
        "<a id='first'></a>"
      ]
    },
    {
      "cell_type": "markdown",
      "metadata": {
        "id": "pEMJFZK0Gq1l"
      },
      "source": [
        "### Обязательно к прочтению"
      ]
    },
    {
      "cell_type": "markdown",
      "metadata": {
        "id": "zeBXTwa2Gq1m"
      },
      "source": [
        "**Внимание!**\n",
        "\n",
        "Opencv содержит очень много высокоуровневых функций обработки изображений (например, некоторые алгоритмы компенсации движения, отслеживания объектов, распознавания образов). Использование данной библиотеки в данном задании ограничивается:\n",
        "* считыванием входного видео\n",
        "* преобразованием его кадров в другие цветовые пространства\n",
        "* использованием свёрток Собеля\n",
        "\n",
        "Использовать библиотеку numpy можно без ограничений.\n",
        "\n",
        "Если вы хотите использовать функции обработки изображений и видео из другой библиотеки, то оговорите использование этой функции в чате курса."
      ]
    },
    {
      "cell_type": "markdown",
      "metadata": {
        "id": "eIpRLDXiGq1n"
      },
      "source": [
        "### Описание входных данных"
      ]
    },
    {
      "cell_type": "markdown",
      "metadata": {
        "id": "wNPxlau8Gq1o"
      },
      "source": [
        "Выборка для тренировки лежит https://titan.gml-team.ru:5003/sharing/yX8enupJV\n",
        "\n",
        "Данные о каждом видео лежат в файле *train_dataset\\info.json*. Это список из словарей, каждый словарь содержит информацию о расположении видео, о расположении ответов на смены сцен и содержит длину видео"
      ]
    },
    {
      "cell_type": "code",
      "execution_count": null,
      "metadata": {
        "scrolled": true,
        "id": "4HW7pEFKGq1q"
      },
      "outputs": [],
      "source": [
        "import numpy as np\n",
        "import cv2 # Для установки opencv воспользуйтесь командой в терминале conda install -c conda-forge opencv\n",
        "from tqdm.auto import tqdm\n",
        "import matplotlib.pyplot as plt\n",
        "import seaborn as sns\n",
        "import os\n",
        "\n",
        "%matplotlib inline"
      ]
    },
    {
      "cell_type": "code",
      "execution_count": null,
      "metadata": {
        "scrolled": true,
        "id": "f-saW417Gq1u"
      },
      "outputs": [],
      "source": [
        "import json\n",
        "def load_json_from_file(filename):\n",
        "    with open(filename, \"r\") as f:\n",
        "        return json.load(f, strict=False)\n",
        "\n",
        "\n",
        "def dump_json_to_file(obj, filename, **kwargs):\n",
        "    with open(filename, \"w\") as f:\n",
        "        json.dump(obj, f, **kwargs)"
      ]
    },
    {
      "cell_type": "code",
      "source": [
        "from google.colab import drive\n",
        "drive.mount('/content/drive')"
      ],
      "metadata": {
        "colab": {
          "base_uri": "https://localhost:8080/"
        },
        "id": "xjgg8dBhI6wu",
        "outputId": "a9e910a9-a4b8-4466-e3df-ed0053a9ac42"
      },
      "execution_count": null,
      "outputs": [
        {
          "output_type": "stream",
          "name": "stdout",
          "text": [
            "Mounted at /content/drive\n"
          ]
        }
      ]
    },
    {
      "cell_type": "code",
      "execution_count": null,
      "metadata": {
        "scrolled": true,
        "id": "VCCK0p1BGq1w"
      },
      "outputs": [],
      "source": [
        "video_dataset = load_json_from_file('/content/drive/MyDrive/mozhet/solution_template/train_dataset/info.json')\n"
      ]
    },
    {
      "cell_type": "markdown",
      "metadata": {
        "id": "wvddgvEFGq1y"
      },
      "source": [
        "### Загрузка видео ###"
      ]
    },
    {
      "cell_type": "markdown",
      "metadata": {
        "id": "1Nsl7jXGGq1z"
      },
      "source": [
        "Загрузка видео осуществляется при помощи cv2.VideoCapture. Этот код изменять и дописывать не нужно."
      ]
    },
    {
      "cell_type": "code",
      "execution_count": null,
      "metadata": {
        "scrolled": true,
        "id": "ZSdHtcwCGq10"
      },
      "outputs": [],
      "source": [
        "def read_video(video_path):\n",
        "    cap = cv2.VideoCapture(video_path)\n",
        "    frames = []\n",
        "    while(cap.isOpened()):\n",
        "        ret, frame = cap.read()\n",
        "        if ret==False:\n",
        "            break\n",
        "        yield frame\n",
        "    cap.release()"
      ]
    },
    {
      "cell_type": "code",
      "execution_count": null,
      "metadata": {
        "scrolled": true,
        "id": "lenkn7kZGq11"
      },
      "outputs": [],
      "source": [
        "frames = read_video(os.path.join('train_dataset', 'video', '03.mp4'))"
      ]
    },
    {
      "cell_type": "markdown",
      "metadata": {
        "id": "ooIPSsiaGq12"
      },
      "source": [
        "Что такое frames? Это итератор на кадры видео. Чтобы пройтись по всем кадрам последовательности, воспользуйтесь следующей конструкцией:\n",
        "*Аккуратно, по одной переменной frames можно пройти только один раз!*"
      ]
    },
    {
      "cell_type": "code",
      "execution_count": null,
      "metadata": {
        "scrolled": true,
        "id": "OuuWFgRRGq13"
      },
      "outputs": [],
      "source": [
        "for frame in tqdm(frames):\n",
        "    pass\n",
        "for frame in tqdm(frames): # Второй раз уже не будет итерации\n",
        "    pass"
      ]
    },
    {
      "cell_type": "markdown",
      "metadata": {
        "id": "2qd0ObpmGq14"
      },
      "source": [
        "### Пишем свой простой детектор смен сцен"
      ]
    },
    {
      "cell_type": "markdown",
      "metadata": {
        "id": "6eGQnzlDGq14"
      },
      "source": [
        "На данном этапе предлагается написать простой Scene Change Detector (SCD) на основе выделения характеристик кадров, подсчёта разницы между кадрами на основе данных характеристик, а также подобрать наиболее оптимальный порог для этих признаков и совместить эти признаки.\n",
        "Сменой сцен в данной задаче являются только обычные мгновенные смены сцен, без дополнительных эффектов.\n",
        "\n",
        "В качестве примера приведён простой детектор смен, который считает межкадровую разницу между кадрами.\n",
        "\n",
        "*Важное замечание. Здесь и далее результатом алгоритма детектора сцен являются **индексы кадров начал сцен**, при этом кадры **нумеруются с 0**. Нулевой кадр в качестве ответа указывать не нужно*"
      ]
    },
    {
      "cell_type": "markdown",
      "metadata": {
        "id": "ZW8C4Y_UGq15"
      },
      "source": [
        "<img src=\"Hard_cut.jpg\">"
      ]
    },
    {
      "cell_type": "code",
      "execution_count": null,
      "metadata": {
        "scrolled": true,
        "id": "0vGx7PB0Gq16"
      },
      "outputs": [],
      "source": [
        "def baseline_scene_change_detector(frames, threshold=2000, with_vis=False):\n",
        "    \"\"\"\n",
        "    Baseline SCD\n",
        "\n",
        "    Arguments:\n",
        "    frames -- iterator on video frames\n",
        "    threshold -- parameter of your algorithm (optional)\n",
        "    with_vis -- saving neighboring frames at a scene change (optional)\n",
        "\n",
        "    Returns:\n",
        "    scene_changes -- list of scene changes (idx of frames)\n",
        "    vis -- list of neighboring frames at a scene change (for visualization)\n",
        "    metric_values -- list of metric values (for visualization)\n",
        "    \"\"\"\n",
        "\n",
        "    def pixel_metric(frame, prev_frame):\n",
        "        # Базовое расстояние между кадрами - среднеквадратическая ошибка между ними\n",
        "        return np.mean((frame.astype(np.int32) - prev_frame) ** 2)\n",
        "\n",
        "    scene_changes = []\n",
        "    vis = []\n",
        "    metric_values = []\n",
        "    prev_frame = None\n",
        "    for idx, frame in tqdm(enumerate(frames), leave=False):\n",
        "        # frame - это кадр\n",
        "        # idx - это номер кадра\n",
        "        if prev_frame is not None:\n",
        "            # Находим расстояние между соседними кадрами\n",
        "            metric_value = pixel_metric(frame, prev_frame)\n",
        "            if metric_value > threshold:\n",
        "                scene_changes.append(idx)\n",
        "                if with_vis:\n",
        "                    # Кадры в памяти занимают много места, поэтому сохраним лишь первые 100 срабатываний\n",
        "                    if len(vis) < 100:\n",
        "                        vis.append([prev_frame, frame])\n",
        "            metric_values.append(metric_value)\n",
        "        else:\n",
        "            metric_values.append(0)\n",
        "        prev_frame = frame\n",
        "    return scene_changes, vis, metric_values"
      ]
    },
    {
      "cell_type": "code",
      "execution_count": null,
      "metadata": {
        "id": "5484LFHwGq18"
      },
      "outputs": [],
      "source": [
        "def global_histogram_cosine_distance(cur, prev):\n",
        "    gray1 = cv2.cvtColor(prev, cv2.COLOR_BGR2GRAY)\n",
        "    hist1, _ = np.histogram(gray1, bins=256, range=(0, 256))\n",
        "    gray2 = cv2.cvtColor(cur, cv2.COLOR_BGR2GRAY)\n",
        "    hist2, _ = np.histogram(gray2, bins=256, range=(0, 256))\n",
        "\n",
        "    metric = (hist1 @ hist2) / np.linalg.norm(hist1) / np.linalg.norm(hist2)\n",
        "\n",
        "    return metric"
      ]
    },
    {
      "cell_type": "code",
      "execution_count": null,
      "metadata": {
        "id": "9MjTKKWUGq19"
      },
      "outputs": [],
      "source": [
        "def color_histogram(cur, prev):\n",
        "    # Разделение изображений на каналы BGR\n",
        "    b1, g1, r1 = cv2.split(prev)\n",
        "    b2, g2, r2 = cv2.split(cur)\n",
        "\n",
        "    # Вычисление гистограмм для каждого канала\n",
        "    hist_b1, _ = np.histogram(b1, bins=256, range=(0, 256))\n",
        "    hist_g1, _ = np.histogram(g1, bins=256, range=(0, 256))\n",
        "    hist_r1, _ = np.histogram(r1, bins=256, range=(0, 256))\n",
        "    hist_b2, _ = np.histogram(b2, bins=256, range=(0, 256))\n",
        "    hist_g2, _ = np.histogram(g2, bins=256, range=(0, 256))\n",
        "    hist_r2, _ = np.histogram(r2, bins=256, range=(0, 256))\n",
        "\n",
        "    # Нормализация гистограмм\n",
        "    hist_b1 = hist_b1 / np.sum(hist_b1)\n",
        "    hist_g1 = hist_g1 / np.sum(hist_g1)\n",
        "    hist_r1 = hist_r1 / np.sum(hist_r1)\n",
        "    hist_b2 = hist_b2 / np.sum(hist_b2)\n",
        "    hist_g2 = hist_g2 / np.sum(hist_g2)\n",
        "    hist_r2 = hist_r2 / np.sum(hist_r2)\n",
        "\n",
        "    # Вычисление корреляции для каждого канала\n",
        "    b = np.corrcoef(hist_b1, hist_b2)[0, 1]\n",
        "    g = np.corrcoef(hist_g1, hist_g2)[0, 1]\n",
        "    r = np.corrcoef(hist_r1, hist_r2)[0, 1]\n",
        "\n",
        "    metrics = [b, g, r]\n",
        "    # Средняя корреляция по всем каналам\n",
        "    metric = np.min(metrics)\n",
        "\n",
        "    return metric % 250"
      ]
    },
    {
      "cell_type": "code",
      "execution_count": null,
      "metadata": {
        "id": "rXwfrFnDGq1-"
      },
      "outputs": [],
      "source": [
        "import multiprocessing as mp\n",
        "\n",
        "def block_histogram(frame):\n",
        "    # Определяем размер блока и количество блоков\n",
        "    block_size = 16\n",
        "    h_blocks = frame.shape[0] // block_size\n",
        "    w_blocks = frame.shape[1] // block_size\n",
        "\n",
        "    histograms = []\n",
        "    similarities = []\n",
        "\n",
        "    # Перебираем все блоки в кадре\n",
        "    for i in range(h_blocks):\n",
        "        for j in range(w_blocks):\n",
        "            # Вырезаем блок из кадра\n",
        "            block = frame[i*block_size:(i+1)*block_size, j*block_size:(j+1)*block_size]\n",
        "            block = cv2.cvtColor(block, cv2.COLOR_BGR2GRAY)\n",
        "            # Вычисляем гистограмму распределения яркости\n",
        "\n",
        "            hist = cv2.calcHist([block], [0], None, [10], [0, 256])\n",
        "            histograms.append(hist)\n",
        "            # Если это не первый блок, сравниваем гистограмму с предыдущей\n",
        "            if i > 0 or j > 0:\n",
        "                #  корреляция\n",
        "                method = cv2.HISTCMP_CORREL\n",
        "                similarity = cv2.compareHist(histograms[-2], histograms[-1], method)\n",
        "                similarities.append(similarity)\n",
        "\n",
        "    # Вычисляем среднее значение мер подобия для всех блоков\n",
        "    mean_similarity = np.mean(similarities)\n",
        "    return mean_similarity"
      ]
    },
    {
      "cell_type": "code",
      "execution_count": null,
      "metadata": {
        "id": "MMJE8expGq1_"
      },
      "outputs": [],
      "source": [
        "from skimage.feature import hog\n",
        "\n",
        "def hog_histogram(cur, prev, threshold):\n",
        "    # Вычисление HOG для каждого изображения\n",
        "    cur = cv2.cvtColor(cur, cv2.COLOR_BGR2GRAY)\n",
        "    prev = cv2.cvtColor(prev, cv2.COLOR_BGR2GRAY)\n",
        "\n",
        "    hog1, _ = hog(prev, orientations=8, pixels_per_cell=(16, 16), cells_per_block=(1, 1), visualize=True)\n",
        "    hog2, _ = hog(cur, orientations=8, pixels_per_cell=(16, 16), cells_per_block=(1, 1), visualize=True)\n",
        "\n",
        "    # Нормализация HOG\n",
        "    hog1 = hog1 / np.sum(hog1)\n",
        "    hog2 = hog2 / np.sum(hog2)\n",
        "\n",
        "    # Вычисление расстояния Хеллингера\n",
        "    hellinger = np.sqrt(1 - np.sqrt(hog1 * hog2).sum())\n",
        "\n",
        "    # Сравнение расстояния с порогом\n",
        "    if hellinger > threshold:\n",
        "        return [1, hellinger]\n",
        "    return [0, hellinger]"
      ]
    },
    {
      "cell_type": "code",
      "execution_count": null,
      "metadata": {
        "id": "n3KNiooSGq2A"
      },
      "outputs": [],
      "source": [
        "def sifT(cur, prev, threshold):\n",
        "    sift = cv2.SIFT_create()\n",
        "\n",
        "    # Преобразуем кадр в оттенки серого\n",
        "    cur = cv2.cvtColor(cur, cv2.COLOR_BGR2GRAY)\n",
        "    prev = cv2.cvtColor(prev, cv2.COLOR_BGR2GRAY)\n",
        "\n",
        "    # Находим ключевые точки и дескрипторы в следующем кадре\n",
        "    kp1, des1 = sift.detectAndCompute(cur, None)\n",
        "    kp2, des2 = sift.detectAndCompute(prev, None)\n",
        "\n",
        "    # Создаем объект BFMatcher для сопоставления дескрипторов\n",
        "    bf = cv2.BFMatcher(cv2.NORM_L2, crossCheck=True)\n",
        "\n",
        "    # Находим совпадающие пары дескрипторов\n",
        "    matches = bf.match(des1, des2)\n",
        "\n",
        "    # Сортируем пары по расстоянию\n",
        "    matches = sorted(matches, key=lambda x: x.distance)\n",
        "\n",
        "    # Вычисляем долю совпадающих пар от общего числа ключевых точек\n",
        "    k = min(len(kp1), len(kp2))\n",
        "    if k == 0: k = 0.01;\n",
        "    ratio = len(matches) / k\n",
        "\n",
        "    # Сравнение расстояния с порогом\n",
        "    if ratio > threshold:\n",
        "        return [1, ratio]\n",
        "    return [0, ratio]"
      ]
    },
    {
      "cell_type": "code",
      "execution_count": null,
      "metadata": {
        "id": "NRjNNArlGq2B"
      },
      "outputs": [],
      "source": [
        "def sobel_gradient(frame):\n",
        "  gray = cv2.cvtColor(frame, cv2.COLOR_BGR2GRAY)\n",
        "  sobel_x = cv2.Sobel(gray, cv2.CV_64F, 1, 0, ksize=3)\n",
        "  sobel_y = cv2.Sobel(gray, cv2.CV_64F, 0, 1, ksize=3)\n",
        "  abs_sobel_x = np.absolute(sobel_x)\n",
        "  abs_sobel_y = np.absolute(sobel_y)\n",
        "\n",
        "  sobel = np.add(abs_sobel_x, abs_sobel_y)\n",
        "  return sobel\n",
        "\n",
        "def compare_images(cur, prev, threshold):\n",
        "    gradient1 = sobel_gradient(cur)\n",
        "    gradient2 = sobel_gradient(image2)\n",
        "    metric = np.mean((gradient1 - gradient2) ** 2)\n",
        "    return metric % 250"
      ]
    },
    {
      "cell_type": "code",
      "execution_count": null,
      "metadata": {
        "id": "G4bBJjZiGq2B"
      },
      "outputs": [],
      "source": [
        "def frame_analysis(feature, cur, prev, threshold):\n",
        "    metric = feature(cur, prev)\n",
        "    if metric < threshold:\n",
        "        return [1, metric]\n",
        "    return [0, metric]"
      ]
    },
    {
      "cell_type": "code",
      "execution_count": null,
      "metadata": {
        "id": "z3c2eIKpGq2C"
      },
      "outputs": [],
      "source": [
        "prev = None\n",
        "def new_frame_analysis(feature, cur, idx, threshold, with_vis, scene_changes, vis, metric_values):\n",
        "    global prev\n",
        "    if idx == 0:\n",
        "        prev = cur\n",
        "\n",
        "    metric = feature(cur, prev)\n",
        "    if metric > threshold:\n",
        "        scene_changes.append(idx)\n",
        "        if with_vis:\n",
        "            # Кадры в памяти занимают много места, поэтому сохраним лишь первые 100 срабатываний\n",
        "            if len(vis) < 1000:\n",
        "                vis.append([prev, cur])\n",
        "\n",
        "    metric_values.append(metric)\n",
        "    prev = cur"
      ]
    },
    {
      "cell_type": "code",
      "execution_count": null,
      "metadata": {
        "scrolled": true,
        "id": "SaONMBgFGq2C"
      },
      "outputs": [],
      "source": [
        "def scene_change_detector(frames, threshold=0.8, with_vis=False):\n",
        "    scene_changes = []\n",
        "    vis = []\n",
        "    metric_values = []\n",
        "    prev_frahistme = None\n",
        "\n",
        "    for idx, frame in tqdm(enumerate(frames), leave=False):\n",
        "        if idx == 0:\n",
        "            prev_frame = frame\n",
        "            continue\n",
        "\n",
        "        res = frame_analysis(global_histogram_cosine_distance, frame, prev_frame, threshold)\n",
        "        if res[0]:\n",
        "            scene_changes.append(idx)\n",
        "            if with_vis:\n",
        "                # Кадры в памяти занимают много места, поэтому сохраним лишь первые 100 срабатываний\n",
        "                if len(vis) < 1000:\n",
        "                    vis.append([prev_frame, frame])\n",
        "\n",
        "        metric_values.append(res[1])\n",
        "        prev_frame = frame\n",
        "\n",
        "    return scene_changes, vis, metric_values"
      ]
    },
    {
      "cell_type": "code",
      "execution_count": null,
      "metadata": {
        "scrolled": true,
        "id": "lzBNZMtLGq2D"
      },
      "outputs": [],
      "source": [
        "from joblib import Parallel, delayed\n",
        "def scene_change_detector1(frames, threshold=200, with_vis=False):\n",
        "    scene_changes = []\n",
        "    vis = []\n",
        "    metric_values = []\n",
        "\n",
        "    Parallel(n_jobs=8, prefer=\"threads\")(delayed(new_frame_analysis)(global_histogram_cosine_distance, frame, idx, threshold, with_vis, scene_changes, vis, metric_values) for idx, frame in tqdm(enumerate(frames), leave=False))\n",
        "\n",
        "    return scene_changes, vis, metric_values"
      ]
    },
    {
      "cell_type": "code",
      "execution_count": null,
      "metadata": {
        "scrolled": true,
        "id": "lTNU-k7AGq2E"
      },
      "outputs": [],
      "source": [
        "frames = read_video(os.path.join('train_dataset', 'video', '04.mp4'))\n",
        "cuts_base = load_json_from_file(os.path.join('train_dataset', 'gt', '04.json'))['cut']\n",
        "scene_changes_base, vis_base, metric_values_base = scene_change_detector(frames,  with_vis=True)"
      ]
    },
    {
      "cell_type": "markdown",
      "metadata": {
        "id": "NopB3UmGGq2E"
      },
      "source": [
        "Посмотрим визуально, насколько сильно алгоритм ошибается, а также на значения метрики"
      ]
    },
    {
      "cell_type": "code",
      "execution_count": null,
      "metadata": {
        "scrolled": true,
        "id": "Qz81YUqoGq2F"
      },
      "outputs": [],
      "source": [
        "def visualize_metric_error(frame, prev_frame, value):\n",
        "    fig = plt.figure(figsize=(16,4))\n",
        "    plt.suptitle('Значение метрики на текущем кадре: {:.4f}'.format(value), fontsize=24)\n",
        "    ax = fig.add_subplot(1, 2, 1)\n",
        "    ax.imshow(prev_frame[:,:,::-1])\n",
        "    ax.set_title(\"Предыдущий кадр\", fontsize=18)\n",
        "    ax.set_xticks([])\n",
        "    ax.set_yticks([])\n",
        "    ax = fig.add_subplot(1, 2, 2)\n",
        "    ax.imshow(frame[:,:,::-1])\n",
        "    ax.set_title(\"Текущий кадр\", fontsize=18)\n",
        "    ax.set_xticks([])\n",
        "    ax.set_yticks([])\n",
        "    plt.subplots_adjust(top=0.80)"
      ]
    },
    {
      "cell_type": "code",
      "execution_count": null,
      "metadata": {
        "scrolled": true,
        "id": "uNTU7sa0Gq2F"
      },
      "outputs": [],
      "source": [
        "idx = 100\n",
        "visualize_metric_error(vis_base[idx][0], vis_base[idx][1], metric_values_base[scene_changes_base[idx]])\n",
        "sobel_gradient(vis_base[idx][0])\n",
        "sobel_gradient(vis_base[idx][1])\n",
        "# смена сцен"
      ]
    },
    {
      "cell_type": "code",
      "execution_count": null,
      "metadata": {
        "scrolled": true,
        "id": "IbzfEqMvGq2G"
      },
      "outputs": [],
      "source": [
        "idx = 10\n",
        "visualize_metric_error(vis_base[idx][0], vis_base[idx][1], metric_values_base[scene_changes_base[idx]])\n",
        "# ошибается, это не смена сцен"
      ]
    },
    {
      "cell_type": "code",
      "execution_count": null,
      "metadata": {
        "scrolled": true,
        "id": "bJouS-aEGq2G"
      },
      "outputs": [],
      "source": [
        "def visualize_metric_values(metric_values, threshold, cuts = None):\n",
        "    sns.set()\n",
        "    plt.figure(figsize=(16, 8))\n",
        "    plt.plot(metric_values, label='Значение метрики на кадрах')\n",
        "    plt.xlabel('Номер кадра')\n",
        "    plt.ylabel('Значение метрики')\n",
        "    plt.hlines(y=threshold, xmin=0, xmax=len(metric_values), linewidth=2, color='r', label='Пороговое значение')\n",
        "\n",
        "    if cuts is not None:\n",
        "        for cut in cuts:\n",
        "            plt.axvline(x=cut, color='k', linestyle=':', linewidth=0.5, label='Смена сцены')\n",
        "\n",
        "    handles, labels = plt.gca().get_legend_handles_labels()\n",
        "    by_label = dict(zip(labels, handles))\n",
        "    plt.legend(by_label.values(), by_label.keys())\n",
        "    plt.show()"
      ]
    },
    {
      "cell_type": "code",
      "execution_count": null,
      "metadata": {
        "scrolled": true,
        "id": "rTQ8JpZbGq2H"
      },
      "outputs": [],
      "source": [
        "visualize_metric_values(metric_values_base, 0.8, cuts_base)"
      ]
    },
    {
      "cell_type": "markdown",
      "metadata": {
        "id": "ccK-0g3NGq2I"
      },
      "source": [
        "**Как видим, очень плохо подобран порог, да и сам признак, похоже, сильно зашумлён. Попробуйте что-то своё!**"
      ]
    },
    {
      "cell_type": "markdown",
      "metadata": {
        "id": "G7Urx7W6Gq2I"
      },
      "source": [
        "### Ваше решение"
      ]
    },
    {
      "cell_type": "markdown",
      "metadata": {
        "id": "JYJSetODGq2b"
      },
      "source": [
        "* В качестве решения вы должны прикрепить функцию ниже. Все пороги должны быть указаны внутри функции.  \n",
        "Т.е. должен быть возможен вызов:  \n",
        "`scene_changes, vis, metric_values = scene_change_detector(frames)`  \n",
        "* Строку (# GRADED CELL: [function name]) менять **нельзя**. Она будет использоваться при проверке вашего решения.\n",
        "* Ячейка должна содержать только **одну** функцию."
      ]
    },
    {
      "cell_type": "code",
      "execution_count": null,
      "metadata": {
        "scrolled": true,
        "id": "zuZ6uYW4Gq2b"
      },
      "outputs": [],
      "source": [
        "# GRADED CELL: scene_change_detector\n",
        "\n",
        "def scene_change_detector(frames, threshold=None, with_vis=False):\n",
        "    scene_changes = []\n",
        "    vis = []\n",
        "    metric_values = []\n",
        "\n",
        "    ### START CODE HERE ###\n",
        "    # Ваши внешние переменные\n",
        "    ###  END CODE HERE  ###\n",
        "\n",
        "    for idx, frame in tqdm(enumerate(frames), leave=False):\n",
        "        # frame - это кадр\n",
        "        # idx - это номер кадра\n",
        "\n",
        "        ### START CODE HERE ###\n",
        "        # Основная часть вашего алгоритма\n",
        "        ###  END CODE HERE  ###\n",
        "        pass\n",
        "\n",
        "    return scene_changes, vis, metric_values"
      ]
    },
    {
      "cell_type": "code",
      "execution_count": null,
      "metadata": {
        "scrolled": true,
        "id": "3ZGDSXQJGq2c"
      },
      "outputs": [],
      "source": [
        "frames = read_video(os.path.join('train_dataset', 'video', '03.mp4'))\n",
        "cuts = load_json_from_file(os.path.join('train_dataset', 'gt', '03.json'))['cut']\n",
        "scene_changes, vis, metric_values = scene_change_detector(frames, with_vis=True)"
      ]
    },
    {
      "cell_type": "markdown",
      "metadata": {
        "id": "gHZ04HyxGq2d"
      },
      "source": [
        "#### Обратите внимание на скорость работы алгоритма! ####\n",
        "Если вычислять признаки без циклов по пикселям, а пользоваться методами из numpy, то скорость будет не медленнее 7-8 кадров в секунду.\n",
        "Например, вы можете использовать функцию `np.histogram` или `cv2.calcHist` для подсчёта гистограмм, а `cv2.Sobel` для применения оператора Собеля к кадру."
      ]
    },
    {
      "cell_type": "code",
      "execution_count": null,
      "metadata": {
        "scrolled": true,
        "id": "PQ77-PwYGq2d"
      },
      "outputs": [],
      "source": [
        "#Посмотрим на найденные смены сцен\n",
        "idx = 1\n",
        "visualize_metric_error(vis[idx][0], vis[idx][1], metric_values[scene_changes[idx]])"
      ]
    },
    {
      "cell_type": "code",
      "execution_count": null,
      "metadata": {
        "id": "3bEBEmaUGq2e"
      },
      "outputs": [],
      "source": [
        "#Посмотрим на значения метрики\n",
        "visualize_metric_values(metric_values, 2000, cuts)"
      ]
    },
    {
      "cell_type": "markdown",
      "metadata": {
        "id": "ImBk20itGq2e"
      },
      "source": [
        "### Подсчёт метрики F1-Score"
      ]
    },
    {
      "cell_type": "markdown",
      "metadata": {
        "id": "-5OZkKqJGq2f"
      },
      "source": [
        "Чтобы оценивать алгоритм и научиться сравнивать несколько алгоритмов, нужна метрика качества. В данной задаче для оценки качества алгоритма используется F1-Score. Преимущества использования этой метрики к текущей постановке задачи смены сцен были рассказаны на лекции, напишем только формулы:\n",
        "$$precision = \\frac{tp}{tp+fp}$$\n",
        "$$recall = \\frac{tp}{tp+fn}$$\n",
        "$$F = 2 * \\frac{precision * recall}{precision+recall}$$"
      ]
    },
    {
      "cell_type": "markdown",
      "metadata": {
        "id": "KDYA9SYFGq2f"
      },
      "source": [
        "На всякий случай опишем как именно происходит подсчёт метрики для видео\n",
        "\n",
        "1) Сначала из выборки удаляются все кадры, которые по разметке либо являются сложными переходами между сценами, либо помечены как сложные для анализа и разметки (например, титры/обилие компьютерной графики и т.п)\n",
        "\n",
        "\n",
        "2) Затем для оставшихся кадров уже подсчитывается F1_Score"
      ]
    },
    {
      "cell_type": "code",
      "execution_count": null,
      "metadata": {
        "scrolled": true,
        "id": "wuqJgLajGq2f"
      },
      "outputs": [],
      "source": [
        "#Эти пять клеток кода править не нужно\n",
        "def calculate_matrix(true_scd, predicted_scd, scene_len, not_to_use_frames=set()):\n",
        "    predicted_scd = set(predicted_scd)\n",
        "    tp, fp, tn, fn = 0, 0, 0, 0\n",
        "    scene_len = scene_len\n",
        "    for scd in predicted_scd:\n",
        "        if scd in true_scd:\n",
        "            tp += 1\n",
        "        elif scd not in not_to_use_frames:\n",
        "            fp += 1\n",
        "    for scd in true_scd:\n",
        "        if scd not in predicted_scd:\n",
        "            fn += 1\n",
        "    tn = scene_len - len(not_to_use_frames) - tp - fp - fn\n",
        "    return tp, fp, tn, fn"
      ]
    },
    {
      "cell_type": "code",
      "execution_count": null,
      "metadata": {
        "scrolled": true,
        "id": "aWzrdSoXGq2g"
      },
      "outputs": [],
      "source": [
        "def calculate_precision(tp, fp, tn, fn):\n",
        "    return tp / max(1, (tp + fp))"
      ]
    },
    {
      "cell_type": "code",
      "execution_count": null,
      "metadata": {
        "scrolled": true,
        "id": "PsG-sih-Gq2g"
      },
      "outputs": [],
      "source": [
        "def calculate_recall(tp, fp, tn, fn):\n",
        "    return tp / max(1, (tp + fn))"
      ]
    },
    {
      "cell_type": "code",
      "execution_count": null,
      "metadata": {
        "scrolled": true,
        "id": "AdXstNFdGq2h"
      },
      "outputs": [],
      "source": [
        "def f1_score(true_scd, predicted_scd, scene_len, not_to_use_frames=set()):\n",
        "    tp, fp, tn, fn = calculate_matrix(true_scd, predicted_scd, scene_len, not_to_use_frames)\n",
        "    precision_score = calculate_precision(tp, fp, tn, fn)\n",
        "    recall_score = calculate_recall(tp, fp, tn, fn)\n",
        "    if precision_score + recall_score == 0:\n",
        "        return 0\n",
        "    else:\n",
        "        return 2 * precision_score * recall_score / (precision_score + recall_score)"
      ]
    },
    {
      "cell_type": "code",
      "execution_count": null,
      "metadata": {
        "scrolled": true,
        "id": "Jy3cKzc3Gq2h"
      },
      "outputs": [],
      "source": [
        "def f1_score_matrix(tp, fp, tn, fn):\n",
        "    precision_score = calculate_precision(tp, fp, tn, fn)\n",
        "    recall_score = calculate_recall(tp, fp, tn, fn)\n",
        "    if precision_score + recall_score == 0:\n",
        "        return 0\n",
        "    else:\n",
        "        return 2 * precision_score * recall_score / (precision_score + recall_score)"
      ]
    },
    {
      "cell_type": "markdown",
      "metadata": {
        "id": "b8fRoGLqGq2i"
      },
      "source": [
        "## Придумываем признаки ##"
      ]
    },
    {
      "cell_type": "code",
      "execution_count": null,
      "metadata": {
        "id": "ElpY5jSHGq2i"
      },
      "outputs": [],
      "source": [
        "from joblib import Parallel, delayed\n",
        "import pandas as pd"
      ]
    },
    {
      "cell_type": "code",
      "execution_count": null,
      "metadata": {
        "id": "jAq3vnAoGq2j"
      },
      "outputs": [],
      "source": [
        "dataset_path = '/content/drive/MyDrive/mozhet/solution_template/train_dataset'\n",
        "\n",
        "train_data = load_json_from_file(os.path.join(dataset_path, 'info.json'))"
      ]
    },
    {
      "cell_type": "code",
      "execution_count": null,
      "metadata": {
        "id": "BhRTYyaMGq2j"
      },
      "outputs": [],
      "source": [
        "from sklearn.model_selection import train_test_split\n",
        "\n",
        "# Разделить выборку на тренировочную и валидационную. В валидационной выборке окажется 20% всех примеров\n",
        "train, test = train_test_split(train_data, test_size=0.2)"
      ]
    },
    {
      "cell_type": "code",
      "execution_count": null,
      "metadata": {
        "id": "b4mrGnVUGq2k"
      },
      "outputs": [],
      "source": [
        "train = [{'source': 'video/14.mp4', 'scene_change': 'gt/14.json', 'len': 2326},\n",
        " {'source': 'video/05.mp4', 'scene_change': 'gt/05.json', 'len': 5662},\n",
        " {'source': 'video/21.mp4', 'scene_change': 'gt/21.json', 'len': 4898},\n",
        " {'source': 'video/04.mp4', 'scene_change': 'gt/04.json', 'len': 3392},\n",
        " {'source': 'video/10.mp4', 'scene_change': 'gt/10.json', 'len': 6096},\n",
        " {'source': 'video/03.mp4', 'scene_change': 'gt/03.json', 'len': 3250},\n",
        " {'source': 'video/22.mp4', 'scene_change': 'gt/22.json', 'len': 7749},\n",
        " {'source': 'video/07.mp4', 'scene_change': 'gt/07.json', 'len': 3321}]"
      ]
    },
    {
      "cell_type": "code",
      "execution_count": null,
      "metadata": {
        "id": "e5CrnEvLGq2l"
      },
      "outputs": [],
      "source": [
        "test = [{'source': 'video/17.mp4', 'scene_change': 'gt/17.json', 'len': 2905},\n",
        " {'source': 'video/08.mp4', 'scene_change': 'gt/08.json', 'len': 3396}]"
      ]
    },
    {
      "cell_type": "code",
      "execution_count": null,
      "metadata": {
        "id": "ExJ0khZKGq2t"
      },
      "outputs": [],
      "source": [
        "def color_histogram(cur, prev):\n",
        "    # Разделение изображений на каналы BGR\n",
        "    b1, g1, r1 = cv2.split(prev)\n",
        "    b2, g2, r2 = cv2.split(cur)\n",
        "\n",
        "    # Вычисление гистограмм для каждого канала\n",
        "    hist_b1, _ = np.histogram(b1, bins=256, range=(0, 256))\n",
        "    hist_g1, _ = np.histogram(g1, bins=256, range=(0, 256))\n",
        "    hist_r1, _ = np.histogram(r1, bins=256, range=(0, 256))\n",
        "    hist_b2, _ = np.histogram(b2, bins=256, range=(0, 256))\n",
        "    hist_g2, _ = np.histogram(g2, bins=256, range=(0, 256))\n",
        "    hist_r2, _ = np.histogram(r2, bins=256, range=(0, 256))\n",
        "\n",
        "    # Нормализация гистограмм\n",
        "    hist_b1 = hist_b1 / np.sum(hist_b1)\n",
        "    hist_g1 = hist_g1 / np.sum(hist_g1)\n",
        "    hist_r1 = hist_r1 / np.sum(hist_r1)\n",
        "    hist_b2 = hist_b2 / np.sum(hist_b2)\n",
        "    hist_g2 = hist_g2 / np.sum(hist_g2)\n",
        "    hist_r2 = hist_r2 / np.sum(hist_r2)\n",
        "\n",
        "    # Вычисление корреляции для каждого канала\n",
        "    b = np.corrcoef(hist_b1, hist_b2)[0, 1]\n",
        "    g = np.corrcoef(hist_g1, hist_g2)[0, 1]\n",
        "    r = np.corrcoef(hist_r1, hist_r2)[0, 1]\n",
        "\n",
        "    metrics = [b, g, r]\n",
        "    # Средняя корреляция по всем каналам\n",
        "    metric = np.min(metrics)\n",
        "\n",
        "    return metric"
      ]
    },
    {
      "cell_type": "code",
      "execution_count": null,
      "metadata": {
        "id": "aWO9U12NGq2u"
      },
      "outputs": [],
      "source": [
        "def global_histogram_cosine_distance(cur, prev):\n",
        "    gray1 = cv2.cvtColor(prev, cv2.COLOR_BGR2GRAY)\n",
        "    hist1, _ = np.histogram(gray1, bins=256, range=(0, 256))\n",
        "    gray2 = cv2.cvtColor(cur, cv2.COLOR_BGR2GRAY)\n",
        "    hist2, _ = np.histogram(gray2, bins=256, range=(0, 256))\n",
        "[{'source': 'video/14.mp4', 'scene_change': 'gt/14.json', 'len': 2326},\n",
        " {'source': 'video/05.mp4', 'scene_change': 'gt/05.json', 'len': 5662},\n",
        " {'source': 'video/21.mp4', 'scene_change': 'gt/21.json', 'len': 4898},\n",
        " {'source': 'video/04.mp4', 'scene_change': 'gt/04.json', 'len': 3392},\n",
        " {'source': 'video/10.mp4', 'scene_change': 'gt/10.json', 'len': 6096},\n",
        " {'source': 'video/03.mp4', 'scene_change': 'gt/03.json', 'len': 3250},\n",
        " {'source': 'video/22.mp4', 'scene_change': 'gt/22.json', 'len': 7749},\n",
        " {'source': 'video/07.mp4', 'scene_change': 'gt/07.json', 'len': 3321}]\n",
        "    metric = (hist1 @ hist2) / np.linalg.norm(hist1) / np.linalg.norm(hist2)\n",
        "\n",
        "    return metric"
      ]
    },
    {
      "cell_type": "code",
      "execution_count": null,
      "metadata": {
        "id": "i69ZC1EeGq2u"
      },
      "outputs": [],
      "source": [
        "def global_histogram_euclidian_distance(cur, prev):\n",
        "    gray1 = cv2.cvtColor(prev, cv2.COLOR_BGR2GRAY)\n",
        "    hist1, _ = np.histogram(gray1, bins=256, range=(0, 256))\n",
        "    gray2 = cv2.cvtColor(cur, cv2.COLOR_BGR2GRAY)\n",
        "    hist2, _ = np.histogram(gray2, bins=256, range=(0, 256))\n",
        "\n",
        "    metric = np.linalg.norm(hist1-hist2)\n",
        "\n",
        "    return metric"
      ]
    },
    {
      "cell_type": "code",
      "execution_count": null,
      "metadata": {
        "id": "OgVJ-MnSGq2v"
      },
      "outputs": [],
      "source": [
        "def L2(cur, prev):\n",
        "    metric = np.linalg.norm(cur-prev)\n",
        "    return metric"
      ]
    },
    {
      "cell_type": "code",
      "execution_count": null,
      "metadata": {
        "id": "ne0eBjyVGq2v"
      },
      "outputs": [],
      "source": [
        "def block_histogram(cur, prev, size, feature, m):\n",
        "    block_size = size\n",
        "    h_blocks = cur.shape[0] // block_size\n",
        "    w_blocks = cur.shape[1] // block_size\n",
        "\n",
        "    metrics = []\n",
        "\n",
        "    # Перебираем все блоки в кадре\n",
        "    for i in range(h_blocks):\n",
        "        for j in range(w_blocks):\n",
        "            # Вырезаем блок из кадра\n",
        "            block_cur = cur[i*block_size:(i+1)*block_size, j*block_size:(j+1)*block_size]\n",
        "            block_prev = prev[i*block_size:(i+1)*block_size, j*block_size:(j+1)*block_size]\n",
        "\n",
        "            metrics.append(feature(block_cur, block_prev))\n",
        "\n",
        "    # Вычисляем среднее значение мер подобия для всех блоков\n",
        "    if m == \"mean\":\n",
        "        metric = np.mean(metrics)\n",
        "    elif m == \"median\":\n",
        "        metric = np.median(metrics)\n",
        "    elif m == \"min\":\n",
        "        metric = np.min(metrics)\n",
        "    elif m == \"max\":\n",
        "        metric = np.max(metrics)\n",
        "\n",
        "    return metric"
      ]
    },
    {
      "cell_type": "code",
      "execution_count": null,
      "metadata": {
        "id": "XV0tHARdGq2w"
      },
      "outputs": [],
      "source": [
        "def sobel_gradient(frame):\n",
        "    gray = cv2.cvtColor(frame, cv2.COLOR_BGR2GRAY)\n",
        "    sobel_x = cv2.Sobel(gray, cv2.CV_64F, 1, 0, ksize=3)\n",
        "    sobel_y = cv2.Sobel(gray, cv2.CV_64F, 0, 1, ksize=3)\n",
        "    abs_sobel_x = np.absolute(sobel_x)\n",
        "    abs_sobel_y = np.absolute(sobel_y)\n",
        "\n",
        "    sobel = np.add(abs_sobel_x, abs_sobel_y)\n",
        "    return sobel\n",
        "\n",
        "def sobel_compare_images(cur, prev):\n",
        "    gradient1 = sobel_gradient(cur)\n",
        "    gradient2 = sobel_gradient(prev)\n",
        "    metric = np.mean((gradient1 - gradient2) ** 2)\n",
        "    return metric"
      ]
    },
    {
      "cell_type": "code",
      "execution_count": null,
      "metadata": {
        "id": "gZLja0Z0Gq2w"
      },
      "outputs": [],
      "source": [
        "from types import NoneType\n",
        "def ORB(cur, prev):\n",
        "    # Initiate ORB detector\n",
        "    orb = cv2.ORB_create()\n",
        "\n",
        "    cur = cv2.cvtColor(cur, cv2.COLOR_BGR2GRAY)\n",
        "    prev = cv2.cvtColor(prev, cv2.COLOR_BGR2GRAY)\n",
        "\n",
        "    # find the keypoints and descriptors with ORB\n",
        "    kp1, des1 = orb.detectAndCompute(cur,None)\n",
        "    kp2, des2 = orb.detectAndCompute(prev,None)\n",
        "\n",
        "    if type(des1)==NoneType or type(des2)==NoneType:\n",
        "        return 0\n",
        "\n",
        "    # create BFMatcher object\n",
        "    bf = cv2.BFMatcher(cv2.NORM_L2, crossCheck=True)\n",
        "\n",
        "    # Match descriptors.\n",
        "    matches = bf.match(des1,des2)\n",
        "\n",
        "    # Sort them in the order of their distance.\n",
        "    matches = sorted(matches, key = lambda x:x.distance)\n",
        "\n",
        "    # Вычисляем долю совпадающих пар от общего числа ключевых точек\n",
        "    k = min(len(kp1), len(kp2))\n",
        "    if k == 0: k = 1;\n",
        "    ratio = len(matches) / k\n",
        "    return ratio"
      ]
    },
    {
      "cell_type": "code",
      "execution_count": null,
      "metadata": {
        "id": "iBpyC41DGq2x"
      },
      "outputs": [],
      "source": [
        "def OpticalFlow(cur, prev):\n",
        "    curr_gray = cv2.cvtColor(cur, cv2.COLOR_BGR2GRAY)\n",
        "    prev_gray = cv2.cvtColor(prev, cv2.COLOR_BGR2GRAY)\n",
        "\n",
        "    prev_pts = cv2.goodFeaturesToTrack(prev_gray, maxCorners=100, qualityLevel=0.3, minDistance=7, blockSize=7)\n",
        "\n",
        "    if type(prev_pts)==NoneType:\n",
        "        return 0\n",
        "\n",
        "    prev_pts = prev_pts.astype(np.float32)\n",
        "    curr_pts, status, _ = cv2.calcOpticalFlowPyrLK(prev_gray, curr_gray, prev_pts, None)\n",
        "\n",
        "    if type(curr_pts)==NoneType:\n",
        "        return 0\n",
        "\n",
        "    curr_pts = curr_pts.astype(np.float32)\n",
        "\n",
        "    flow = cv2.norm(curr_pts - prev_pts, cv2.NORM_L2)\n",
        "\n",
        "    return flow"
      ]
    },
    {
      "cell_type": "code",
      "execution_count": null,
      "metadata": {
        "id": "DveA0nJYGq2y"
      },
      "outputs": [],
      "source": [
        "def features_function(cur, prev):\n",
        "    return {\n",
        "        # 'global_histogram_cosine_distance': global_histogram_cosine_distance(cur, prev),\n",
        "        # 'color_histogram_min': color_histogram(cur, prev),\n",
        "        # 'OpticalFlow': OpticalFlow(cur, prev),\n",
        "        # 'sobel_compare_images': sobel_compare_images(cur, prev),\n",
        "        # 'ORB': ORB(cur, prev),\n",
        "        # 'global_histogram_euclidian_distance': global_histogram_euclidian_distance(cur, prev),\n",
        "        # 'L2': L2(cur, prev),\n",
        "        'block_histogram': block_histogram(cur, prev, 150, global_histogram_cosine_distance, \"mean\")\n",
        "    }"
      ]
    },
    {
      "cell_type": "code",
      "execution_count": null,
      "metadata": {
        "id": "OjmowZNwGq2y"
      },
      "outputs": [],
      "source": [
        "def generate_table(prev, cur, cuts, idx, threshold=0.8):\n",
        "    cuts = set(cuts)\n",
        "    current_features = {}\n",
        "    metric = features_function(cur, prev)\n",
        "    current_features.update(metric)\n",
        "    current_features['is_frame_change'] = 1 if idx in cuts else 0\n",
        "    return current_features"
      ]
    },
    {
      "cell_type": "code",
      "execution_count": null,
      "metadata": {
        "id": "y3HlHi0yGq2z"
      },
      "outputs": [],
      "source": [
        "train_features = pd.DataFrame()"
      ]
    },
    {
      "cell_type": "code",
      "execution_count": null,
      "metadata": {
        "id": "b1hjXHkgGq29"
      },
      "outputs": [],
      "source": [
        "test_features = pd.DataFrame()"
      ]
    },
    {
      "cell_type": "code",
      "execution_count": null,
      "metadata": {
        "id": "Vi9SwzP7Gq2_"
      },
      "outputs": [],
      "source": [
        "def f(n):\n",
        "    yield from range(3)\n",
        "    return\n",
        "\n",
        "gen = f(3)\n",
        "gen_shifted = f(3)\n",
        "next(gen_shifted)\n",
        "print(list(zip(gen, gen_shifted)))"
      ]
    },
    {
      "cell_type": "code",
      "execution_count": null,
      "metadata": {
        "colab": {
          "base_uri": "https://localhost:8080/",
          "height": 305,
          "referenced_widgets": [
            "d899c14a73294320aa1badd4acffa401",
            "f6a2c04adcd945b6bc730451f4d9141e",
            "c2fd18920d65421dba0132e1cbd54382",
            "b129396e48764ccfafeb9445c09bd092",
            "2678ca82526c43118e42b44b1154d126",
            "1bc49e1279db4c23b829854d7e4cc239",
            "9c525bc2c13842e9bc276535d2cda16c",
            "6ccb1e22536843a883639a7ce23ca66d",
            "9a038be96eb4429490f598fcaf1c81b9",
            "9615ef5dd0d945dba47d5941e5b5c59a",
            "8f51528b567b47c2a8443c6cd7ab7b36",
            "c1e68e045fb2424c993fb6ad551339cc",
            "f12b4b94185c4bc4ba72d0eabaf64b15",
            "b907a79f29994008ab12d4154e7c2361",
            "04a75253b7634d1a9a761cb986442685",
            "5009cb2cffc64a4cb8fc74a4ba99cfb8",
            "6f416bb80511453088ec1f974a8c6eee",
            "82f4b75218f64d6ba936eba77a35a757",
            "4a5dca5105574fd3bdb18ed74cc030c7",
            "7fa39641b2ac479f9d180ba6c361aef5",
            "98632ef50caf4e57b7564cfe42e0aa16",
            "f2b7629fb0d442ed90cf1e5fda1a7163",
            "b19644ae26594a0ca3f402441c9df0aa",
            "f8e4eb15799e408f8e940c4214b7501f",
            "49b705200d884a5f86d1d11731c29e20",
            "3be80ec7238040e7a8bacdbcc8649d85",
            "1f52d63fabcc4bd7810b164044698cd1",
            "065b8c5724b14f34b951c424eb37fb01",
            "8704ce02d68a4d54a4098b4c18c428ac",
            "c41775b054e54a3eb8db27ef79594b77",
            "09c43cfd938a4b05be2f16d5a03a0046",
            "7c99503427824edab996d03b1c675cf4",
            "2b35e2c563fa45af9107d57fb2fe490c",
            "49e0c0f375f042948cd47e63fe91ff2e",
            "7521551364e4453d982896e5a6eb309b",
            "44413d9e02ee483e824a5d2a5722c210",
            "aa77ccf7a5804a5b913d08b981b772a9",
            "e58e5896739b444d91e22476218a7377",
            "95f02876fb3046159a6e0eee09380041",
            "697f5e2d5db64d39ba253bfe44a19384",
            "73c986fe332c480ba51c5f831cdb8444",
            "41905236c93a4b6d86ac8b18ce0b96c8",
            "1227a706341446499937f11c044be36e",
            "e2cc1cc8b75a4fd5a3391c357fb0ab04",
            "cf8712bdec2d464283a07ec5fa3078bc",
            "ae5afb2978b140c198a039bbb96ec127",
            "84157ec7701c46d6999ab0dc5376cacb",
            "4eaeaa64472a4bb4b23b3c40735b6cdc",
            "8dcca81933c9495882f0e6ad45e9e96d",
            "a8ba0420809d4285ac7df6faccbb1f03",
            "2e71c3cd55e643e6931b42f37b75b6cd",
            "930646f21ff94956852de39bf109c46f",
            "66b0b88ce57a46c187ec2c62bd9900aa",
            "6b4845af77f642baa8a044a22ba7adb1",
            "f277dc00e7f24db8a3d792353396f210",
            "96961a5557b744519bc776dc36eca0f1",
            "0cf0f686376f4f5b8da32d887167fd8e",
            "8d82e10829774c5db8ba4ef3e4a2c4b7",
            "d19ab7dd85434b50962c2daea9cc8a4e",
            "a0ac862a905c43aeb50679e1bbf91a72",
            "2813c6f427f045c8a346c1b3eb9cb54f",
            "a5e26649882949839006ee53ebbee827",
            "ad6ee683be1f43dfa1f52d2afca5fe4d",
            "f73ea6b86b62438483a7bc22c8f6e87f",
            "ab70525ba4604861af82563f4363bdc5",
            "eeae9cb487374c8abd2641e659644dcb",
            "f5dfdfaaa93e46859f0de985625e31e7",
            "4ccab720f7864bb9959de790e9e11000",
            "49743429fbc044bc8d99f67a7d4e0344",
            "9701007bd469471fa90c4653dd400b88",
            "0288ce23e01149af8cf57c61ac7ba34f",
            "e4a98008156e452e8cba47b4dff63f33",
            "0701833e30b84e4595537eeb8e25a668",
            "ca117c5c7d7f4c3eb9d4020d8274b981",
            "057c72f078e742559276cd62a0f7d552",
            "1f791961c144467fa705b954489910bd",
            "e8bb677d17b147bba74fb823f423e868",
            "5f139d7cde1443e2b48bc9c8f3674bec",
            "76f745f0662e43a38c9b2ea8973ebb6a",
            "b1da81d3fb654841b42140695e38bab5",
            "f0cfa6c5d5de4e2b897e7af66897671e",
            "e5bf8e92d20642439339d361d1320d8f",
            "b408d36d49b049d59bb26e6f467a4cde",
            "8dde7c23e3af435bb7e2af241edf7f2c",
            "c3ba93b6741043cb91de5ea4ab2590df",
            "3a90b6f95ca743c0b5ce83f1d586a0b1",
            "15ec237b971c47c9af10136e378ddd67",
            "b0f7ccfb55aa4cbf8f864980a4437f86",
            "8d87dffdf890475388cbcd025789ce58",
            "a2331d8ca7bf4630b6f27e0e96cef652",
            "855eb29ea9a54acd8f0c3fa6125ebe14",
            "51cbb24dd3314ffb8db26f6efafefe64",
            "41e2e2851f5c4c799bd229a565645ed1",
            "5a826db7c62a47bdafa1b3c466287b37",
            "3e313cf3cf324797b94deec16b282255",
            "bc5105137de64d4ca3d5ba43408bfdab",
            "b238afae3f964a73b46a1b6ff03949f1",
            "8cf287b4b52141dd8dd8dcb9198ed478",
            "d9ba7bf28c0543c7a9b97af97c19eebb"
          ]
        },
        "id": "fdXmAJNaGq3D",
        "outputId": "aca5c57f-229a-4652-ae4d-12bfdddfac39"
      },
      "outputs": [
        {
          "output_type": "display_data",
          "data": {
            "text/plain": [
              "  0%|          | 0/8 [00:00<?, ?it/s]"
            ],
            "application/vnd.jupyter.widget-view+json": {
              "version_major": 2,
              "version_minor": 0,
              "model_id": "d899c14a73294320aa1badd4acffa401"
            }
          },
          "metadata": {}
        },
        {
          "output_type": "display_data",
          "data": {
            "text/plain": [
              "0it [00:00, ?it/s]"
            ],
            "application/vnd.jupyter.widget-view+json": {
              "version_major": 2,
              "version_minor": 0,
              "model_id": "c1e68e045fb2424c993fb6ad551339cc"
            }
          },
          "metadata": {}
        },
        {
          "output_type": "display_data",
          "data": {
            "text/plain": [
              "0it [00:00, ?it/s]"
            ],
            "application/vnd.jupyter.widget-view+json": {
              "version_major": 2,
              "version_minor": 0,
              "model_id": "b19644ae26594a0ca3f402441c9df0aa"
            }
          },
          "metadata": {}
        },
        {
          "output_type": "display_data",
          "data": {
            "text/plain": [
              "0it [00:00, ?it/s]"
            ],
            "application/vnd.jupyter.widget-view+json": {
              "version_major": 2,
              "version_minor": 0,
              "model_id": "49e0c0f375f042948cd47e63fe91ff2e"
            }
          },
          "metadata": {}
        },
        {
          "output_type": "display_data",
          "data": {
            "text/plain": [
              "0it [00:00, ?it/s]"
            ],
            "application/vnd.jupyter.widget-view+json": {
              "version_major": 2,
              "version_minor": 0,
              "model_id": "cf8712bdec2d464283a07ec5fa3078bc"
            }
          },
          "metadata": {}
        },
        {
          "output_type": "display_data",
          "data": {
            "text/plain": [
              "0it [00:00, ?it/s]"
            ],
            "application/vnd.jupyter.widget-view+json": {
              "version_major": 2,
              "version_minor": 0,
              "model_id": "96961a5557b744519bc776dc36eca0f1"
            }
          },
          "metadata": {}
        },
        {
          "output_type": "display_data",
          "data": {
            "text/plain": [
              "0it [00:00, ?it/s]"
            ],
            "application/vnd.jupyter.widget-view+json": {
              "version_major": 2,
              "version_minor": 0,
              "model_id": "f5dfdfaaa93e46859f0de985625e31e7"
            }
          },
          "metadata": {}
        },
        {
          "output_type": "display_data",
          "data": {
            "text/plain": [
              "0it [00:00, ?it/s]"
            ],
            "application/vnd.jupyter.widget-view+json": {
              "version_major": 2,
              "version_minor": 0,
              "model_id": "5f139d7cde1443e2b48bc9c8f3674bec"
            }
          },
          "metadata": {}
        },
        {
          "output_type": "display_data",
          "data": {
            "text/plain": [
              "0it [00:00, ?it/s]"
            ],
            "application/vnd.jupyter.widget-view+json": {
              "version_major": 2,
              "version_minor": 0,
              "model_id": "8d87dffdf890475388cbcd025789ce58"
            }
          },
          "metadata": {}
        }
      ],
      "source": [
        "for video_train in tqdm(train):\n",
        "    frames_train = read_video(os.path.join(dataset_path, video_train['source']))\n",
        "    frames_train_shifted = read_video(os.path.join(dataset_path, video_train['source']))\n",
        "    next(frames_train_shifted)\n",
        "    frames_train = zip(frames_train, frames_train_shifted)\n",
        "    cuts_train = load_json_from_file(os.path.join(dataset_path, video_train['scene_change']))['cut']\n",
        "\n",
        "    train_features_cur = []\n",
        "\n",
        "    # for idx, prev_cur in tqdm(enumerate(frames_train, 1)):\n",
        "    #     prev, cur = prev_cur\n",
        "    #     train_features_cur.append(generate_table(cur, prev, cuts_train, idx))\n",
        "\n",
        "    train_features_cur = Parallel(n_jobs=2, prefer=\"threads\")(\n",
        "        delayed(generate_table)(\n",
        "            prev_cur[0], prev_cur[1], cuts_train, idx) for idx, prev_cur in tqdm(enumerate(frames_train, 1)))\n",
        "\n",
        "    train_features_cur = pd.DataFrame(train_features_cur)\n",
        "    train_features = pd.concat([train_features_cur, train_features], ignore_index=True)"
      ]
    },
    {
      "cell_type": "code",
      "execution_count": null,
      "metadata": {
        "colab": {
          "base_uri": "https://localhost:8080/",
          "height": 113,
          "referenced_widgets": [
            "eeba12f6b4cf49c2b33dc47d9ca6ef99",
            "d6ef8d1ccf244f49a21b740c0b757f78",
            "bd032c21ca934e2e803ede1830bcf2f9",
            "bab635f0345e4c17aa36d98527be6993",
            "5fc776086acd427f9be77dc9b19022c2",
            "e966d92af1074580b213649158c79be7",
            "8e0a9678f57a44e8bef88a06a6c201d8",
            "fea5cce04f3043ba8b263741d21d7a90",
            "f77a5c2a80214d0b847793bb60beeda8",
            "19622c2553994737a6994e952699a154",
            "fc4784f7993548339d215a770ec064a9",
            "1e4b8604c98049488058cabfeaea6553",
            "eb8ef067cbff4179931982f7e785c472",
            "3c9a6fa541014fb98ab9059825ea5d79",
            "ee373c33cf2945bb99e22d5fa7ecf8df",
            "1a2da5f93af54278a8d42dfffec8a2dd",
            "2ef50185f3164346af8ff539020c73e8",
            "c9f7067b79ab4f40bc40f7c78f104a54",
            "dda1945705024c40a91caadb62c434f7",
            "4db8b73f2d754a5da2de1e499719c4e0",
            "49b4245add1241d19f7d7202962dc0fc",
            "259cf0bff38747a3be09580689dccd52",
            "d70e47b25fe745ffa2a17493514f83f0",
            "be68bbc3ca894aa6a03c6ebc4f237bc4",
            "e35c8ed1a95745cb95475ab082bfdd08",
            "c542767e693b4ebea4d561abe06cf925",
            "7121acfd13d4458baf97961ce6dd9cc4",
            "385bc6fdceb947d38e01484f000fe6cd",
            "0d9a0a8214a144c784ea93ab53bc89fb",
            "c42a8c7df4a04d7eb34c54f4263474ad",
            "6bbacc2e079c4500b944f6b51f9a6e35",
            "57e034f94a914081a02ef55737bf5323",
            "efb4d56bc0444d5884ff5fe462dafccb"
          ]
        },
        "id": "9QQWi2CWGq3K",
        "outputId": "502ca75d-6511-449d-f3af-b1a3d5c72cf7"
      },
      "outputs": [
        {
          "output_type": "display_data",
          "data": {
            "text/plain": [
              "  0%|          | 0/2 [00:00<?, ?it/s]"
            ],
            "application/vnd.jupyter.widget-view+json": {
              "version_major": 2,
              "version_minor": 0,
              "model_id": "eeba12f6b4cf49c2b33dc47d9ca6ef99"
            }
          },
          "metadata": {}
        },
        {
          "output_type": "display_data",
          "data": {
            "text/plain": [
              "0it [00:00, ?it/s]"
            ],
            "application/vnd.jupyter.widget-view+json": {
              "version_major": 2,
              "version_minor": 0,
              "model_id": "1e4b8604c98049488058cabfeaea6553"
            }
          },
          "metadata": {}
        },
        {
          "output_type": "display_data",
          "data": {
            "text/plain": [
              "0it [00:00, ?it/s]"
            ],
            "application/vnd.jupyter.widget-view+json": {
              "version_major": 2,
              "version_minor": 0,
              "model_id": "d70e47b25fe745ffa2a17493514f83f0"
            }
          },
          "metadata": {}
        }
      ],
      "source": [
        "for video_test in tqdm(test):\n",
        "    frames_test = read_video(os.path.join(dataset_path, video_test['source']))\n",
        "    frames_test_shifted = read_video(os.path.join(dataset_path, video_test['source']))\n",
        "    next(frames_test_shifted)\n",
        "    frames_test = zip(frames_test, frames_test_shifted)\n",
        "    cuts_test = load_json_from_file(os.path.join(dataset_path, video_test['scene_change']))['cut']\n",
        "\n",
        "    test_features_cur = []\n",
        "\n",
        "    # for idx, prev_cur in tqdm(enumerate(frames_train, 1)):\n",
        "    #     prev, cur = prev_cur\n",
        "    #     train_features_cur.append(generate_table(cur, prev, cuts_train, idx))\n",
        "\n",
        "    test_features_cur = Parallel(n_jobs=2, prefer=\"threads\")(\n",
        "        delayed(generate_table)(\n",
        "            prev_cur[0], prev_cur[1], cuts_test, idx) for idx, prev_cur in tqdm(enumerate(frames_test, 1)))\n",
        "\n",
        "    test_features_cur = pd.DataFrame(test_features_cur)\n",
        "    test_features = pd.concat([test_features_cur,test_features], ignore_index=True)"
      ]
    },
    {
      "cell_type": "code",
      "execution_count": null,
      "metadata": {
        "id": "TAUv4_oSGq3L"
      },
      "outputs": [],
      "source": [
        "test_features.to_csv(\"/content/drive/MyDrive/mozhet/test_features_block_hist.csv\")"
      ]
    },
    {
      "cell_type": "code",
      "source": [
        "train_features.to_csv(\"/content/drive/MyDrive/mozhet/train_features_block_hist.csv\")"
      ],
      "metadata": {
        "id": "5gRmcolPnC9O"
      },
      "execution_count": null,
      "outputs": []
    },
    {
      "cell_type": "code",
      "execution_count": null,
      "metadata": {
        "scrolled": true,
        "id": "AA5qlicqGq3M"
      },
      "outputs": [],
      "source": [
        "train_features.corr()"
      ]
    },
    {
      "cell_type": "code",
      "execution_count": null,
      "metadata": {
        "id": "9sRokpwDGq3Q"
      },
      "outputs": [],
      "source": [
        "sns.displot(\n",
        "    train_features,\n",
        "    x=\"global_histogram_cosine_distance\",\n",
        "    hue=\"is_frame_change\",\n",
        "    stat=\"probability\",\n",
        "    common_norm=False,\n",
        "    log_scale=True,\n",
        ")"
      ]
    },
    {
      "cell_type": "code",
      "execution_count": null,
      "metadata": {
        "id": "L8h7SH9QGq3T"
      },
      "outputs": [],
      "source": [
        "import seaborn as sns\n",
        "\n",
        "sns.displot(\n",
        "    test_features,\n",
        "    x=\"global_histogram_cosine_distance\",\n",
        "    hue=\"is_frame_change\",\n",
        "    stat=\"probability\",\n",
        "    common_norm=False,\n",
        "    # log_scale=True,\n",
        ")"
      ]
    },
    {
      "cell_type": "code",
      "execution_count": null,
      "metadata": {
        "id": "Zi7r1upiGq3W"
      },
      "outputs": [],
      "source": [
        "sns.boxplot(\n",
        "    train_features,\n",
        "    x=\"is_frame_change\",\n",
        "    y=\"sobel_compare_images\",\n",
        "    hue=\"is_frame_change\"\n",
        ")"
      ]
    },
    {
      "cell_type": "markdown",
      "metadata": {
        "id": "VR0or8FqGq3b"
      },
      "source": [
        "### Тестируем разработанный метод сразу на нескольких видео"
      ]
    },
    {
      "cell_type": "markdown",
      "metadata": {
        "id": "KWmdeRClGq3b"
      },
      "source": [
        "Проверим, насколько хорошо работает разработанный метод. *Учтите, что итоговое тестирование будет производиться на аналогичном, но недоступном вам наборе видео, но все параметры алгоритмов должны быть указаны вами (иными словами - подобраны на тренировочном наборе).*"
      ]
    },
    {
      "cell_type": "code",
      "execution_count": null,
      "metadata": {
        "scrolled": true,
        "id": "Tbq9JkQ1Gq3b"
      },
      "outputs": [],
      "source": [
        "def run_scene_change_detector_all_video(scene_change_detector, dataset_path):\n",
        "    video_dataset = load_json_from_file(os.path.join(dataset_path, 'info.json'))\n",
        "    param_log = {\n",
        "        '_mean_f1_score': []\n",
        "    }\n",
        "    for video_info in tqdm(video_dataset, leave=False):\n",
        "        # Загружаем видео, его длину и смены сцен\n",
        "        frames = read_video(os.path.join(dataset_path, video_info['source']))\n",
        "        video_len = video_info['len']\n",
        "        true_scene_changes = load_json_from_file(os.path.join(dataset_path, video_info['scene_change']))\n",
        "\n",
        "        # Составляем список сцен, которые не будут тестироваться\n",
        "        not_use_frames = set()\n",
        "        for type_scene_change in ['trash', 'fade', 'dissolve']:\n",
        "            for bad_scene_range in true_scene_changes.get(type_scene_change, []):\n",
        "                not_use_frames.update(list(range(bad_scene_range[0], bad_scene_range[1] + 1)))\n",
        "\n",
        "        predicted_scene_changes, _, _ = scene_change_detector(frames)\n",
        "\n",
        "        param_log['f1_score_{}'.format(video_info['source'])] = f1_score(\n",
        "            true_scene_changes['cut'],\n",
        "            predicted_scene_changes,\n",
        "            video_len,\n",
        "            not_use_frames\n",
        "        )\n",
        "        video_tp, video_fp, video_tn, video_fn = calculate_matrix(\n",
        "            true_scene_changes['cut'],\n",
        "            predicted_scene_changes,\n",
        "            video_len,\n",
        "            not_use_frames\n",
        "        )\n",
        "\n",
        "        param_log['tp_{}'.format(video_info['source'])] = video_tp\n",
        "        param_log['fp_{}'.format(video_info['source'])] = video_fp\n",
        "        param_log['tn_{}'.format(video_info['source'])] = video_tn\n",
        "        param_log['fn_{}'.format(video_info['source'])] = video_fn\n",
        "        param_log['_mean_f1_score'].append(param_log['f1_score_{}'.format(video_info['source'])])\n",
        "        print(param_log)\n",
        "\n",
        "    param_log['_mean_f1_score'] = np.mean(param_log['_mean_f1_score'])\n",
        "    return param_log"
      ]
    },
    {
      "cell_type": "code",
      "execution_count": null,
      "metadata": {
        "id": "B378ezu_Gq3c"
      },
      "outputs": [],
      "source": [
        "dataset_path = 'train_dataset'\n",
        "\n",
        "video_dataset = load_json_from_file(os.path.join(dataset_path, 'info.json'))\n",
        "param_log = {\n",
        "    '_mean_f1_score': []\n",
        "}\n",
        "video_info = video_dataset[0]\n",
        "print(video_info)\n",
        "\n",
        "frames = read_video(os.path.join(dataset_path, video_info['source']))\n",
        "video_len = video_info['len']\n",
        "true_scene_changes = load_json_from_file(os.path.join(dataset_path, video_info['scene_change']))\n",
        "\n",
        "# Составляем список сцен, которые не будут тестироваться\n",
        "not_use_frames = set()\n",
        "for type_scene_change in ['trash', 'fade', 'dissolve']:\n",
        "    for bad_scene_range in true_scene_changes.get(type_scene_change, []):\n",
        "        not_use_frames.update(list(range(bad_scene_range[0], bad_scene_range[1] + 1)))\n",
        "\n",
        "predicted_scene_changes, _, _ = scene_change_detector(frames)\n",
        "\n",
        "param_log['f1_score_{}'.format(video_info['source'])] = f1_score(\n",
        "            true_scene_changes['cut'],\n",
        "            predicted_scene_changes,\n",
        "            video_len,\n",
        "            not_use_frames\n",
        "        )\n",
        "video_tp, video_fp, video_tn, video_fn = calculate_matrix(\n",
        "    true_scene_changes['cut'],\n",
        "    predicted_scene_changes,\n",
        "    video_len,\n",
        "    not_use_frames\n",
        ")\n",
        "\n",
        "\n",
        "param_log['tp_{}'.format(video_info['source'])] = video_tp\n",
        "param_log['fp_{}'.format(video_info['source'])] = video_fp\n",
        "param_log['tn_{}'.format(video_info['source'])] = video_tn\n",
        "param_log['fn_{}'.format(video_info['source'])] = video_fn\n",
        "param_log['_mean_f1_score'].append(param_log['f1_score_{}'.format(video_info['source'])])\n",
        "\n",
        "print(param_log)"
      ]
    },
    {
      "cell_type": "code",
      "execution_count": null,
      "metadata": {
        "scrolled": true,
        "id": "UjoExQKqGq3d"
      },
      "outputs": [],
      "source": [
        "video_dataset = 'train_dataset'"
      ]
    },
    {
      "cell_type": "markdown",
      "metadata": {
        "id": "mr8UKdmLGq3e"
      },
      "source": [
        "Данная функция поможет вам посмотреть, на каких видео и на сколько ошибается ваш метод. Прогнать метод на отдельном видео и детально посмотреть кадры вы могли выше.\n",
        "\n",
        "Кроме того, с помощью этой функции вы можете подобрать оптимальные параметры для метода."
      ]
    },
    {
      "cell_type": "code",
      "execution_count": null,
      "metadata": {
        "scrolled": true,
        "id": "0A-iBUC8Gq3e"
      },
      "outputs": [],
      "source": [
        "#Протестируем базовый метод\n",
        "run_scene_change_detector_all_video(scene_change_detector, video_dataset)"
      ]
    },
    {
      "cell_type": "code",
      "execution_count": null,
      "metadata": {
        "scrolled": true,
        "id": "Dg0ionWsGq3f"
      },
      "outputs": [],
      "source": [
        "#Протестируем разработанный вами метод\n",
        "run_scene_change_detector_all_video(scene_change_detector, video_dataset)"
      ]
    },
    {
      "cell_type": "markdown",
      "metadata": {
        "id": "ywApeLVMGq3f"
      },
      "source": [
        "Когда вы смотрите на результат, обращайте внимание на **_mean_f1_score**  \n",
        "Именно по этой метрике будет производится финальное оценивание."
      ]
    },
    {
      "cell_type": "markdown",
      "metadata": {
        "id": "PACPtj9SGq3f"
      },
      "source": [
        "## Бонусное задание: распознавание смен сцен типа \"наложения\""
      ]
    },
    {
      "cell_type": "markdown",
      "metadata": {
        "id": "o9pOmdBbGq3g"
      },
      "source": [
        "На практике кроме катов часто встречаются смены сцен, где происходит \"наложение\" одной сцены на другую:"
      ]
    },
    {
      "cell_type": "markdown",
      "metadata": {
        "id": "AQmi8lQ1Gq3g"
      },
      "source": [
        "<img src=\"Dissolve.jpg\">"
      ]
    },
    {
      "cell_type": "markdown",
      "metadata": {
        "id": "eT9lR9ajGq3h"
      },
      "source": [
        "### Ваше решение"
      ]
    },
    {
      "cell_type": "markdown",
      "metadata": {
        "id": "i1EYdaTiGq3h"
      },
      "source": [
        "* В качестве решения вы должны прикрепить функцию ниже. Все пороги должны быть указаны внутри функции.  \n",
        "Т.е. должен быть возможен вызов:  \n",
        "`scene_changes, vis, metric_values = scene_change_detector_dissolve(frames)`  \n",
        "* Строку (# GRADED CELL: [function name]) менять **нельзя**. Она будет использоваться при проверке вашего решения.\n",
        "* Ячейка должна содержать только **одну** функцию."
      ]
    },
    {
      "cell_type": "code",
      "execution_count": null,
      "metadata": {
        "scrolled": true,
        "id": "C2WumkVCGq3h"
      },
      "outputs": [],
      "source": [
        "# GRADED CELL: scene_change_detector_dissolve\n",
        "\n",
        "def scene_change_detector_dissolve(frames, threshold=None, with_vis=False):\n",
        "    scene_changes = []\n",
        "    vis = []\n",
        "    metric_values = []\n",
        "\n",
        "    ### START CODE HERE ###\n",
        "    # Ваши внешние переменные\n",
        "    ###  END CODE HERE  ###\n",
        "\n",
        "    for idx, frame in tqdm(enumerate(frames), leave=False):\n",
        "        # frame - это кадр\n",
        "        # idx - это номер кадра\n",
        "\n",
        "        ### START CODE HERE ###\n",
        "        # Основная часть вашего алгоритма\n",
        "        ###  END CODE HERE  ###\n",
        "        pass\n",
        "\n",
        "    return scene_changes, vis, metric_values"
      ]
    },
    {
      "cell_type": "markdown",
      "metadata": {
        "id": "3GXuU_53Gq3i"
      },
      "source": [
        "В качестве метрики качества используется видоизменённый f1-score:\n",
        "\n",
        "Так как смена сцен не происходит за один кадр, попаданием считается попадание ответа смены сцен в отрезок, где происходит наложение.  \n",
        "**Обратите внимание**, что несколько раз указывать одну смену сцен не нужно.\n",
        "\n",
        "Попадание вне отрезков смен сцен путём наложения считается как false positive, не попадание в указанный отрезок - как false negative"
      ]
    },
    {
      "cell_type": "code",
      "execution_count": null,
      "metadata": {
        "scrolled": true,
        "id": "vFAxoCj7Gq3i"
      },
      "outputs": [],
      "source": [
        "#Эти три клетки кода править не нужно\n",
        "def calculate_matrix_dissolve(true_scd, predicted_scd, scene_len):\n",
        "    predicted_scd = set(predicted_scd)\n",
        "    tp, fp, tn, fn = 0, 0, 0, 0\n",
        "    scene_len = scene_len\n",
        "    checked_dissolve_segments = set()\n",
        "    total_scene_dissolve_len = np.sum([dissolve_segment[1] - dissolve_segment[0] + 1 for dissolve_segment in true_scd])\n",
        "    for scd in predicted_scd:\n",
        "        for dissolve_segment in true_scd:\n",
        "            if scd in range(dissolve_segment[0], dissolve_segment[1] + 1):\n",
        "                if tuple(dissolve_segment) not in checked_dissolve_segments:\n",
        "                    tp += 1\n",
        "                    checked_dissolve_segments.add(tuple(dissolve_segment))\n",
        "                break\n",
        "        else:\n",
        "            fp += 1\n",
        "    fn = len(true_scd) - len(checked_dissolve_segments)\n",
        "    tn = scene_len - total_scene_dissolve_len + len(true_scd) - tp - fp - fn\n",
        "    return tp, fp, tn, fn"
      ]
    },
    {
      "cell_type": "code",
      "execution_count": null,
      "metadata": {
        "scrolled": true,
        "id": "XV9pR1rwGq3j"
      },
      "outputs": [],
      "source": [
        "def f1_score_dissolve(true_scd, predicted_scd, scene_len):\n",
        "    tp, fp, tn, fn = calculate_matrix_dissolve(true_scd, predicted_scd, scene_len)\n",
        "    precision_score = calculate_precision(tp, fp, tn, fn)\n",
        "    recall_score = calculate_recall(tp, fp, tn, fn)\n",
        "    if precision_score + recall_score == 0:\n",
        "        return 0\n",
        "    else:\n",
        "        return 2 * precision_score * recall_score / (precision_score + recall_score)"
      ]
    },
    {
      "cell_type": "code",
      "execution_count": null,
      "metadata": {
        "scrolled": true,
        "id": "jjwW--A2Gq3j"
      },
      "outputs": [],
      "source": [
        "def run_scene_change_detector_all_video_dissolve(scene_change_detector, dataset_path):\n",
        "    video_dataset = load_json_from_file(os.path.join(dataset_path, 'info.json'))\n",
        "    param_log = {\n",
        "        '_mean_f1_score': []\n",
        "    }\n",
        "    for video_info in tqdm(video_dataset, leave=False):\n",
        "        frames = read_video(os.path.join(dataset_path, video_info['source']))\n",
        "        video_len = video_info['len']\n",
        "        true_scene_changes = load_json_from_file(os.path.join(dataset_path, video_info['scene_change']))\n",
        "\n",
        "        predicted_scene_changes, _, _ = scene_change_detector(frames)\n",
        "        param_log['f1_score_{}'.format(video_info['source'])] = f1_score_dissolve(\n",
        "            true_scene_changes.get('dissolve', []),\n",
        "            predicted_scene_changes,\n",
        "            video_len\n",
        "        )\n",
        "        video_tp, video_fp, video_tn, video_fn = calculate_matrix_dissolve(\n",
        "            true_scene_changes.get('dissolve', []),\n",
        "            predicted_scene_changes,\n",
        "            video_len\n",
        "        )\n",
        "        param_log['tp_{}'.format(video_info['source'])] = video_tp\n",
        "        param_log['fp_{}'.format(video_info['source'])] = video_fp\n",
        "        param_log['tn_{}'.format(video_info['source'])] = video_tn\n",
        "        param_log['fn_{}'.format(video_info['source'])] = video_fn\n",
        "        param_log['_mean_f1_score'].append(param_log['f1_score_{}'.format(video_info['source'])])\n",
        "    param_log['_mean_f1_score'] = np.mean(param_log['_mean_f1_score'])\n",
        "    return param_log"
      ]
    },
    {
      "cell_type": "code",
      "execution_count": null,
      "metadata": {
        "scrolled": true,
        "id": "bgVQWzYjGq3k"
      },
      "outputs": [],
      "source": [
        "video_dataset_path = 'train_dataset'"
      ]
    },
    {
      "cell_type": "code",
      "execution_count": null,
      "metadata": {
        "scrolled": true,
        "id": "i3Ui3tC4Gq3k"
      },
      "outputs": [],
      "source": [
        "#Протестируем разработанный вами метод\n",
        "run_scene_change_detector_all_video_dissolve(scene_change_detector_dissolve, video_dataset_path)"
      ]
    },
    {
      "cell_type": "markdown",
      "metadata": {
        "id": "f9ooiFaYGq3l"
      },
      "source": [
        "### Немного об оценивании задания"
      ]
    },
    {
      "cell_type": "markdown",
      "metadata": {
        "id": "7ZZNtsMiGq3m"
      },
      "source": [
        "Оценивание задания будет производиться по следующей схеме:  \n",
        "\n",
        "Пусть на скрытой выборке по F-метрике вы получили X, лучшее решение получило Y.\n",
        "\n",
        "1. Базовая часть оценивется как $$20 * \\left(\\frac{\\max(0, X_{base} - 0.5)}{Y_{base} - 0.5}\\right)^2 + Bonus_{base}$$ Бонусные баллы $Bonus$ можно получить за оригинальные идеи в задаче или в её реализации\n",
        "2. Дополнительное задание оценивается как $$5 * \\frac{\\max(0, X_{add} - 0.1)}{Y_{add} - 0.1} + Bonus_{add}$$Процесс получения бонусных баллов аналогичен получению бонусных баллов в базовой части"
      ]
    },
    {
      "cell_type": "markdown",
      "metadata": {
        "id": "Q0OQMIZrGq3n"
      },
      "source": [
        "### Ваши ощущения ##"
      ]
    },
    {
      "cell_type": "markdown",
      "metadata": {
        "id": "X34Tmtt8Gq3o"
      },
      "source": [
        "*До дедлайна пару часов и вы никак не можете улучшить текущее решение? Или наоборот, вы всё сделали очень быстро? Опишите кратко ваши ощущения от задания - сколько времени вы потратили на задание, сколько вы потратили на изучение питона и установку необходимых библиотек, как быстро вы придумывали новые идеи и как они давали прирост по метрике и в целом насколько это задание вам понравилось и что хотели бы изменить/добавить.*"
      ]
    },
    {
      "cell_type": "markdown",
      "metadata": {
        "id": "WIASvIy0Gq3q"
      },
      "source": []
    },
    {
      "cell_type": "markdown",
      "metadata": {
        "id": "WjI3qjFSGq3r"
      },
      "source": [
        "<a id='second'></a>"
      ]
    },
    {
      "cell_type": "markdown",
      "metadata": {
        "id": "32ukuKMLGq3r"
      },
      "source": [
        "## Задание 2. Scene change detector. Машинное обучение"
      ]
    },
    {
      "cell_type": "markdown",
      "metadata": {
        "id": "WkFPEC2VGq3s"
      },
      "source": [
        "**Внимание!**\n",
        "\n",
        "В этом задании можно использовать все, что разрешалось в Задании №1, а также библиотеки:\n",
        "* pandas\n",
        "* sklearn\n",
        "\n",
        "Большинство функций, использующихся в этом задании, реализованы выше."
      ]
    },
    {
      "cell_type": "markdown",
      "metadata": {
        "id": "LpNWUagXGq3u"
      },
      "source": [
        "### Бейзлайн"
      ]
    },
    {
      "cell_type": "code",
      "execution_count": null,
      "metadata": {
        "id": "CxSmHL39Gq3v"
      },
      "outputs": [],
      "source": [
        "from sklearn.svm import SVC\n",
        "from sklearn.linear_model import LogisticRegression\n",
        "from sklearn.ensemble import RandomForestClassifier\n",
        "from sklearn.model_selection import GridSearchCV\n",
        "from sklearn.tree import DecisionTreeClassifier\n",
        "import pandas as pd\n",
        "import pickle"
      ]
    },
    {
      "cell_type": "markdown",
      "metadata": {
        "id": "JBUdg1w4Gq3x"
      },
      "source": [
        "Обучим простой SVM классификатор над метрикой попиксельной разницы кадров на нескольких видео. Воспользуемся функцией из первого задания"
      ]
    },
    {
      "cell_type": "code",
      "execution_count": null,
      "metadata": {
        "id": "T4Hu1QlsGq3z"
      },
      "outputs": [],
      "source": [
        "def get_train_data(train_videos):\n",
        "    X_train, y_train = np.array([]), np.array([])\n",
        "    for video in train_videos:\n",
        "        frames = read_video(os.path.join('train_dataset', 'video', f'{video}.mp4'))\n",
        "        # baseline функция попиксельного сравнения кадров из прошлого задания\n",
        "        # нам нужны не сами смены сцен, а только значения метрик\n",
        "        _, _, metric_values = baseline_scene_change_detector(frames)\n",
        "\n",
        "        cuts = load_json_from_file(os.path.join('train_dataset', 'gt', f'{video}.json'))['cut']\n",
        "        video_scenes = np.array([0 for i in range(len(metric_values))])\n",
        "        video_scenes[cuts] += 1\n",
        "\n",
        "        # добавляем в разметку текущее видео\n",
        "        X_train = np.hstack((X_train, metric_values))\n",
        "        y_train = np.hstack((y_train, video_scenes))\n",
        "\n",
        "    return X_train, y_train"
      ]
    },
    {
      "cell_type": "code",
      "execution_count": null,
      "metadata": {
        "id": "w4R9ZVlyGq31"
      },
      "outputs": [],
      "source": [
        "train_videos = ['04', '05']\n",
        "train_X, train_y = get_train_data(train_videos)"
      ]
    },
    {
      "cell_type": "code",
      "execution_count": null,
      "metadata": {
        "id": "O2eZlFmuGq33"
      },
      "outputs": [],
      "source": [
        "\n",
        "train_videos = ['08']\n",
        "test_X, test_y = get_train_data(train_videos)"
      ]
    },
    {
      "cell_type": "code",
      "execution_count": null,
      "metadata": {
        "id": "BRLB-zAoGq35"
      },
      "outputs": [],
      "source": [
        "train_X = train_features.drop('is_frame_change', axis=1)\n",
        "train_y = train_features['is_frame_change']"
      ]
    },
    {
      "cell_type": "code",
      "execution_count": null,
      "metadata": {
        "id": "H4oeU7BSGq36"
      },
      "outputs": [],
      "source": [
        "train_features[train_features.is_frame_change == 1]"
      ]
    },
    {
      "cell_type": "code",
      "execution_count": null,
      "metadata": {
        "id": "iO6rBrqKGq38"
      },
      "outputs": [],
      "source": [
        "train_X"
      ]
    },
    {
      "cell_type": "code",
      "execution_count": null,
      "metadata": {
        "id": "I3XQ0KZ6Gq3-"
      },
      "outputs": [],
      "source": [
        "test_X"
      ]
    },
    {
      "cell_type": "code",
      "execution_count": null,
      "metadata": {
        "id": "Q0U3HSboGq3_"
      },
      "outputs": [],
      "source": [
        "test_X = test_features.drop('is_frame_change', axis=1)\n",
        "test_y = test_features['is_frame_change']"
      ]
    },
    {
      "cell_type": "code",
      "execution_count": null,
      "metadata": {
        "id": "G7SOorIPGq4A"
      },
      "outputs": [],
      "source": [
        "clf = RandomForestClassifier()\n",
        "# params = {}\n",
        "# clf = GridSearchCV(rfc, params)"
      ]
    },
    {
      "cell_type": "code",
      "execution_count": null,
      "metadata": {
        "scrolled": true,
        "id": "yBreJOwpGq4A"
      },
      "outputs": [],
      "source": [
        "a.shape, b.shape, a_ans.shape, b_ans.shape"
      ]
    },
    {
      "cell_type": "code",
      "execution_count": null,
      "metadata": {
        "id": "IdfVlhaLGq4B"
      },
      "outputs": [],
      "source": [
        "from sklearn.metrics import f1_score, precision_score, accuracy_score"
      ]
    },
    {
      "cell_type": "code",
      "execution_count": null,
      "metadata": {
        "id": "7tCIijzzGq4C"
      },
      "outputs": [],
      "source": [
        "a, b, a_ans, b_ans = train_test_split(train_X, train_y, test_size=0.7, stratify=train_y)\n",
        "rf = RandomForestClassifier(max_depth=None, class_weight='balanced', n_estimators=100, bootstrap=True, min_samples_split=5, criterion='log_loss')\n",
        "# rf = DecisionTreeClassifier(max_depth=None)\n",
        "# rf = SVC(class_weight='balanced')\n",
        "rf.fit(a, a_ans)\n",
        "preds = rf.predict(b)\n",
        "f1_score(b_ans, preds)"
      ]
    },
    {
      "cell_type": "code",
      "execution_count": null,
      "metadata": {
        "id": "SENi0v6oGq4H"
      },
      "outputs": [],
      "source": [
        "accuracy_score(b_ans, preds)"
      ]
    },
    {
      "cell_type": "code",
      "execution_count": null,
      "metadata": {
        "id": "RDuPhyukGq4I"
      },
      "outputs": [],
      "source": [
        "b_ans.sum()"
      ]
    },
    {
      "cell_type": "code",
      "execution_count": null,
      "metadata": {
        "id": "w8c2yFsOGq4I"
      },
      "outputs": [],
      "source": [
        "np.sum(preds)"
      ]
    },
    {
      "cell_type": "code",
      "execution_count": null,
      "metadata": {
        "id": "uxC3WZLQGq4J"
      },
      "outputs": [],
      "source": [
        "np.sum((b_ans == preds) & (b_ans == 1))"
      ]
    },
    {
      "cell_type": "code",
      "execution_count": null,
      "metadata": {
        "id": "llaRhRltGq4K"
      },
      "outputs": [],
      "source": [
        "f1_score(a_ans, rf.predict(a))"
      ]
    },
    {
      "cell_type": "code",
      "execution_count": null,
      "metadata": {
        "id": "eufd2rWMGq4L"
      },
      "outputs": [],
      "source": [
        "accuracy_score(a_ans, rf.predict(a))"
      ]
    },
    {
      "cell_type": "code",
      "execution_count": null,
      "metadata": {
        "id": "gduxeIxxGq4N"
      },
      "outputs": [],
      "source": [
        "a_ans.sum()"
      ]
    },
    {
      "cell_type": "code",
      "execution_count": null,
      "metadata": {
        "id": "cy547h11Gq4P"
      },
      "outputs": [],
      "source": [
        "rf.predict(a).sum()"
      ]
    },
    {
      "cell_type": "code",
      "execution_count": null,
      "metadata": {
        "id": "a6HfPxzgGq4P"
      },
      "outputs": [],
      "source": [
        "from sklearn.tree import plot_tree\n",
        "plot_tree(rf)\n",
        "plt.show()"
      ]
    },
    {
      "cell_type": "code",
      "execution_count": null,
      "metadata": {
        "scrolled": true,
        "id": "0lIcPFlTGq4V"
      },
      "outputs": [],
      "source": [
        "clf.fit(train_X, train_y)"
      ]
    },
    {
      "cell_type": "code",
      "execution_count": null,
      "metadata": {
        "id": "QKehe8xOGq4V"
      },
      "outputs": [],
      "source": [
        "from sklearn.model_selection import cross_val_score, KFold\n",
        "\n",
        "# Определим метод кросс-валидации\n",
        "kf = KFold(n_splits=5, shuffle=True, random_state=42)\n",
        "\n",
        "# Выполним кросс-валидацию\n",
        "scores = cross_val_score(clf, train_X, train_y, cv=kf)\n",
        "\n",
        "# Выведем результаты\n",
        "print(f\"Точность на каждом фолде: {scores}\")\n",
        "print(f\"Средняя точность: {scores.mean():.2f}\")"
      ]
    },
    {
      "cell_type": "code",
      "execution_count": null,
      "metadata": {
        "scrolled": true,
        "id": "DfaH-5GCGq4W"
      },
      "outputs": [],
      "source": [
        "params = {}\n",
        "clf = GridSearchCV(rfc, params)\n",
        "clf.fit(train_X, train_y)"
      ]
    },
    {
      "cell_type": "code",
      "execution_count": null,
      "metadata": {
        "id": "2J1MG6ATGq4W"
      },
      "outputs": [],
      "source": [
        "params = {\"kernel\": \"rbf\", \"C\": 1}\n",
        "params = {'kernel':('linear', 'rbf'), 'C':[1, 10]}\n",
        "svc = SVC()\n",
        "clf = GridSearchCV(svc, params)"
      ]
    },
    {
      "cell_type": "code",
      "execution_count": null,
      "metadata": {
        "id": "i6b8EjTUGq4X"
      },
      "outputs": [],
      "source": [
        "train_Y = clf.predict(train_X)\n",
        "test_Y = clf.predict(test_X)"
      ]
    },
    {
      "cell_type": "code",
      "execution_count": null,
      "metadata": {
        "id": "19Y_IN5SGq4X"
      },
      "outputs": [],
      "source": [
        "test_y.shape"
      ]
    },
    {
      "cell_type": "code",
      "execution_count": null,
      "metadata": {
        "id": "twjEx9YfGq4Y"
      },
      "outputs": [],
      "source": [
        "np.sum(test_y)"
      ]
    },
    {
      "cell_type": "code",
      "execution_count": null,
      "metadata": {
        "id": "JC2hOQLpGq4Z"
      },
      "outputs": [],
      "source": [
        "len(train_features[train_features.is_frame_change == True])"
      ]
    },
    {
      "cell_type": "code",
      "execution_count": null,
      "metadata": {
        "id": "mPshRNFyGq4Z"
      },
      "outputs": [],
      "source": [
        "frames = read_video(os.path.join('train_dataset', 'video', '17.mp4'))\n",
        "frames = list(frames)\n",
        "cuts_base = load_json_from_file(os.path.join('train_dataset', 'gt', '17.json'))['cut']"
      ]
    },
    {
      "cell_type": "code",
      "execution_count": null,
      "metadata": {
        "id": "FFYaW_ksGq4Z"
      },
      "outputs": [],
      "source": [
        "def visualize_metric_error(frame, prev_frame, value):\n",
        "    fig = plt.figure(figsize=(16,4))\n",
        "    plt.suptitle('Значение метрики на текущем кадре: {:.4f}'.format(value), fontsize=24)\n",
        "    ax = fig.add_subplot(1, 2, 1)\n",
        "    ax.imshow(prev_frame[:,:,::-1])\n",
        "    ax.set_title(\"Предыдущий кадр\", fontsize=18)\n",
        "    ax.set_xticks([])\n",
        "    ax.set_yticks([])\n",
        "    ax = fig.add_subplot(1, 2, 2)\n",
        "    ax.imshow(frame[:,:,::-1])\n",
        "    ax.set_title(\"Текущий кадр\", fontsize=18)\n",
        "    ax.set_xticks([])\n",
        "    ax.set_yticks([])\n",
        "    plt.subplots_adjust(top=0.80)"
      ]
    },
    {
      "cell_type": "code",
      "execution_count": null,
      "metadata": {
        "id": "dFkbfebeGq4a"
      },
      "outputs": [],
      "source": [
        "id = 0"
      ]
    },
    {
      "cell_type": "code",
      "execution_count": null,
      "metadata": {
        "id": "Oaqt5sB7Gq4a"
      },
      "outputs": [],
      "source": [
        "visualize_metric_error(frames[id], frames[id-1], train_X.iloc[id].sobel_compare_images)\n",
        "print(train_y[id])"
      ]
    },
    {
      "cell_type": "code",
      "execution_count": null,
      "metadata": {
        "id": "YVVbHXj9Gq4b"
      },
      "outputs": [],
      "source": [
        "from sklearn.metrics import f1_score, precision_score"
      ]
    },
    {
      "cell_type": "code",
      "execution_count": null,
      "metadata": {
        "id": "9Kn7Sm7fGq4b"
      },
      "outputs": [],
      "source": [
        "print('F1-Score на тренировочной выборке', f1_score(train_y, train_Y))\n",
        "print('F1-Score на контрольной выборке', f1_score(test_y, test_Y))"
      ]
    },
    {
      "cell_type": "code",
      "execution_count": null,
      "metadata": {
        "id": "bFAcbxugGq4c"
      },
      "outputs": [],
      "source": [
        "print('precision_score на тренировочной выборке', precision_score(train_y, train_Y))\n",
        "print('precision_score на контрольной выборке', precision_score(test_y, test_Y))"
      ]
    },
    {
      "cell_type": "code",
      "execution_count": null,
      "metadata": {
        "id": "8sb0X6CjGq4c"
      },
      "outputs": [],
      "source": [
        "clf.feature_names_in_, clf.feature_importances_\n",
        "plt.bar(clf.feature_names_in_, clf.feature_importances_)\n",
        "plt.show()"
      ]
    },
    {
      "cell_type": "code",
      "execution_count": null,
      "metadata": {
        "id": "KA84bbdoGq4d"
      },
      "outputs": [],
      "source": [
        "# создание модели\n",
        "# подберите лучшие параметры для данной задачи\n",
        "params = {\"kernel\": \"rbf\", \"C\": 1}\n",
        "model = SVC(**params)\n",
        "model.fit(X_train.reshape(-1, 1), y_train)"
      ]
    },
    {
      "cell_type": "markdown",
      "metadata": {
        "id": "cvQ_IUzPGq4d"
      },
      "source": [
        " Сохраним модель в файле *model.pkl*"
      ]
    },
    {
      "cell_type": "code",
      "execution_count": null,
      "metadata": {
        "id": "EAm1RGHXGq4e"
      },
      "outputs": [],
      "source": [
        "pickle.dump(clf, open(\"model.pkl\", \"wb\"))"
      ]
    },
    {
      "cell_type": "markdown",
      "metadata": {
        "id": "0kva_EBQGq4e"
      },
      "source": [
        "Посмотрим как модель работает на тестовых видео\n",
        "\n",
        "Обратите внимание на то, что внутри функции модель загружается из памяти из файла *model.pkl*"
      ]
    },
    {
      "cell_type": "code",
      "execution_count": null,
      "metadata": {
        "id": "MPlEGRmLGq4f"
      },
      "outputs": [],
      "source": [
        "def baseline_scene_change_detection_ml(frames):\n",
        "    # # подготавливаем данные для видео\n",
        "    # _, _, metric_values = scene_change_detector(frames)\n",
        "    # X_test = np.array(metric_values).reshape(-1, 1)\n",
        "\n",
        "    # загружаем модель и делаем предсказания\n",
        "    model = pickle.load(open(\"model.pkl\", 'rb'))\n",
        "    predict_cuts = model.predict(test_X)\n",
        "\n",
        "    print(test_X)\n",
        "\n",
        "    return np.where(predict_cuts > 0)[0], [], test_X"
      ]
    },
    {
      "cell_type": "code",
      "execution_count": null,
      "metadata": {
        "id": "NrD_9ygIGq4f"
      },
      "outputs": [],
      "source": [
        "def run_scene_change_detector_ml_one_video(scene_change_detector, dataset_path, video_num):\n",
        "    video_info = load_json_from_file(os.path.join(dataset_path, 'info.json'))[video_num]\n",
        "\n",
        "    # Загружаем видео, его длину и смены сцен\n",
        "    frames = read_video(os.path.join(dataset_path, video_info['source']))\n",
        "    video_len = video_info['len']\n",
        "    true_scene_changes = load_json_from_file(os.path.join(dataset_path, video_info['scene_change']))\n",
        "\n",
        "    # Составляем список сцен, которые не будут тестироваться\n",
        "    not_use_frames = set()\n",
        "    for type_scene_change in ['trash', 'fade', 'dissolve']:\n",
        "        for bad_scene_range in true_scene_changes.get(type_scene_change, []):\n",
        "            not_use_frames.update(list(range(bad_scene_range[0], bad_scene_range[1] + 1)))\n",
        "\n",
        "    predicted_scene_changes, _, _ = scene_change_detector(frames)\n",
        "\n",
        "    return f1_score(\n",
        "        true_scene_changes['cut'],\n",
        "        predicted_scene_changes,\n",
        "        video_len,\n",
        "        not_use_frames\n",
        "    )"
      ]
    },
    {
      "cell_type": "markdown",
      "metadata": {
        "id": "uv_s4EfJGq4g"
      },
      "source": [
        "Посчитаем F1 score для одного видео:"
      ]
    },
    {
      "cell_type": "code",
      "execution_count": null,
      "metadata": {
        "id": "2i7P-Jk_Gq4g"
      },
      "outputs": [],
      "source": [
        "video_num = 9\n",
        "run_scene_change_detector_ml_one_video(baseline_scene_change_detection_ml, 'train_dataset', video_num)"
      ]
    },
    {
      "cell_type": "markdown",
      "metadata": {
        "id": "GqVMn2bTGq4h"
      },
      "source": [
        "### Ваше решение"
      ]
    },
    {
      "cell_type": "markdown",
      "metadata": {
        "id": "qy0Ij5spGq4h"
      },
      "source": [
        "Чтобы использовать свою обученную модель при отправке решения, необходимо сохранить ее через пакет pickle в файл model.pkl и отправить его вместе с jupyter ноутбуком.\n",
        "Этот файл вы можете открывать и использовать прямо в функции вашего решения"
      ]
    },
    {
      "cell_type": "markdown",
      "metadata": {
        "id": "cpnaeNFFGq4h"
      },
      "source": [
        "* В качестве решения вы должны прикрепить функцию ниже. Все пороги должны быть указаны внутри функции.  \n",
        "Т.е. должен быть возможен вызов:  \n",
        "`scene_changes, vis, metric_values = scene_change_detector_dissolve(frames)`  \n",
        "* Строку (# GRADED CELL: [function name]) менять **нельзя**. Она будет использоваться при проверке вашего решения.\n",
        "* Ячейка должна содержать только **одну** функцию."
      ]
    },
    {
      "cell_type": "code",
      "execution_count": null,
      "metadata": {
        "id": "iB9rxaDqGq4i"
      },
      "outputs": [],
      "source": [
        "# GRADED CELL: scene_change_detector_ml\n",
        "\n",
        "def scene_change_detector_ml(frames, with_vis = False):\n",
        "    scene_changes = []\n",
        "    vis = []\n",
        "    metric_values = []\n",
        "\n",
        "    ###\n",
        "    #  опишите здесь все функции, нужные для вашего решения\n",
        "    ###\n",
        "\n",
        "\n",
        "    ### START CODE HERE ###\n",
        "    # Ваши внешние переменные\n",
        "    ###  END CODE HERE  ###\n",
        "\n",
        "    for idx, frame in tqdm(enumerate(frames), leave=False):\n",
        "        # frame - это кадр\n",
        "        # idx - это номер кадра\n",
        "\n",
        "        ### START CODE HERE ###\n",
        "        # Основная часть вашего алгоритма\n",
        "        ###  END CODE HERE  ###\n",
        "        pass\n",
        "\n",
        "    model = pickle.load(open(\"model.pkl\", 'rb'))\n",
        "    predict_cuts = model.predict(X_test)\n",
        "\n",
        "    return np.where(predict_cuts == 1)[0], vis, metric_values"
      ]
    },
    {
      "cell_type": "markdown",
      "metadata": {
        "id": "FJU01t2LGq4j"
      },
      "source": [
        "Проверим ваше решение на всех видео.\n",
        "\n",
        "Не забывайте о том, что при итоговой оценке решений будет использоваться другой набор видео. Не переобучите модель!"
      ]
    },
    {
      "cell_type": "code",
      "execution_count": null,
      "metadata": {
        "id": "Kpj9pa8sGq4k"
      },
      "outputs": [],
      "source": [
        "video_dataset_path = 'train_dataset'"
      ]
    },
    {
      "cell_type": "code",
      "execution_count": null,
      "metadata": {
        "id": "Z8Sxj3TCGq4l"
      },
      "outputs": [],
      "source": [
        "def run_scene_change_detector_all_video(scene_change_detector_ml, video_dataset_path):\n",
        "    for i in range(1, 10):\n",
        "        t = run_scene_change_detector_ml_one_video(scene_change_detector_ml, video_dataset_path, i)\n",
        "        print(i, t)"
      ]
    },
    {
      "cell_type": "code",
      "execution_count": null,
      "metadata": {
        "id": "tpWersFfGq4l"
      },
      "outputs": [],
      "source": [
        "run_scene_change_detector_all_video(baseline_scene_change_detection_ml, video_dataset_path)"
      ]
    },
    {
      "cell_type": "markdown",
      "metadata": {
        "id": "rddtY5ehGq4m"
      },
      "source": [
        "**Советы**\n",
        "\n",
        "* Используйте кросс-валидацию\n",
        "* Подумайте как лучше разделять видео на тренировочную и тестовые выборки\n",
        "* Подбирайте параметры модели (в библиотеке sklearn есть метод GridSearchCV для автоматического подбора параметров)\n",
        "* Пробуйте разные методы машинного обучения (из sklearn)"
      ]
    },
    {
      "cell_type": "markdown",
      "metadata": {
        "id": "O8l1lM0CGq4m"
      },
      "source": [
        "## Бонусное задание: детектор смен сцен типа наложение"
      ]
    },
    {
      "cell_type": "markdown",
      "metadata": {
        "id": "2twjJ4F5Gq4m"
      },
      "source": [
        "Аналогично детектору из задания №1 за исключением того, что можно (и нужно) использовать машинное обучение:)"
      ]
    },
    {
      "cell_type": "code",
      "execution_count": null,
      "metadata": {
        "id": "iWXaIlyYGq4n"
      },
      "outputs": [],
      "source": [
        "# GRADED CELL: scene_change_detector_dissolve_ml\n",
        "\n",
        "def scene_change_detector_dissolve_ml(frames, threshold=None, with_vis=False):\n",
        "    scene_changes = []\n",
        "    vis = []\n",
        "    metric_values = []\n",
        "\n",
        "    ### START CODE HERE ###\n",
        "    # Ваши внешние переменные\n",
        "    ###  END CODE HERE  ###\n",
        "\n",
        "    for idx, frame in tqdm(enumerate(frames), leave=False):\n",
        "        # frame - это кадр\n",
        "        # idx - это номер кадра\n",
        "\n",
        "        ### START CODE HERE ###\n",
        "        # Основная часть вашего алгоритма\n",
        "        ###  END CODE HERE  ###\n",
        "        pass\n",
        "\n",
        "    return scene_changes, vis, metric_values"
      ]
    },
    {
      "cell_type": "code",
      "execution_count": null,
      "metadata": {
        "id": "9Mm3YV9JGq4n"
      },
      "outputs": [],
      "source": [
        "video_dataset_path = 'train_dataset'\n",
        "#Протестируем разработанный вами метод\n",
        "run_scene_change_detector_all_video_dissolve(scene_change_detector_dissolve, video_dataset_path)"
      ]
    },
    {
      "cell_type": "markdown",
      "metadata": {
        "id": "ACaMq87VGq4o"
      },
      "source": [
        "### Ваши ощущения ##"
      ]
    },
    {
      "cell_type": "markdown",
      "metadata": {
        "id": "zToy-_uoGq4o"
      },
      "source": [
        "*Как и в первой части интересно узнать какие моменты показались простыми, а какие сложными. Много ли времени ушло на изучение sklearn и методов машинного обучения. Дало ли машинное обучение сразу прирост по сравнению с эврестической частью? Как вы контролировали переобучение?*"
      ]
    },
    {
      "cell_type": "code",
      "execution_count": null,
      "metadata": {
        "id": "fJDPs2dDGq4o"
      },
      "outputs": [],
      "source": []
    }
  ],
  "metadata": {
    "kernelspec": {
      "display_name": "Python 3 (ipykernel)",
      "language": "python",
      "name": "python3"
    },
    "language_info": {
      "codemirror_mode": {
        "name": "ipython",
        "version": 3
      },
      "file_extension": ".py",
      "mimetype": "text/x-python",
      "name": "python",
      "nbconvert_exporter": "python",
      "pygments_lexer": "ipython3",
      "version": "3.12.2"
    },
    "colab": {
      "provenance": [],
      "include_colab_link": true
    },
    "widgets": {
      "application/vnd.jupyter.widget-state+json": {
        "d899c14a73294320aa1badd4acffa401": {
          "model_module": "@jupyter-widgets/controls",
          "model_name": "HBoxModel",
          "model_module_version": "1.5.0",
          "state": {
            "_dom_classes": [],
            "_model_module": "@jupyter-widgets/controls",
            "_model_module_version": "1.5.0",
            "_model_name": "HBoxModel",
            "_view_count": null,
            "_view_module": "@jupyter-widgets/controls",
            "_view_module_version": "1.5.0",
            "_view_name": "HBoxView",
            "box_style": "",
            "children": [
              "IPY_MODEL_f6a2c04adcd945b6bc730451f4d9141e",
              "IPY_MODEL_c2fd18920d65421dba0132e1cbd54382",
              "IPY_MODEL_b129396e48764ccfafeb9445c09bd092"
            ],
            "layout": "IPY_MODEL_2678ca82526c43118e42b44b1154d126"
          }
        },
        "f6a2c04adcd945b6bc730451f4d9141e": {
          "model_module": "@jupyter-widgets/controls",
          "model_name": "HTMLModel",
          "model_module_version": "1.5.0",
          "state": {
            "_dom_classes": [],
            "_model_module": "@jupyter-widgets/controls",
            "_model_module_version": "1.5.0",
            "_model_name": "HTMLModel",
            "_view_count": null,
            "_view_module": "@jupyter-widgets/controls",
            "_view_module_version": "1.5.0",
            "_view_name": "HTMLView",
            "description": "",
            "description_tooltip": null,
            "layout": "IPY_MODEL_1bc49e1279db4c23b829854d7e4cc239",
            "placeholder": "​",
            "style": "IPY_MODEL_9c525bc2c13842e9bc276535d2cda16c",
            "value": "100%"
          }
        },
        "c2fd18920d65421dba0132e1cbd54382": {
          "model_module": "@jupyter-widgets/controls",
          "model_name": "FloatProgressModel",
          "model_module_version": "1.5.0",
          "state": {
            "_dom_classes": [],
            "_model_module": "@jupyter-widgets/controls",
            "_model_module_version": "1.5.0",
            "_model_name": "FloatProgressModel",
            "_view_count": null,
            "_view_module": "@jupyter-widgets/controls",
            "_view_module_version": "1.5.0",
            "_view_name": "ProgressView",
            "bar_style": "success",
            "description": "",
            "description_tooltip": null,
            "layout": "IPY_MODEL_6ccb1e22536843a883639a7ce23ca66d",
            "max": 8,
            "min": 0,
            "orientation": "horizontal",
            "style": "IPY_MODEL_9a038be96eb4429490f598fcaf1c81b9",
            "value": 8
          }
        },
        "b129396e48764ccfafeb9445c09bd092": {
          "model_module": "@jupyter-widgets/controls",
          "model_name": "HTMLModel",
          "model_module_version": "1.5.0",
          "state": {
            "_dom_classes": [],
            "_model_module": "@jupyter-widgets/controls",
            "_model_module_version": "1.5.0",
            "_model_name": "HTMLModel",
            "_view_count": null,
            "_view_module": "@jupyter-widgets/controls",
            "_view_module_version": "1.5.0",
            "_view_name": "HTMLView",
            "description": "",
            "description_tooltip": null,
            "layout": "IPY_MODEL_9615ef5dd0d945dba47d5941e5b5c59a",
            "placeholder": "​",
            "style": "IPY_MODEL_8f51528b567b47c2a8443c6cd7ab7b36",
            "value": " 8/8 [29:20&lt;00:00, 248.95s/it]"
          }
        },
        "2678ca82526c43118e42b44b1154d126": {
          "model_module": "@jupyter-widgets/base",
          "model_name": "LayoutModel",
          "model_module_version": "1.2.0",
          "state": {
            "_model_module": "@jupyter-widgets/base",
            "_model_module_version": "1.2.0",
            "_model_name": "LayoutModel",
            "_view_count": null,
            "_view_module": "@jupyter-widgets/base",
            "_view_module_version": "1.2.0",
            "_view_name": "LayoutView",
            "align_content": null,
            "align_items": null,
            "align_self": null,
            "border": null,
            "bottom": null,
            "display": null,
            "flex": null,
            "flex_flow": null,
            "grid_area": null,
            "grid_auto_columns": null,
            "grid_auto_flow": null,
            "grid_auto_rows": null,
            "grid_column": null,
            "grid_gap": null,
            "grid_row": null,
            "grid_template_areas": null,
            "grid_template_columns": null,
            "grid_template_rows": null,
            "height": null,
            "justify_content": null,
            "justify_items": null,
            "left": null,
            "margin": null,
            "max_height": null,
            "max_width": null,
            "min_height": null,
            "min_width": null,
            "object_fit": null,
            "object_position": null,
            "order": null,
            "overflow": null,
            "overflow_x": null,
            "overflow_y": null,
            "padding": null,
            "right": null,
            "top": null,
            "visibility": null,
            "width": null
          }
        },
        "1bc49e1279db4c23b829854d7e4cc239": {
          "model_module": "@jupyter-widgets/base",
          "model_name": "LayoutModel",
          "model_module_version": "1.2.0",
          "state": {
            "_model_module": "@jupyter-widgets/base",
            "_model_module_version": "1.2.0",
            "_model_name": "LayoutModel",
            "_view_count": null,
            "_view_module": "@jupyter-widgets/base",
            "_view_module_version": "1.2.0",
            "_view_name": "LayoutView",
            "align_content": null,
            "align_items": null,
            "align_self": null,
            "border": null,
            "bottom": null,
            "display": null,
            "flex": null,
            "flex_flow": null,
            "grid_area": null,
            "grid_auto_columns": null,
            "grid_auto_flow": null,
            "grid_auto_rows": null,
            "grid_column": null,
            "grid_gap": null,
            "grid_row": null,
            "grid_template_areas": null,
            "grid_template_columns": null,
            "grid_template_rows": null,
            "height": null,
            "justify_content": null,
            "justify_items": null,
            "left": null,
            "margin": null,
            "max_height": null,
            "max_width": null,
            "min_height": null,
            "min_width": null,
            "object_fit": null,
            "object_position": null,
            "order": null,
            "overflow": null,
            "overflow_x": null,
            "overflow_y": null,
            "padding": null,
            "right": null,
            "top": null,
            "visibility": null,
            "width": null
          }
        },
        "9c525bc2c13842e9bc276535d2cda16c": {
          "model_module": "@jupyter-widgets/controls",
          "model_name": "DescriptionStyleModel",
          "model_module_version": "1.5.0",
          "state": {
            "_model_module": "@jupyter-widgets/controls",
            "_model_module_version": "1.5.0",
            "_model_name": "DescriptionStyleModel",
            "_view_count": null,
            "_view_module": "@jupyter-widgets/base",
            "_view_module_version": "1.2.0",
            "_view_name": "StyleView",
            "description_width": ""
          }
        },
        "6ccb1e22536843a883639a7ce23ca66d": {
          "model_module": "@jupyter-widgets/base",
          "model_name": "LayoutModel",
          "model_module_version": "1.2.0",
          "state": {
            "_model_module": "@jupyter-widgets/base",
            "_model_module_version": "1.2.0",
            "_model_name": "LayoutModel",
            "_view_count": null,
            "_view_module": "@jupyter-widgets/base",
            "_view_module_version": "1.2.0",
            "_view_name": "LayoutView",
            "align_content": null,
            "align_items": null,
            "align_self": null,
            "border": null,
            "bottom": null,
            "display": null,
            "flex": null,
            "flex_flow": null,
            "grid_area": null,
            "grid_auto_columns": null,
            "grid_auto_flow": null,
            "grid_auto_rows": null,
            "grid_column": null,
            "grid_gap": null,
            "grid_row": null,
            "grid_template_areas": null,
            "grid_template_columns": null,
            "grid_template_rows": null,
            "height": null,
            "justify_content": null,
            "justify_items": null,
            "left": null,
            "margin": null,
            "max_height": null,
            "max_width": null,
            "min_height": null,
            "min_width": null,
            "object_fit": null,
            "object_position": null,
            "order": null,
            "overflow": null,
            "overflow_x": null,
            "overflow_y": null,
            "padding": null,
            "right": null,
            "top": null,
            "visibility": null,
            "width": null
          }
        },
        "9a038be96eb4429490f598fcaf1c81b9": {
          "model_module": "@jupyter-widgets/controls",
          "model_name": "ProgressStyleModel",
          "model_module_version": "1.5.0",
          "state": {
            "_model_module": "@jupyter-widgets/controls",
            "_model_module_version": "1.5.0",
            "_model_name": "ProgressStyleModel",
            "_view_count": null,
            "_view_module": "@jupyter-widgets/base",
            "_view_module_version": "1.2.0",
            "_view_name": "StyleView",
            "bar_color": null,
            "description_width": ""
          }
        },
        "9615ef5dd0d945dba47d5941e5b5c59a": {
          "model_module": "@jupyter-widgets/base",
          "model_name": "LayoutModel",
          "model_module_version": "1.2.0",
          "state": {
            "_model_module": "@jupyter-widgets/base",
            "_model_module_version": "1.2.0",
            "_model_name": "LayoutModel",
            "_view_count": null,
            "_view_module": "@jupyter-widgets/base",
            "_view_module_version": "1.2.0",
            "_view_name": "LayoutView",
            "align_content": null,
            "align_items": null,
            "align_self": null,
            "border": null,
            "bottom": null,
            "display": null,
            "flex": null,
            "flex_flow": null,
            "grid_area": null,
            "grid_auto_columns": null,
            "grid_auto_flow": null,
            "grid_auto_rows": null,
            "grid_column": null,
            "grid_gap": null,
            "grid_row": null,
            "grid_template_areas": null,
            "grid_template_columns": null,
            "grid_template_rows": null,
            "height": null,
            "justify_content": null,
            "justify_items": null,
            "left": null,
            "margin": null,
            "max_height": null,
            "max_width": null,
            "min_height": null,
            "min_width": null,
            "object_fit": null,
            "object_position": null,
            "order": null,
            "overflow": null,
            "overflow_x": null,
            "overflow_y": null,
            "padding": null,
            "right": null,
            "top": null,
            "visibility": null,
            "width": null
          }
        },
        "8f51528b567b47c2a8443c6cd7ab7b36": {
          "model_module": "@jupyter-widgets/controls",
          "model_name": "DescriptionStyleModel",
          "model_module_version": "1.5.0",
          "state": {
            "_model_module": "@jupyter-widgets/controls",
            "_model_module_version": "1.5.0",
            "_model_name": "DescriptionStyleModel",
            "_view_count": null,
            "_view_module": "@jupyter-widgets/base",
            "_view_module_version": "1.2.0",
            "_view_name": "StyleView",
            "description_width": ""
          }
        },
        "c1e68e045fb2424c993fb6ad551339cc": {
          "model_module": "@jupyter-widgets/controls",
          "model_name": "HBoxModel",
          "model_module_version": "1.5.0",
          "state": {
            "_dom_classes": [],
            "_model_module": "@jupyter-widgets/controls",
            "_model_module_version": "1.5.0",
            "_model_name": "HBoxModel",
            "_view_count": null,
            "_view_module": "@jupyter-widgets/controls",
            "_view_module_version": "1.5.0",
            "_view_name": "HBoxView",
            "box_style": "",
            "children": [
              "IPY_MODEL_f12b4b94185c4bc4ba72d0eabaf64b15",
              "IPY_MODEL_b907a79f29994008ab12d4154e7c2361",
              "IPY_MODEL_04a75253b7634d1a9a761cb986442685"
            ],
            "layout": "IPY_MODEL_5009cb2cffc64a4cb8fc74a4ba99cfb8"
          }
        },
        "f12b4b94185c4bc4ba72d0eabaf64b15": {
          "model_module": "@jupyter-widgets/controls",
          "model_name": "HTMLModel",
          "model_module_version": "1.5.0",
          "state": {
            "_dom_classes": [],
            "_model_module": "@jupyter-widgets/controls",
            "_model_module_version": "1.5.0",
            "_model_name": "HTMLModel",
            "_view_count": null,
            "_view_module": "@jupyter-widgets/controls",
            "_view_module_version": "1.5.0",
            "_view_name": "HTMLView",
            "description": "",
            "description_tooltip": null,
            "layout": "IPY_MODEL_6f416bb80511453088ec1f974a8c6eee",
            "placeholder": "​",
            "style": "IPY_MODEL_82f4b75218f64d6ba936eba77a35a757",
            "value": ""
          }
        },
        "b907a79f29994008ab12d4154e7c2361": {
          "model_module": "@jupyter-widgets/controls",
          "model_name": "FloatProgressModel",
          "model_module_version": "1.5.0",
          "state": {
            "_dom_classes": [],
            "_model_module": "@jupyter-widgets/controls",
            "_model_module_version": "1.5.0",
            "_model_name": "FloatProgressModel",
            "_view_count": null,
            "_view_module": "@jupyter-widgets/controls",
            "_view_module_version": "1.5.0",
            "_view_name": "ProgressView",
            "bar_style": "success",
            "description": "",
            "description_tooltip": null,
            "layout": "IPY_MODEL_4a5dca5105574fd3bdb18ed74cc030c7",
            "max": 1,
            "min": 0,
            "orientation": "horizontal",
            "style": "IPY_MODEL_7fa39641b2ac479f9d180ba6c361aef5",
            "value": 1
          }
        },
        "04a75253b7634d1a9a761cb986442685": {
          "model_module": "@jupyter-widgets/controls",
          "model_name": "HTMLModel",
          "model_module_version": "1.5.0",
          "state": {
            "_dom_classes": [],
            "_model_module": "@jupyter-widgets/controls",
            "_model_module_version": "1.5.0",
            "_model_name": "HTMLModel",
            "_view_count": null,
            "_view_module": "@jupyter-widgets/controls",
            "_view_module_version": "1.5.0",
            "_view_name": "HTMLView",
            "description": "",
            "description_tooltip": null,
            "layout": "IPY_MODEL_98632ef50caf4e57b7564cfe42e0aa16",
            "placeholder": "​",
            "style": "IPY_MODEL_f2b7629fb0d442ed90cf1e5fda1a7163",
            "value": " 2325/? [02:08&lt;00:00, 21.21it/s]"
          }
        },
        "5009cb2cffc64a4cb8fc74a4ba99cfb8": {
          "model_module": "@jupyter-widgets/base",
          "model_name": "LayoutModel",
          "model_module_version": "1.2.0",
          "state": {
            "_model_module": "@jupyter-widgets/base",
            "_model_module_version": "1.2.0",
            "_model_name": "LayoutModel",
            "_view_count": null,
            "_view_module": "@jupyter-widgets/base",
            "_view_module_version": "1.2.0",
            "_view_name": "LayoutView",
            "align_content": null,
            "align_items": null,
            "align_self": null,
            "border": null,
            "bottom": null,
            "display": null,
            "flex": null,
            "flex_flow": null,
            "grid_area": null,
            "grid_auto_columns": null,
            "grid_auto_flow": null,
            "grid_auto_rows": null,
            "grid_column": null,
            "grid_gap": null,
            "grid_row": null,
            "grid_template_areas": null,
            "grid_template_columns": null,
            "grid_template_rows": null,
            "height": null,
            "justify_content": null,
            "justify_items": null,
            "left": null,
            "margin": null,
            "max_height": null,
            "max_width": null,
            "min_height": null,
            "min_width": null,
            "object_fit": null,
            "object_position": null,
            "order": null,
            "overflow": null,
            "overflow_x": null,
            "overflow_y": null,
            "padding": null,
            "right": null,
            "top": null,
            "visibility": null,
            "width": null
          }
        },
        "6f416bb80511453088ec1f974a8c6eee": {
          "model_module": "@jupyter-widgets/base",
          "model_name": "LayoutModel",
          "model_module_version": "1.2.0",
          "state": {
            "_model_module": "@jupyter-widgets/base",
            "_model_module_version": "1.2.0",
            "_model_name": "LayoutModel",
            "_view_count": null,
            "_view_module": "@jupyter-widgets/base",
            "_view_module_version": "1.2.0",
            "_view_name": "LayoutView",
            "align_content": null,
            "align_items": null,
            "align_self": null,
            "border": null,
            "bottom": null,
            "display": null,
            "flex": null,
            "flex_flow": null,
            "grid_area": null,
            "grid_auto_columns": null,
            "grid_auto_flow": null,
            "grid_auto_rows": null,
            "grid_column": null,
            "grid_gap": null,
            "grid_row": null,
            "grid_template_areas": null,
            "grid_template_columns": null,
            "grid_template_rows": null,
            "height": null,
            "justify_content": null,
            "justify_items": null,
            "left": null,
            "margin": null,
            "max_height": null,
            "max_width": null,
            "min_height": null,
            "min_width": null,
            "object_fit": null,
            "object_position": null,
            "order": null,
            "overflow": null,
            "overflow_x": null,
            "overflow_y": null,
            "padding": null,
            "right": null,
            "top": null,
            "visibility": null,
            "width": null
          }
        },
        "82f4b75218f64d6ba936eba77a35a757": {
          "model_module": "@jupyter-widgets/controls",
          "model_name": "DescriptionStyleModel",
          "model_module_version": "1.5.0",
          "state": {
            "_model_module": "@jupyter-widgets/controls",
            "_model_module_version": "1.5.0",
            "_model_name": "DescriptionStyleModel",
            "_view_count": null,
            "_view_module": "@jupyter-widgets/base",
            "_view_module_version": "1.2.0",
            "_view_name": "StyleView",
            "description_width": ""
          }
        },
        "4a5dca5105574fd3bdb18ed74cc030c7": {
          "model_module": "@jupyter-widgets/base",
          "model_name": "LayoutModel",
          "model_module_version": "1.2.0",
          "state": {
            "_model_module": "@jupyter-widgets/base",
            "_model_module_version": "1.2.0",
            "_model_name": "LayoutModel",
            "_view_count": null,
            "_view_module": "@jupyter-widgets/base",
            "_view_module_version": "1.2.0",
            "_view_name": "LayoutView",
            "align_content": null,
            "align_items": null,
            "align_self": null,
            "border": null,
            "bottom": null,
            "display": null,
            "flex": null,
            "flex_flow": null,
            "grid_area": null,
            "grid_auto_columns": null,
            "grid_auto_flow": null,
            "grid_auto_rows": null,
            "grid_column": null,
            "grid_gap": null,
            "grid_row": null,
            "grid_template_areas": null,
            "grid_template_columns": null,
            "grid_template_rows": null,
            "height": null,
            "justify_content": null,
            "justify_items": null,
            "left": null,
            "margin": null,
            "max_height": null,
            "max_width": null,
            "min_height": null,
            "min_width": null,
            "object_fit": null,
            "object_position": null,
            "order": null,
            "overflow": null,
            "overflow_x": null,
            "overflow_y": null,
            "padding": null,
            "right": null,
            "top": null,
            "visibility": null,
            "width": "20px"
          }
        },
        "7fa39641b2ac479f9d180ba6c361aef5": {
          "model_module": "@jupyter-widgets/controls",
          "model_name": "ProgressStyleModel",
          "model_module_version": "1.5.0",
          "state": {
            "_model_module": "@jupyter-widgets/controls",
            "_model_module_version": "1.5.0",
            "_model_name": "ProgressStyleModel",
            "_view_count": null,
            "_view_module": "@jupyter-widgets/base",
            "_view_module_version": "1.2.0",
            "_view_name": "StyleView",
            "bar_color": null,
            "description_width": ""
          }
        },
        "98632ef50caf4e57b7564cfe42e0aa16": {
          "model_module": "@jupyter-widgets/base",
          "model_name": "LayoutModel",
          "model_module_version": "1.2.0",
          "state": {
            "_model_module": "@jupyter-widgets/base",
            "_model_module_version": "1.2.0",
            "_model_name": "LayoutModel",
            "_view_count": null,
            "_view_module": "@jupyter-widgets/base",
            "_view_module_version": "1.2.0",
            "_view_name": "LayoutView",
            "align_content": null,
            "align_items": null,
            "align_self": null,
            "border": null,
            "bottom": null,
            "display": null,
            "flex": null,
            "flex_flow": null,
            "grid_area": null,
            "grid_auto_columns": null,
            "grid_auto_flow": null,
            "grid_auto_rows": null,
            "grid_column": null,
            "grid_gap": null,
            "grid_row": null,
            "grid_template_areas": null,
            "grid_template_columns": null,
            "grid_template_rows": null,
            "height": null,
            "justify_content": null,
            "justify_items": null,
            "left": null,
            "margin": null,
            "max_height": null,
            "max_width": null,
            "min_height": null,
            "min_width": null,
            "object_fit": null,
            "object_position": null,
            "order": null,
            "overflow": null,
            "overflow_x": null,
            "overflow_y": null,
            "padding": null,
            "right": null,
            "top": null,
            "visibility": null,
            "width": null
          }
        },
        "f2b7629fb0d442ed90cf1e5fda1a7163": {
          "model_module": "@jupyter-widgets/controls",
          "model_name": "DescriptionStyleModel",
          "model_module_version": "1.5.0",
          "state": {
            "_model_module": "@jupyter-widgets/controls",
            "_model_module_version": "1.5.0",
            "_model_name": "DescriptionStyleModel",
            "_view_count": null,
            "_view_module": "@jupyter-widgets/base",
            "_view_module_version": "1.2.0",
            "_view_name": "StyleView",
            "description_width": ""
          }
        },
        "b19644ae26594a0ca3f402441c9df0aa": {
          "model_module": "@jupyter-widgets/controls",
          "model_name": "HBoxModel",
          "model_module_version": "1.5.0",
          "state": {
            "_dom_classes": [],
            "_model_module": "@jupyter-widgets/controls",
            "_model_module_version": "1.5.0",
            "_model_name": "HBoxModel",
            "_view_count": null,
            "_view_module": "@jupyter-widgets/controls",
            "_view_module_version": "1.5.0",
            "_view_name": "HBoxView",
            "box_style": "",
            "children": [
              "IPY_MODEL_f8e4eb15799e408f8e940c4214b7501f",
              "IPY_MODEL_49b705200d884a5f86d1d11731c29e20",
              "IPY_MODEL_3be80ec7238040e7a8bacdbcc8649d85"
            ],
            "layout": "IPY_MODEL_1f52d63fabcc4bd7810b164044698cd1"
          }
        },
        "f8e4eb15799e408f8e940c4214b7501f": {
          "model_module": "@jupyter-widgets/controls",
          "model_name": "HTMLModel",
          "model_module_version": "1.5.0",
          "state": {
            "_dom_classes": [],
            "_model_module": "@jupyter-widgets/controls",
            "_model_module_version": "1.5.0",
            "_model_name": "HTMLModel",
            "_view_count": null,
            "_view_module": "@jupyter-widgets/controls",
            "_view_module_version": "1.5.0",
            "_view_name": "HTMLView",
            "description": "",
            "description_tooltip": null,
            "layout": "IPY_MODEL_065b8c5724b14f34b951c424eb37fb01",
            "placeholder": "​",
            "style": "IPY_MODEL_8704ce02d68a4d54a4098b4c18c428ac",
            "value": ""
          }
        },
        "49b705200d884a5f86d1d11731c29e20": {
          "model_module": "@jupyter-widgets/controls",
          "model_name": "FloatProgressModel",
          "model_module_version": "1.5.0",
          "state": {
            "_dom_classes": [],
            "_model_module": "@jupyter-widgets/controls",
            "_model_module_version": "1.5.0",
            "_model_name": "FloatProgressModel",
            "_view_count": null,
            "_view_module": "@jupyter-widgets/controls",
            "_view_module_version": "1.5.0",
            "_view_name": "ProgressView",
            "bar_style": "success",
            "description": "",
            "description_tooltip": null,
            "layout": "IPY_MODEL_c41775b054e54a3eb8db27ef79594b77",
            "max": 1,
            "min": 0,
            "orientation": "horizontal",
            "style": "IPY_MODEL_09c43cfd938a4b05be2f16d5a03a0046",
            "value": 1
          }
        },
        "3be80ec7238040e7a8bacdbcc8649d85": {
          "model_module": "@jupyter-widgets/controls",
          "model_name": "HTMLModel",
          "model_module_version": "1.5.0",
          "state": {
            "_dom_classes": [],
            "_model_module": "@jupyter-widgets/controls",
            "_model_module_version": "1.5.0",
            "_model_name": "HTMLModel",
            "_view_count": null,
            "_view_module": "@jupyter-widgets/controls",
            "_view_module_version": "1.5.0",
            "_view_name": "HTMLView",
            "description": "",
            "description_tooltip": null,
            "layout": "IPY_MODEL_7c99503427824edab996d03b1c675cf4",
            "placeholder": "​",
            "style": "IPY_MODEL_2b35e2c563fa45af9107d57fb2fe490c",
            "value": " 5661/? [05:07&lt;00:00, 21.42it/s]"
          }
        },
        "1f52d63fabcc4bd7810b164044698cd1": {
          "model_module": "@jupyter-widgets/base",
          "model_name": "LayoutModel",
          "model_module_version": "1.2.0",
          "state": {
            "_model_module": "@jupyter-widgets/base",
            "_model_module_version": "1.2.0",
            "_model_name": "LayoutModel",
            "_view_count": null,
            "_view_module": "@jupyter-widgets/base",
            "_view_module_version": "1.2.0",
            "_view_name": "LayoutView",
            "align_content": null,
            "align_items": null,
            "align_self": null,
            "border": null,
            "bottom": null,
            "display": null,
            "flex": null,
            "flex_flow": null,
            "grid_area": null,
            "grid_auto_columns": null,
            "grid_auto_flow": null,
            "grid_auto_rows": null,
            "grid_column": null,
            "grid_gap": null,
            "grid_row": null,
            "grid_template_areas": null,
            "grid_template_columns": null,
            "grid_template_rows": null,
            "height": null,
            "justify_content": null,
            "justify_items": null,
            "left": null,
            "margin": null,
            "max_height": null,
            "max_width": null,
            "min_height": null,
            "min_width": null,
            "object_fit": null,
            "object_position": null,
            "order": null,
            "overflow": null,
            "overflow_x": null,
            "overflow_y": null,
            "padding": null,
            "right": null,
            "top": null,
            "visibility": null,
            "width": null
          }
        },
        "065b8c5724b14f34b951c424eb37fb01": {
          "model_module": "@jupyter-widgets/base",
          "model_name": "LayoutModel",
          "model_module_version": "1.2.0",
          "state": {
            "_model_module": "@jupyter-widgets/base",
            "_model_module_version": "1.2.0",
            "_model_name": "LayoutModel",
            "_view_count": null,
            "_view_module": "@jupyter-widgets/base",
            "_view_module_version": "1.2.0",
            "_view_name": "LayoutView",
            "align_content": null,
            "align_items": null,
            "align_self": null,
            "border": null,
            "bottom": null,
            "display": null,
            "flex": null,
            "flex_flow": null,
            "grid_area": null,
            "grid_auto_columns": null,
            "grid_auto_flow": null,
            "grid_auto_rows": null,
            "grid_column": null,
            "grid_gap": null,
            "grid_row": null,
            "grid_template_areas": null,
            "grid_template_columns": null,
            "grid_template_rows": null,
            "height": null,
            "justify_content": null,
            "justify_items": null,
            "left": null,
            "margin": null,
            "max_height": null,
            "max_width": null,
            "min_height": null,
            "min_width": null,
            "object_fit": null,
            "object_position": null,
            "order": null,
            "overflow": null,
            "overflow_x": null,
            "overflow_y": null,
            "padding": null,
            "right": null,
            "top": null,
            "visibility": null,
            "width": null
          }
        },
        "8704ce02d68a4d54a4098b4c18c428ac": {
          "model_module": "@jupyter-widgets/controls",
          "model_name": "DescriptionStyleModel",
          "model_module_version": "1.5.0",
          "state": {
            "_model_module": "@jupyter-widgets/controls",
            "_model_module_version": "1.5.0",
            "_model_name": "DescriptionStyleModel",
            "_view_count": null,
            "_view_module": "@jupyter-widgets/base",
            "_view_module_version": "1.2.0",
            "_view_name": "StyleView",
            "description_width": ""
          }
        },
        "c41775b054e54a3eb8db27ef79594b77": {
          "model_module": "@jupyter-widgets/base",
          "model_name": "LayoutModel",
          "model_module_version": "1.2.0",
          "state": {
            "_model_module": "@jupyter-widgets/base",
            "_model_module_version": "1.2.0",
            "_model_name": "LayoutModel",
            "_view_count": null,
            "_view_module": "@jupyter-widgets/base",
            "_view_module_version": "1.2.0",
            "_view_name": "LayoutView",
            "align_content": null,
            "align_items": null,
            "align_self": null,
            "border": null,
            "bottom": null,
            "display": null,
            "flex": null,
            "flex_flow": null,
            "grid_area": null,
            "grid_auto_columns": null,
            "grid_auto_flow": null,
            "grid_auto_rows": null,
            "grid_column": null,
            "grid_gap": null,
            "grid_row": null,
            "grid_template_areas": null,
            "grid_template_columns": null,
            "grid_template_rows": null,
            "height": null,
            "justify_content": null,
            "justify_items": null,
            "left": null,
            "margin": null,
            "max_height": null,
            "max_width": null,
            "min_height": null,
            "min_width": null,
            "object_fit": null,
            "object_position": null,
            "order": null,
            "overflow": null,
            "overflow_x": null,
            "overflow_y": null,
            "padding": null,
            "right": null,
            "top": null,
            "visibility": null,
            "width": "20px"
          }
        },
        "09c43cfd938a4b05be2f16d5a03a0046": {
          "model_module": "@jupyter-widgets/controls",
          "model_name": "ProgressStyleModel",
          "model_module_version": "1.5.0",
          "state": {
            "_model_module": "@jupyter-widgets/controls",
            "_model_module_version": "1.5.0",
            "_model_name": "ProgressStyleModel",
            "_view_count": null,
            "_view_module": "@jupyter-widgets/base",
            "_view_module_version": "1.2.0",
            "_view_name": "StyleView",
            "bar_color": null,
            "description_width": ""
          }
        },
        "7c99503427824edab996d03b1c675cf4": {
          "model_module": "@jupyter-widgets/base",
          "model_name": "LayoutModel",
          "model_module_version": "1.2.0",
          "state": {
            "_model_module": "@jupyter-widgets/base",
            "_model_module_version": "1.2.0",
            "_model_name": "LayoutModel",
            "_view_count": null,
            "_view_module": "@jupyter-widgets/base",
            "_view_module_version": "1.2.0",
            "_view_name": "LayoutView",
            "align_content": null,
            "align_items": null,
            "align_self": null,
            "border": null,
            "bottom": null,
            "display": null,
            "flex": null,
            "flex_flow": null,
            "grid_area": null,
            "grid_auto_columns": null,
            "grid_auto_flow": null,
            "grid_auto_rows": null,
            "grid_column": null,
            "grid_gap": null,
            "grid_row": null,
            "grid_template_areas": null,
            "grid_template_columns": null,
            "grid_template_rows": null,
            "height": null,
            "justify_content": null,
            "justify_items": null,
            "left": null,
            "margin": null,
            "max_height": null,
            "max_width": null,
            "min_height": null,
            "min_width": null,
            "object_fit": null,
            "object_position": null,
            "order": null,
            "overflow": null,
            "overflow_x": null,
            "overflow_y": null,
            "padding": null,
            "right": null,
            "top": null,
            "visibility": null,
            "width": null
          }
        },
        "2b35e2c563fa45af9107d57fb2fe490c": {
          "model_module": "@jupyter-widgets/controls",
          "model_name": "DescriptionStyleModel",
          "model_module_version": "1.5.0",
          "state": {
            "_model_module": "@jupyter-widgets/controls",
            "_model_module_version": "1.5.0",
            "_model_name": "DescriptionStyleModel",
            "_view_count": null,
            "_view_module": "@jupyter-widgets/base",
            "_view_module_version": "1.2.0",
            "_view_name": "StyleView",
            "description_width": ""
          }
        },
        "49e0c0f375f042948cd47e63fe91ff2e": {
          "model_module": "@jupyter-widgets/controls",
          "model_name": "HBoxModel",
          "model_module_version": "1.5.0",
          "state": {
            "_dom_classes": [],
            "_model_module": "@jupyter-widgets/controls",
            "_model_module_version": "1.5.0",
            "_model_name": "HBoxModel",
            "_view_count": null,
            "_view_module": "@jupyter-widgets/controls",
            "_view_module_version": "1.5.0",
            "_view_name": "HBoxView",
            "box_style": "",
            "children": [
              "IPY_MODEL_7521551364e4453d982896e5a6eb309b",
              "IPY_MODEL_44413d9e02ee483e824a5d2a5722c210",
              "IPY_MODEL_aa77ccf7a5804a5b913d08b981b772a9"
            ],
            "layout": "IPY_MODEL_e58e5896739b444d91e22476218a7377"
          }
        },
        "7521551364e4453d982896e5a6eb309b": {
          "model_module": "@jupyter-widgets/controls",
          "model_name": "HTMLModel",
          "model_module_version": "1.5.0",
          "state": {
            "_dom_classes": [],
            "_model_module": "@jupyter-widgets/controls",
            "_model_module_version": "1.5.0",
            "_model_name": "HTMLModel",
            "_view_count": null,
            "_view_module": "@jupyter-widgets/controls",
            "_view_module_version": "1.5.0",
            "_view_name": "HTMLView",
            "description": "",
            "description_tooltip": null,
            "layout": "IPY_MODEL_95f02876fb3046159a6e0eee09380041",
            "placeholder": "​",
            "style": "IPY_MODEL_697f5e2d5db64d39ba253bfe44a19384",
            "value": ""
          }
        },
        "44413d9e02ee483e824a5d2a5722c210": {
          "model_module": "@jupyter-widgets/controls",
          "model_name": "FloatProgressModel",
          "model_module_version": "1.5.0",
          "state": {
            "_dom_classes": [],
            "_model_module": "@jupyter-widgets/controls",
            "_model_module_version": "1.5.0",
            "_model_name": "FloatProgressModel",
            "_view_count": null,
            "_view_module": "@jupyter-widgets/controls",
            "_view_module_version": "1.5.0",
            "_view_name": "ProgressView",
            "bar_style": "success",
            "description": "",
            "description_tooltip": null,
            "layout": "IPY_MODEL_73c986fe332c480ba51c5f831cdb8444",
            "max": 1,
            "min": 0,
            "orientation": "horizontal",
            "style": "IPY_MODEL_41905236c93a4b6d86ac8b18ce0b96c8",
            "value": 1
          }
        },
        "aa77ccf7a5804a5b913d08b981b772a9": {
          "model_module": "@jupyter-widgets/controls",
          "model_name": "HTMLModel",
          "model_module_version": "1.5.0",
          "state": {
            "_dom_classes": [],
            "_model_module": "@jupyter-widgets/controls",
            "_model_module_version": "1.5.0",
            "_model_name": "HTMLModel",
            "_view_count": null,
            "_view_module": "@jupyter-widgets/controls",
            "_view_module_version": "1.5.0",
            "_view_name": "HTMLView",
            "description": "",
            "description_tooltip": null,
            "layout": "IPY_MODEL_1227a706341446499937f11c044be36e",
            "placeholder": "​",
            "style": "IPY_MODEL_e2cc1cc8b75a4fd5a3391c357fb0ab04",
            "value": " 4897/? [00:41&lt;00:00, 119.45it/s]"
          }
        },
        "e58e5896739b444d91e22476218a7377": {
          "model_module": "@jupyter-widgets/base",
          "model_name": "LayoutModel",
          "model_module_version": "1.2.0",
          "state": {
            "_model_module": "@jupyter-widgets/base",
            "_model_module_version": "1.2.0",
            "_model_name": "LayoutModel",
            "_view_count": null,
            "_view_module": "@jupyter-widgets/base",
            "_view_module_version": "1.2.0",
            "_view_name": "LayoutView",
            "align_content": null,
            "align_items": null,
            "align_self": null,
            "border": null,
            "bottom": null,
            "display": null,
            "flex": null,
            "flex_flow": null,
            "grid_area": null,
            "grid_auto_columns": null,
            "grid_auto_flow": null,
            "grid_auto_rows": null,
            "grid_column": null,
            "grid_gap": null,
            "grid_row": null,
            "grid_template_areas": null,
            "grid_template_columns": null,
            "grid_template_rows": null,
            "height": null,
            "justify_content": null,
            "justify_items": null,
            "left": null,
            "margin": null,
            "max_height": null,
            "max_width": null,
            "min_height": null,
            "min_width": null,
            "object_fit": null,
            "object_position": null,
            "order": null,
            "overflow": null,
            "overflow_x": null,
            "overflow_y": null,
            "padding": null,
            "right": null,
            "top": null,
            "visibility": null,
            "width": null
          }
        },
        "95f02876fb3046159a6e0eee09380041": {
          "model_module": "@jupyter-widgets/base",
          "model_name": "LayoutModel",
          "model_module_version": "1.2.0",
          "state": {
            "_model_module": "@jupyter-widgets/base",
            "_model_module_version": "1.2.0",
            "_model_name": "LayoutModel",
            "_view_count": null,
            "_view_module": "@jupyter-widgets/base",
            "_view_module_version": "1.2.0",
            "_view_name": "LayoutView",
            "align_content": null,
            "align_items": null,
            "align_self": null,
            "border": null,
            "bottom": null,
            "display": null,
            "flex": null,
            "flex_flow": null,
            "grid_area": null,
            "grid_auto_columns": null,
            "grid_auto_flow": null,
            "grid_auto_rows": null,
            "grid_column": null,
            "grid_gap": null,
            "grid_row": null,
            "grid_template_areas": null,
            "grid_template_columns": null,
            "grid_template_rows": null,
            "height": null,
            "justify_content": null,
            "justify_items": null,
            "left": null,
            "margin": null,
            "max_height": null,
            "max_width": null,
            "min_height": null,
            "min_width": null,
            "object_fit": null,
            "object_position": null,
            "order": null,
            "overflow": null,
            "overflow_x": null,
            "overflow_y": null,
            "padding": null,
            "right": null,
            "top": null,
            "visibility": null,
            "width": null
          }
        },
        "697f5e2d5db64d39ba253bfe44a19384": {
          "model_module": "@jupyter-widgets/controls",
          "model_name": "DescriptionStyleModel",
          "model_module_version": "1.5.0",
          "state": {
            "_model_module": "@jupyter-widgets/controls",
            "_model_module_version": "1.5.0",
            "_model_name": "DescriptionStyleModel",
            "_view_count": null,
            "_view_module": "@jupyter-widgets/base",
            "_view_module_version": "1.2.0",
            "_view_name": "StyleView",
            "description_width": ""
          }
        },
        "73c986fe332c480ba51c5f831cdb8444": {
          "model_module": "@jupyter-widgets/base",
          "model_name": "LayoutModel",
          "model_module_version": "1.2.0",
          "state": {
            "_model_module": "@jupyter-widgets/base",
            "_model_module_version": "1.2.0",
            "_model_name": "LayoutModel",
            "_view_count": null,
            "_view_module": "@jupyter-widgets/base",
            "_view_module_version": "1.2.0",
            "_view_name": "LayoutView",
            "align_content": null,
            "align_items": null,
            "align_self": null,
            "border": null,
            "bottom": null,
            "display": null,
            "flex": null,
            "flex_flow": null,
            "grid_area": null,
            "grid_auto_columns": null,
            "grid_auto_flow": null,
            "grid_auto_rows": null,
            "grid_column": null,
            "grid_gap": null,
            "grid_row": null,
            "grid_template_areas": null,
            "grid_template_columns": null,
            "grid_template_rows": null,
            "height": null,
            "justify_content": null,
            "justify_items": null,
            "left": null,
            "margin": null,
            "max_height": null,
            "max_width": null,
            "min_height": null,
            "min_width": null,
            "object_fit": null,
            "object_position": null,
            "order": null,
            "overflow": null,
            "overflow_x": null,
            "overflow_y": null,
            "padding": null,
            "right": null,
            "top": null,
            "visibility": null,
            "width": "20px"
          }
        },
        "41905236c93a4b6d86ac8b18ce0b96c8": {
          "model_module": "@jupyter-widgets/controls",
          "model_name": "ProgressStyleModel",
          "model_module_version": "1.5.0",
          "state": {
            "_model_module": "@jupyter-widgets/controls",
            "_model_module_version": "1.5.0",
            "_model_name": "ProgressStyleModel",
            "_view_count": null,
            "_view_module": "@jupyter-widgets/base",
            "_view_module_version": "1.2.0",
            "_view_name": "StyleView",
            "bar_color": null,
            "description_width": ""
          }
        },
        "1227a706341446499937f11c044be36e": {
          "model_module": "@jupyter-widgets/base",
          "model_name": "LayoutModel",
          "model_module_version": "1.2.0",
          "state": {
            "_model_module": "@jupyter-widgets/base",
            "_model_module_version": "1.2.0",
            "_model_name": "LayoutModel",
            "_view_count": null,
            "_view_module": "@jupyter-widgets/base",
            "_view_module_version": "1.2.0",
            "_view_name": "LayoutView",
            "align_content": null,
            "align_items": null,
            "align_self": null,
            "border": null,
            "bottom": null,
            "display": null,
            "flex": null,
            "flex_flow": null,
            "grid_area": null,
            "grid_auto_columns": null,
            "grid_auto_flow": null,
            "grid_auto_rows": null,
            "grid_column": null,
            "grid_gap": null,
            "grid_row": null,
            "grid_template_areas": null,
            "grid_template_columns": null,
            "grid_template_rows": null,
            "height": null,
            "justify_content": null,
            "justify_items": null,
            "left": null,
            "margin": null,
            "max_height": null,
            "max_width": null,
            "min_height": null,
            "min_width": null,
            "object_fit": null,
            "object_position": null,
            "order": null,
            "overflow": null,
            "overflow_x": null,
            "overflow_y": null,
            "padding": null,
            "right": null,
            "top": null,
            "visibility": null,
            "width": null
          }
        },
        "e2cc1cc8b75a4fd5a3391c357fb0ab04": {
          "model_module": "@jupyter-widgets/controls",
          "model_name": "DescriptionStyleModel",
          "model_module_version": "1.5.0",
          "state": {
            "_model_module": "@jupyter-widgets/controls",
            "_model_module_version": "1.5.0",
            "_model_name": "DescriptionStyleModel",
            "_view_count": null,
            "_view_module": "@jupyter-widgets/base",
            "_view_module_version": "1.2.0",
            "_view_name": "StyleView",
            "description_width": ""
          }
        },
        "cf8712bdec2d464283a07ec5fa3078bc": {
          "model_module": "@jupyter-widgets/controls",
          "model_name": "HBoxModel",
          "model_module_version": "1.5.0",
          "state": {
            "_dom_classes": [],
            "_model_module": "@jupyter-widgets/controls",
            "_model_module_version": "1.5.0",
            "_model_name": "HBoxModel",
            "_view_count": null,
            "_view_module": "@jupyter-widgets/controls",
            "_view_module_version": "1.5.0",
            "_view_name": "HBoxView",
            "box_style": "",
            "children": [
              "IPY_MODEL_ae5afb2978b140c198a039bbb96ec127",
              "IPY_MODEL_84157ec7701c46d6999ab0dc5376cacb",
              "IPY_MODEL_4eaeaa64472a4bb4b23b3c40735b6cdc"
            ],
            "layout": "IPY_MODEL_8dcca81933c9495882f0e6ad45e9e96d"
          }
        },
        "ae5afb2978b140c198a039bbb96ec127": {
          "model_module": "@jupyter-widgets/controls",
          "model_name": "HTMLModel",
          "model_module_version": "1.5.0",
          "state": {
            "_dom_classes": [],
            "_model_module": "@jupyter-widgets/controls",
            "_model_module_version": "1.5.0",
            "_model_name": "HTMLModel",
            "_view_count": null,
            "_view_module": "@jupyter-widgets/controls",
            "_view_module_version": "1.5.0",
            "_view_name": "HTMLView",
            "description": "",
            "description_tooltip": null,
            "layout": "IPY_MODEL_a8ba0420809d4285ac7df6faccbb1f03",
            "placeholder": "​",
            "style": "IPY_MODEL_2e71c3cd55e643e6931b42f37b75b6cd",
            "value": ""
          }
        },
        "84157ec7701c46d6999ab0dc5376cacb": {
          "model_module": "@jupyter-widgets/controls",
          "model_name": "FloatProgressModel",
          "model_module_version": "1.5.0",
          "state": {
            "_dom_classes": [],
            "_model_module": "@jupyter-widgets/controls",
            "_model_module_version": "1.5.0",
            "_model_name": "FloatProgressModel",
            "_view_count": null,
            "_view_module": "@jupyter-widgets/controls",
            "_view_module_version": "1.5.0",
            "_view_name": "ProgressView",
            "bar_style": "success",
            "description": "",
            "description_tooltip": null,
            "layout": "IPY_MODEL_930646f21ff94956852de39bf109c46f",
            "max": 1,
            "min": 0,
            "orientation": "horizontal",
            "style": "IPY_MODEL_66b0b88ce57a46c187ec2c62bd9900aa",
            "value": 1
          }
        },
        "4eaeaa64472a4bb4b23b3c40735b6cdc": {
          "model_module": "@jupyter-widgets/controls",
          "model_name": "HTMLModel",
          "model_module_version": "1.5.0",
          "state": {
            "_dom_classes": [],
            "_model_module": "@jupyter-widgets/controls",
            "_model_module_version": "1.5.0",
            "_model_name": "HTMLModel",
            "_view_count": null,
            "_view_module": "@jupyter-widgets/controls",
            "_view_module_version": "1.5.0",
            "_view_name": "HTMLView",
            "description": "",
            "description_tooltip": null,
            "layout": "IPY_MODEL_6b4845af77f642baa8a044a22ba7adb1",
            "placeholder": "​",
            "style": "IPY_MODEL_f277dc00e7f24db8a3d792353396f210",
            "value": " 3391/? [03:14&lt;00:00, 18.88it/s]"
          }
        },
        "8dcca81933c9495882f0e6ad45e9e96d": {
          "model_module": "@jupyter-widgets/base",
          "model_name": "LayoutModel",
          "model_module_version": "1.2.0",
          "state": {
            "_model_module": "@jupyter-widgets/base",
            "_model_module_version": "1.2.0",
            "_model_name": "LayoutModel",
            "_view_count": null,
            "_view_module": "@jupyter-widgets/base",
            "_view_module_version": "1.2.0",
            "_view_name": "LayoutView",
            "align_content": null,
            "align_items": null,
            "align_self": null,
            "border": null,
            "bottom": null,
            "display": null,
            "flex": null,
            "flex_flow": null,
            "grid_area": null,
            "grid_auto_columns": null,
            "grid_auto_flow": null,
            "grid_auto_rows": null,
            "grid_column": null,
            "grid_gap": null,
            "grid_row": null,
            "grid_template_areas": null,
            "grid_template_columns": null,
            "grid_template_rows": null,
            "height": null,
            "justify_content": null,
            "justify_items": null,
            "left": null,
            "margin": null,
            "max_height": null,
            "max_width": null,
            "min_height": null,
            "min_width": null,
            "object_fit": null,
            "object_position": null,
            "order": null,
            "overflow": null,
            "overflow_x": null,
            "overflow_y": null,
            "padding": null,
            "right": null,
            "top": null,
            "visibility": null,
            "width": null
          }
        },
        "a8ba0420809d4285ac7df6faccbb1f03": {
          "model_module": "@jupyter-widgets/base",
          "model_name": "LayoutModel",
          "model_module_version": "1.2.0",
          "state": {
            "_model_module": "@jupyter-widgets/base",
            "_model_module_version": "1.2.0",
            "_model_name": "LayoutModel",
            "_view_count": null,
            "_view_module": "@jupyter-widgets/base",
            "_view_module_version": "1.2.0",
            "_view_name": "LayoutView",
            "align_content": null,
            "align_items": null,
            "align_self": null,
            "border": null,
            "bottom": null,
            "display": null,
            "flex": null,
            "flex_flow": null,
            "grid_area": null,
            "grid_auto_columns": null,
            "grid_auto_flow": null,
            "grid_auto_rows": null,
            "grid_column": null,
            "grid_gap": null,
            "grid_row": null,
            "grid_template_areas": null,
            "grid_template_columns": null,
            "grid_template_rows": null,
            "height": null,
            "justify_content": null,
            "justify_items": null,
            "left": null,
            "margin": null,
            "max_height": null,
            "max_width": null,
            "min_height": null,
            "min_width": null,
            "object_fit": null,
            "object_position": null,
            "order": null,
            "overflow": null,
            "overflow_x": null,
            "overflow_y": null,
            "padding": null,
            "right": null,
            "top": null,
            "visibility": null,
            "width": null
          }
        },
        "2e71c3cd55e643e6931b42f37b75b6cd": {
          "model_module": "@jupyter-widgets/controls",
          "model_name": "DescriptionStyleModel",
          "model_module_version": "1.5.0",
          "state": {
            "_model_module": "@jupyter-widgets/controls",
            "_model_module_version": "1.5.0",
            "_model_name": "DescriptionStyleModel",
            "_view_count": null,
            "_view_module": "@jupyter-widgets/base",
            "_view_module_version": "1.2.0",
            "_view_name": "StyleView",
            "description_width": ""
          }
        },
        "930646f21ff94956852de39bf109c46f": {
          "model_module": "@jupyter-widgets/base",
          "model_name": "LayoutModel",
          "model_module_version": "1.2.0",
          "state": {
            "_model_module": "@jupyter-widgets/base",
            "_model_module_version": "1.2.0",
            "_model_name": "LayoutModel",
            "_view_count": null,
            "_view_module": "@jupyter-widgets/base",
            "_view_module_version": "1.2.0",
            "_view_name": "LayoutView",
            "align_content": null,
            "align_items": null,
            "align_self": null,
            "border": null,
            "bottom": null,
            "display": null,
            "flex": null,
            "flex_flow": null,
            "grid_area": null,
            "grid_auto_columns": null,
            "grid_auto_flow": null,
            "grid_auto_rows": null,
            "grid_column": null,
            "grid_gap": null,
            "grid_row": null,
            "grid_template_areas": null,
            "grid_template_columns": null,
            "grid_template_rows": null,
            "height": null,
            "justify_content": null,
            "justify_items": null,
            "left": null,
            "margin": null,
            "max_height": null,
            "max_width": null,
            "min_height": null,
            "min_width": null,
            "object_fit": null,
            "object_position": null,
            "order": null,
            "overflow": null,
            "overflow_x": null,
            "overflow_y": null,
            "padding": null,
            "right": null,
            "top": null,
            "visibility": null,
            "width": "20px"
          }
        },
        "66b0b88ce57a46c187ec2c62bd9900aa": {
          "model_module": "@jupyter-widgets/controls",
          "model_name": "ProgressStyleModel",
          "model_module_version": "1.5.0",
          "state": {
            "_model_module": "@jupyter-widgets/controls",
            "_model_module_version": "1.5.0",
            "_model_name": "ProgressStyleModel",
            "_view_count": null,
            "_view_module": "@jupyter-widgets/base",
            "_view_module_version": "1.2.0",
            "_view_name": "StyleView",
            "bar_color": null,
            "description_width": ""
          }
        },
        "6b4845af77f642baa8a044a22ba7adb1": {
          "model_module": "@jupyter-widgets/base",
          "model_name": "LayoutModel",
          "model_module_version": "1.2.0",
          "state": {
            "_model_module": "@jupyter-widgets/base",
            "_model_module_version": "1.2.0",
            "_model_name": "LayoutModel",
            "_view_count": null,
            "_view_module": "@jupyter-widgets/base",
            "_view_module_version": "1.2.0",
            "_view_name": "LayoutView",
            "align_content": null,
            "align_items": null,
            "align_self": null,
            "border": null,
            "bottom": null,
            "display": null,
            "flex": null,
            "flex_flow": null,
            "grid_area": null,
            "grid_auto_columns": null,
            "grid_auto_flow": null,
            "grid_auto_rows": null,
            "grid_column": null,
            "grid_gap": null,
            "grid_row": null,
            "grid_template_areas": null,
            "grid_template_columns": null,
            "grid_template_rows": null,
            "height": null,
            "justify_content": null,
            "justify_items": null,
            "left": null,
            "margin": null,
            "max_height": null,
            "max_width": null,
            "min_height": null,
            "min_width": null,
            "object_fit": null,
            "object_position": null,
            "order": null,
            "overflow": null,
            "overflow_x": null,
            "overflow_y": null,
            "padding": null,
            "right": null,
            "top": null,
            "visibility": null,
            "width": null
          }
        },
        "f277dc00e7f24db8a3d792353396f210": {
          "model_module": "@jupyter-widgets/controls",
          "model_name": "DescriptionStyleModel",
          "model_module_version": "1.5.0",
          "state": {
            "_model_module": "@jupyter-widgets/controls",
            "_model_module_version": "1.5.0",
            "_model_name": "DescriptionStyleModel",
            "_view_count": null,
            "_view_module": "@jupyter-widgets/base",
            "_view_module_version": "1.2.0",
            "_view_name": "StyleView",
            "description_width": ""
          }
        },
        "96961a5557b744519bc776dc36eca0f1": {
          "model_module": "@jupyter-widgets/controls",
          "model_name": "HBoxModel",
          "model_module_version": "1.5.0",
          "state": {
            "_dom_classes": [],
            "_model_module": "@jupyter-widgets/controls",
            "_model_module_version": "1.5.0",
            "_model_name": "HBoxModel",
            "_view_count": null,
            "_view_module": "@jupyter-widgets/controls",
            "_view_module_version": "1.5.0",
            "_view_name": "HBoxView",
            "box_style": "",
            "children": [
              "IPY_MODEL_0cf0f686376f4f5b8da32d887167fd8e",
              "IPY_MODEL_8d82e10829774c5db8ba4ef3e4a2c4b7",
              "IPY_MODEL_d19ab7dd85434b50962c2daea9cc8a4e"
            ],
            "layout": "IPY_MODEL_a0ac862a905c43aeb50679e1bbf91a72"
          }
        },
        "0cf0f686376f4f5b8da32d887167fd8e": {
          "model_module": "@jupyter-widgets/controls",
          "model_name": "HTMLModel",
          "model_module_version": "1.5.0",
          "state": {
            "_dom_classes": [],
            "_model_module": "@jupyter-widgets/controls",
            "_model_module_version": "1.5.0",
            "_model_name": "HTMLModel",
            "_view_count": null,
            "_view_module": "@jupyter-widgets/controls",
            "_view_module_version": "1.5.0",
            "_view_name": "HTMLView",
            "description": "",
            "description_tooltip": null,
            "layout": "IPY_MODEL_2813c6f427f045c8a346c1b3eb9cb54f",
            "placeholder": "​",
            "style": "IPY_MODEL_a5e26649882949839006ee53ebbee827",
            "value": ""
          }
        },
        "8d82e10829774c5db8ba4ef3e4a2c4b7": {
          "model_module": "@jupyter-widgets/controls",
          "model_name": "FloatProgressModel",
          "model_module_version": "1.5.0",
          "state": {
            "_dom_classes": [],
            "_model_module": "@jupyter-widgets/controls",
            "_model_module_version": "1.5.0",
            "_model_name": "FloatProgressModel",
            "_view_count": null,
            "_view_module": "@jupyter-widgets/controls",
            "_view_module_version": "1.5.0",
            "_view_name": "ProgressView",
            "bar_style": "success",
            "description": "",
            "description_tooltip": null,
            "layout": "IPY_MODEL_ad6ee683be1f43dfa1f52d2afca5fe4d",
            "max": 1,
            "min": 0,
            "orientation": "horizontal",
            "style": "IPY_MODEL_f73ea6b86b62438483a7bc22c8f6e87f",
            "value": 1
          }
        },
        "d19ab7dd85434b50962c2daea9cc8a4e": {
          "model_module": "@jupyter-widgets/controls",
          "model_name": "HTMLModel",
          "model_module_version": "1.5.0",
          "state": {
            "_dom_classes": [],
            "_model_module": "@jupyter-widgets/controls",
            "_model_module_version": "1.5.0",
            "_model_name": "HTMLModel",
            "_view_count": null,
            "_view_module": "@jupyter-widgets/controls",
            "_view_module_version": "1.5.0",
            "_view_name": "HTMLView",
            "description": "",
            "description_tooltip": null,
            "layout": "IPY_MODEL_ab70525ba4604861af82563f4363bdc5",
            "placeholder": "​",
            "style": "IPY_MODEL_eeae9cb487374c8abd2641e659644dcb",
            "value": " 6095/? [04:29&lt;00:00, 24.46it/s]"
          }
        },
        "a0ac862a905c43aeb50679e1bbf91a72": {
          "model_module": "@jupyter-widgets/base",
          "model_name": "LayoutModel",
          "model_module_version": "1.2.0",
          "state": {
            "_model_module": "@jupyter-widgets/base",
            "_model_module_version": "1.2.0",
            "_model_name": "LayoutModel",
            "_view_count": null,
            "_view_module": "@jupyter-widgets/base",
            "_view_module_version": "1.2.0",
            "_view_name": "LayoutView",
            "align_content": null,
            "align_items": null,
            "align_self": null,
            "border": null,
            "bottom": null,
            "display": null,
            "flex": null,
            "flex_flow": null,
            "grid_area": null,
            "grid_auto_columns": null,
            "grid_auto_flow": null,
            "grid_auto_rows": null,
            "grid_column": null,
            "grid_gap": null,
            "grid_row": null,
            "grid_template_areas": null,
            "grid_template_columns": null,
            "grid_template_rows": null,
            "height": null,
            "justify_content": null,
            "justify_items": null,
            "left": null,
            "margin": null,
            "max_height": null,
            "max_width": null,
            "min_height": null,
            "min_width": null,
            "object_fit": null,
            "object_position": null,
            "order": null,
            "overflow": null,
            "overflow_x": null,
            "overflow_y": null,
            "padding": null,
            "right": null,
            "top": null,
            "visibility": null,
            "width": null
          }
        },
        "2813c6f427f045c8a346c1b3eb9cb54f": {
          "model_module": "@jupyter-widgets/base",
          "model_name": "LayoutModel",
          "model_module_version": "1.2.0",
          "state": {
            "_model_module": "@jupyter-widgets/base",
            "_model_module_version": "1.2.0",
            "_model_name": "LayoutModel",
            "_view_count": null,
            "_view_module": "@jupyter-widgets/base",
            "_view_module_version": "1.2.0",
            "_view_name": "LayoutView",
            "align_content": null,
            "align_items": null,
            "align_self": null,
            "border": null,
            "bottom": null,
            "display": null,
            "flex": null,
            "flex_flow": null,
            "grid_area": null,
            "grid_auto_columns": null,
            "grid_auto_flow": null,
            "grid_auto_rows": null,
            "grid_column": null,
            "grid_gap": null,
            "grid_row": null,
            "grid_template_areas": null,
            "grid_template_columns": null,
            "grid_template_rows": null,
            "height": null,
            "justify_content": null,
            "justify_items": null,
            "left": null,
            "margin": null,
            "max_height": null,
            "max_width": null,
            "min_height": null,
            "min_width": null,
            "object_fit": null,
            "object_position": null,
            "order": null,
            "overflow": null,
            "overflow_x": null,
            "overflow_y": null,
            "padding": null,
            "right": null,
            "top": null,
            "visibility": null,
            "width": null
          }
        },
        "a5e26649882949839006ee53ebbee827": {
          "model_module": "@jupyter-widgets/controls",
          "model_name": "DescriptionStyleModel",
          "model_module_version": "1.5.0",
          "state": {
            "_model_module": "@jupyter-widgets/controls",
            "_model_module_version": "1.5.0",
            "_model_name": "DescriptionStyleModel",
            "_view_count": null,
            "_view_module": "@jupyter-widgets/base",
            "_view_module_version": "1.2.0",
            "_view_name": "StyleView",
            "description_width": ""
          }
        },
        "ad6ee683be1f43dfa1f52d2afca5fe4d": {
          "model_module": "@jupyter-widgets/base",
          "model_name": "LayoutModel",
          "model_module_version": "1.2.0",
          "state": {
            "_model_module": "@jupyter-widgets/base",
            "_model_module_version": "1.2.0",
            "_model_name": "LayoutModel",
            "_view_count": null,
            "_view_module": "@jupyter-widgets/base",
            "_view_module_version": "1.2.0",
            "_view_name": "LayoutView",
            "align_content": null,
            "align_items": null,
            "align_self": null,
            "border": null,
            "bottom": null,
            "display": null,
            "flex": null,
            "flex_flow": null,
            "grid_area": null,
            "grid_auto_columns": null,
            "grid_auto_flow": null,
            "grid_auto_rows": null,
            "grid_column": null,
            "grid_gap": null,
            "grid_row": null,
            "grid_template_areas": null,
            "grid_template_columns": null,
            "grid_template_rows": null,
            "height": null,
            "justify_content": null,
            "justify_items": null,
            "left": null,
            "margin": null,
            "max_height": null,
            "max_width": null,
            "min_height": null,
            "min_width": null,
            "object_fit": null,
            "object_position": null,
            "order": null,
            "overflow": null,
            "overflow_x": null,
            "overflow_y": null,
            "padding": null,
            "right": null,
            "top": null,
            "visibility": null,
            "width": "20px"
          }
        },
        "f73ea6b86b62438483a7bc22c8f6e87f": {
          "model_module": "@jupyter-widgets/controls",
          "model_name": "ProgressStyleModel",
          "model_module_version": "1.5.0",
          "state": {
            "_model_module": "@jupyter-widgets/controls",
            "_model_module_version": "1.5.0",
            "_model_name": "ProgressStyleModel",
            "_view_count": null,
            "_view_module": "@jupyter-widgets/base",
            "_view_module_version": "1.2.0",
            "_view_name": "StyleView",
            "bar_color": null,
            "description_width": ""
          }
        },
        "ab70525ba4604861af82563f4363bdc5": {
          "model_module": "@jupyter-widgets/base",
          "model_name": "LayoutModel",
          "model_module_version": "1.2.0",
          "state": {
            "_model_module": "@jupyter-widgets/base",
            "_model_module_version": "1.2.0",
            "_model_name": "LayoutModel",
            "_view_count": null,
            "_view_module": "@jupyter-widgets/base",
            "_view_module_version": "1.2.0",
            "_view_name": "LayoutView",
            "align_content": null,
            "align_items": null,
            "align_self": null,
            "border": null,
            "bottom": null,
            "display": null,
            "flex": null,
            "flex_flow": null,
            "grid_area": null,
            "grid_auto_columns": null,
            "grid_auto_flow": null,
            "grid_auto_rows": null,
            "grid_column": null,
            "grid_gap": null,
            "grid_row": null,
            "grid_template_areas": null,
            "grid_template_columns": null,
            "grid_template_rows": null,
            "height": null,
            "justify_content": null,
            "justify_items": null,
            "left": null,
            "margin": null,
            "max_height": null,
            "max_width": null,
            "min_height": null,
            "min_width": null,
            "object_fit": null,
            "object_position": null,
            "order": null,
            "overflow": null,
            "overflow_x": null,
            "overflow_y": null,
            "padding": null,
            "right": null,
            "top": null,
            "visibility": null,
            "width": null
          }
        },
        "eeae9cb487374c8abd2641e659644dcb": {
          "model_module": "@jupyter-widgets/controls",
          "model_name": "DescriptionStyleModel",
          "model_module_version": "1.5.0",
          "state": {
            "_model_module": "@jupyter-widgets/controls",
            "_model_module_version": "1.5.0",
            "_model_name": "DescriptionStyleModel",
            "_view_count": null,
            "_view_module": "@jupyter-widgets/base",
            "_view_module_version": "1.2.0",
            "_view_name": "StyleView",
            "description_width": ""
          }
        },
        "f5dfdfaaa93e46859f0de985625e31e7": {
          "model_module": "@jupyter-widgets/controls",
          "model_name": "HBoxModel",
          "model_module_version": "1.5.0",
          "state": {
            "_dom_classes": [],
            "_model_module": "@jupyter-widgets/controls",
            "_model_module_version": "1.5.0",
            "_model_name": "HBoxModel",
            "_view_count": null,
            "_view_module": "@jupyter-widgets/controls",
            "_view_module_version": "1.5.0",
            "_view_name": "HBoxView",
            "box_style": "",
            "children": [
              "IPY_MODEL_4ccab720f7864bb9959de790e9e11000",
              "IPY_MODEL_49743429fbc044bc8d99f67a7d4e0344",
              "IPY_MODEL_9701007bd469471fa90c4653dd400b88"
            ],
            "layout": "IPY_MODEL_0288ce23e01149af8cf57c61ac7ba34f"
          }
        },
        "4ccab720f7864bb9959de790e9e11000": {
          "model_module": "@jupyter-widgets/controls",
          "model_name": "HTMLModel",
          "model_module_version": "1.5.0",
          "state": {
            "_dom_classes": [],
            "_model_module": "@jupyter-widgets/controls",
            "_model_module_version": "1.5.0",
            "_model_name": "HTMLModel",
            "_view_count": null,
            "_view_module": "@jupyter-widgets/controls",
            "_view_module_version": "1.5.0",
            "_view_name": "HTMLView",
            "description": "",
            "description_tooltip": null,
            "layout": "IPY_MODEL_e4a98008156e452e8cba47b4dff63f33",
            "placeholder": "​",
            "style": "IPY_MODEL_0701833e30b84e4595537eeb8e25a668",
            "value": ""
          }
        },
        "49743429fbc044bc8d99f67a7d4e0344": {
          "model_module": "@jupyter-widgets/controls",
          "model_name": "FloatProgressModel",
          "model_module_version": "1.5.0",
          "state": {
            "_dom_classes": [],
            "_model_module": "@jupyter-widgets/controls",
            "_model_module_version": "1.5.0",
            "_model_name": "FloatProgressModel",
            "_view_count": null,
            "_view_module": "@jupyter-widgets/controls",
            "_view_module_version": "1.5.0",
            "_view_name": "ProgressView",
            "bar_style": "success",
            "description": "",
            "description_tooltip": null,
            "layout": "IPY_MODEL_ca117c5c7d7f4c3eb9d4020d8274b981",
            "max": 1,
            "min": 0,
            "orientation": "horizontal",
            "style": "IPY_MODEL_057c72f078e742559276cd62a0f7d552",
            "value": 1
          }
        },
        "9701007bd469471fa90c4653dd400b88": {
          "model_module": "@jupyter-widgets/controls",
          "model_name": "HTMLModel",
          "model_module_version": "1.5.0",
          "state": {
            "_dom_classes": [],
            "_model_module": "@jupyter-widgets/controls",
            "_model_module_version": "1.5.0",
            "_model_name": "HTMLModel",
            "_view_count": null,
            "_view_module": "@jupyter-widgets/controls",
            "_view_module_version": "1.5.0",
            "_view_name": "HTMLView",
            "description": "",
            "description_tooltip": null,
            "layout": "IPY_MODEL_1f791961c144467fa705b954489910bd",
            "placeholder": "​",
            "style": "IPY_MODEL_e8bb677d17b147bba74fb823f423e868",
            "value": " 3249/? [03:07&lt;00:00, 20.53it/s]"
          }
        },
        "0288ce23e01149af8cf57c61ac7ba34f": {
          "model_module": "@jupyter-widgets/base",
          "model_name": "LayoutModel",
          "model_module_version": "1.2.0",
          "state": {
            "_model_module": "@jupyter-widgets/base",
            "_model_module_version": "1.2.0",
            "_model_name": "LayoutModel",
            "_view_count": null,
            "_view_module": "@jupyter-widgets/base",
            "_view_module_version": "1.2.0",
            "_view_name": "LayoutView",
            "align_content": null,
            "align_items": null,
            "align_self": null,
            "border": null,
            "bottom": null,
            "display": null,
            "flex": null,
            "flex_flow": null,
            "grid_area": null,
            "grid_auto_columns": null,
            "grid_auto_flow": null,
            "grid_auto_rows": null,
            "grid_column": null,
            "grid_gap": null,
            "grid_row": null,
            "grid_template_areas": null,
            "grid_template_columns": null,
            "grid_template_rows": null,
            "height": null,
            "justify_content": null,
            "justify_items": null,
            "left": null,
            "margin": null,
            "max_height": null,
            "max_width": null,
            "min_height": null,
            "min_width": null,
            "object_fit": null,
            "object_position": null,
            "order": null,
            "overflow": null,
            "overflow_x": null,
            "overflow_y": null,
            "padding": null,
            "right": null,
            "top": null,
            "visibility": null,
            "width": null
          }
        },
        "e4a98008156e452e8cba47b4dff63f33": {
          "model_module": "@jupyter-widgets/base",
          "model_name": "LayoutModel",
          "model_module_version": "1.2.0",
          "state": {
            "_model_module": "@jupyter-widgets/base",
            "_model_module_version": "1.2.0",
            "_model_name": "LayoutModel",
            "_view_count": null,
            "_view_module": "@jupyter-widgets/base",
            "_view_module_version": "1.2.0",
            "_view_name": "LayoutView",
            "align_content": null,
            "align_items": null,
            "align_self": null,
            "border": null,
            "bottom": null,
            "display": null,
            "flex": null,
            "flex_flow": null,
            "grid_area": null,
            "grid_auto_columns": null,
            "grid_auto_flow": null,
            "grid_auto_rows": null,
            "grid_column": null,
            "grid_gap": null,
            "grid_row": null,
            "grid_template_areas": null,
            "grid_template_columns": null,
            "grid_template_rows": null,
            "height": null,
            "justify_content": null,
            "justify_items": null,
            "left": null,
            "margin": null,
            "max_height": null,
            "max_width": null,
            "min_height": null,
            "min_width": null,
            "object_fit": null,
            "object_position": null,
            "order": null,
            "overflow": null,
            "overflow_x": null,
            "overflow_y": null,
            "padding": null,
            "right": null,
            "top": null,
            "visibility": null,
            "width": null
          }
        },
        "0701833e30b84e4595537eeb8e25a668": {
          "model_module": "@jupyter-widgets/controls",
          "model_name": "DescriptionStyleModel",
          "model_module_version": "1.5.0",
          "state": {
            "_model_module": "@jupyter-widgets/controls",
            "_model_module_version": "1.5.0",
            "_model_name": "DescriptionStyleModel",
            "_view_count": null,
            "_view_module": "@jupyter-widgets/base",
            "_view_module_version": "1.2.0",
            "_view_name": "StyleView",
            "description_width": ""
          }
        },
        "ca117c5c7d7f4c3eb9d4020d8274b981": {
          "model_module": "@jupyter-widgets/base",
          "model_name": "LayoutModel",
          "model_module_version": "1.2.0",
          "state": {
            "_model_module": "@jupyter-widgets/base",
            "_model_module_version": "1.2.0",
            "_model_name": "LayoutModel",
            "_view_count": null,
            "_view_module": "@jupyter-widgets/base",
            "_view_module_version": "1.2.0",
            "_view_name": "LayoutView",
            "align_content": null,
            "align_items": null,
            "align_self": null,
            "border": null,
            "bottom": null,
            "display": null,
            "flex": null,
            "flex_flow": null,
            "grid_area": null,
            "grid_auto_columns": null,
            "grid_auto_flow": null,
            "grid_auto_rows": null,
            "grid_column": null,
            "grid_gap": null,
            "grid_row": null,
            "grid_template_areas": null,
            "grid_template_columns": null,
            "grid_template_rows": null,
            "height": null,
            "justify_content": null,
            "justify_items": null,
            "left": null,
            "margin": null,
            "max_height": null,
            "max_width": null,
            "min_height": null,
            "min_width": null,
            "object_fit": null,
            "object_position": null,
            "order": null,
            "overflow": null,
            "overflow_x": null,
            "overflow_y": null,
            "padding": null,
            "right": null,
            "top": null,
            "visibility": null,
            "width": "20px"
          }
        },
        "057c72f078e742559276cd62a0f7d552": {
          "model_module": "@jupyter-widgets/controls",
          "model_name": "ProgressStyleModel",
          "model_module_version": "1.5.0",
          "state": {
            "_model_module": "@jupyter-widgets/controls",
            "_model_module_version": "1.5.0",
            "_model_name": "ProgressStyleModel",
            "_view_count": null,
            "_view_module": "@jupyter-widgets/base",
            "_view_module_version": "1.2.0",
            "_view_name": "StyleView",
            "bar_color": null,
            "description_width": ""
          }
        },
        "1f791961c144467fa705b954489910bd": {
          "model_module": "@jupyter-widgets/base",
          "model_name": "LayoutModel",
          "model_module_version": "1.2.0",
          "state": {
            "_model_module": "@jupyter-widgets/base",
            "_model_module_version": "1.2.0",
            "_model_name": "LayoutModel",
            "_view_count": null,
            "_view_module": "@jupyter-widgets/base",
            "_view_module_version": "1.2.0",
            "_view_name": "LayoutView",
            "align_content": null,
            "align_items": null,
            "align_self": null,
            "border": null,
            "bottom": null,
            "display": null,
            "flex": null,
            "flex_flow": null,
            "grid_area": null,
            "grid_auto_columns": null,
            "grid_auto_flow": null,
            "grid_auto_rows": null,
            "grid_column": null,
            "grid_gap": null,
            "grid_row": null,
            "grid_template_areas": null,
            "grid_template_columns": null,
            "grid_template_rows": null,
            "height": null,
            "justify_content": null,
            "justify_items": null,
            "left": null,
            "margin": null,
            "max_height": null,
            "max_width": null,
            "min_height": null,
            "min_width": null,
            "object_fit": null,
            "object_position": null,
            "order": null,
            "overflow": null,
            "overflow_x": null,
            "overflow_y": null,
            "padding": null,
            "right": null,
            "top": null,
            "visibility": null,
            "width": null
          }
        },
        "e8bb677d17b147bba74fb823f423e868": {
          "model_module": "@jupyter-widgets/controls",
          "model_name": "DescriptionStyleModel",
          "model_module_version": "1.5.0",
          "state": {
            "_model_module": "@jupyter-widgets/controls",
            "_model_module_version": "1.5.0",
            "_model_name": "DescriptionStyleModel",
            "_view_count": null,
            "_view_module": "@jupyter-widgets/base",
            "_view_module_version": "1.2.0",
            "_view_name": "StyleView",
            "description_width": ""
          }
        },
        "5f139d7cde1443e2b48bc9c8f3674bec": {
          "model_module": "@jupyter-widgets/controls",
          "model_name": "HBoxModel",
          "model_module_version": "1.5.0",
          "state": {
            "_dom_classes": [],
            "_model_module": "@jupyter-widgets/controls",
            "_model_module_version": "1.5.0",
            "_model_name": "HBoxModel",
            "_view_count": null,
            "_view_module": "@jupyter-widgets/controls",
            "_view_module_version": "1.5.0",
            "_view_name": "HBoxView",
            "box_style": "",
            "children": [
              "IPY_MODEL_76f745f0662e43a38c9b2ea8973ebb6a",
              "IPY_MODEL_b1da81d3fb654841b42140695e38bab5",
              "IPY_MODEL_f0cfa6c5d5de4e2b897e7af66897671e"
            ],
            "layout": "IPY_MODEL_e5bf8e92d20642439339d361d1320d8f"
          }
        },
        "76f745f0662e43a38c9b2ea8973ebb6a": {
          "model_module": "@jupyter-widgets/controls",
          "model_name": "HTMLModel",
          "model_module_version": "1.5.0",
          "state": {
            "_dom_classes": [],
            "_model_module": "@jupyter-widgets/controls",
            "_model_module_version": "1.5.0",
            "_model_name": "HTMLModel",
            "_view_count": null,
            "_view_module": "@jupyter-widgets/controls",
            "_view_module_version": "1.5.0",
            "_view_name": "HTMLView",
            "description": "",
            "description_tooltip": null,
            "layout": "IPY_MODEL_b408d36d49b049d59bb26e6f467a4cde",
            "placeholder": "​",
            "style": "IPY_MODEL_8dde7c23e3af435bb7e2af241edf7f2c",
            "value": ""
          }
        },
        "b1da81d3fb654841b42140695e38bab5": {
          "model_module": "@jupyter-widgets/controls",
          "model_name": "FloatProgressModel",
          "model_module_version": "1.5.0",
          "state": {
            "_dom_classes": [],
            "_model_module": "@jupyter-widgets/controls",
            "_model_module_version": "1.5.0",
            "_model_name": "FloatProgressModel",
            "_view_count": null,
            "_view_module": "@jupyter-widgets/controls",
            "_view_module_version": "1.5.0",
            "_view_name": "ProgressView",
            "bar_style": "success",
            "description": "",
            "description_tooltip": null,
            "layout": "IPY_MODEL_c3ba93b6741043cb91de5ea4ab2590df",
            "max": 1,
            "min": 0,
            "orientation": "horizontal",
            "style": "IPY_MODEL_3a90b6f95ca743c0b5ce83f1d586a0b1",
            "value": 1
          }
        },
        "f0cfa6c5d5de4e2b897e7af66897671e": {
          "model_module": "@jupyter-widgets/controls",
          "model_name": "HTMLModel",
          "model_module_version": "1.5.0",
          "state": {
            "_dom_classes": [],
            "_model_module": "@jupyter-widgets/controls",
            "_model_module_version": "1.5.0",
            "_model_name": "HTMLModel",
            "_view_count": null,
            "_view_module": "@jupyter-widgets/controls",
            "_view_module_version": "1.5.0",
            "_view_name": "HTMLView",
            "description": "",
            "description_tooltip": null,
            "layout": "IPY_MODEL_15ec237b971c47c9af10136e378ddd67",
            "placeholder": "​",
            "style": "IPY_MODEL_b0f7ccfb55aa4cbf8f864980a4437f86",
            "value": " 7748/? [07:16&lt;00:00, 15.17it/s]"
          }
        },
        "e5bf8e92d20642439339d361d1320d8f": {
          "model_module": "@jupyter-widgets/base",
          "model_name": "LayoutModel",
          "model_module_version": "1.2.0",
          "state": {
            "_model_module": "@jupyter-widgets/base",
            "_model_module_version": "1.2.0",
            "_model_name": "LayoutModel",
            "_view_count": null,
            "_view_module": "@jupyter-widgets/base",
            "_view_module_version": "1.2.0",
            "_view_name": "LayoutView",
            "align_content": null,
            "align_items": null,
            "align_self": null,
            "border": null,
            "bottom": null,
            "display": null,
            "flex": null,
            "flex_flow": null,
            "grid_area": null,
            "grid_auto_columns": null,
            "grid_auto_flow": null,
            "grid_auto_rows": null,
            "grid_column": null,
            "grid_gap": null,
            "grid_row": null,
            "grid_template_areas": null,
            "grid_template_columns": null,
            "grid_template_rows": null,
            "height": null,
            "justify_content": null,
            "justify_items": null,
            "left": null,
            "margin": null,
            "max_height": null,
            "max_width": null,
            "min_height": null,
            "min_width": null,
            "object_fit": null,
            "object_position": null,
            "order": null,
            "overflow": null,
            "overflow_x": null,
            "overflow_y": null,
            "padding": null,
            "right": null,
            "top": null,
            "visibility": null,
            "width": null
          }
        },
        "b408d36d49b049d59bb26e6f467a4cde": {
          "model_module": "@jupyter-widgets/base",
          "model_name": "LayoutModel",
          "model_module_version": "1.2.0",
          "state": {
            "_model_module": "@jupyter-widgets/base",
            "_model_module_version": "1.2.0",
            "_model_name": "LayoutModel",
            "_view_count": null,
            "_view_module": "@jupyter-widgets/base",
            "_view_module_version": "1.2.0",
            "_view_name": "LayoutView",
            "align_content": null,
            "align_items": null,
            "align_self": null,
            "border": null,
            "bottom": null,
            "display": null,
            "flex": null,
            "flex_flow": null,
            "grid_area": null,
            "grid_auto_columns": null,
            "grid_auto_flow": null,
            "grid_auto_rows": null,
            "grid_column": null,
            "grid_gap": null,
            "grid_row": null,
            "grid_template_areas": null,
            "grid_template_columns": null,
            "grid_template_rows": null,
            "height": null,
            "justify_content": null,
            "justify_items": null,
            "left": null,
            "margin": null,
            "max_height": null,
            "max_width": null,
            "min_height": null,
            "min_width": null,
            "object_fit": null,
            "object_position": null,
            "order": null,
            "overflow": null,
            "overflow_x": null,
            "overflow_y": null,
            "padding": null,
            "right": null,
            "top": null,
            "visibility": null,
            "width": null
          }
        },
        "8dde7c23e3af435bb7e2af241edf7f2c": {
          "model_module": "@jupyter-widgets/controls",
          "model_name": "DescriptionStyleModel",
          "model_module_version": "1.5.0",
          "state": {
            "_model_module": "@jupyter-widgets/controls",
            "_model_module_version": "1.5.0",
            "_model_name": "DescriptionStyleModel",
            "_view_count": null,
            "_view_module": "@jupyter-widgets/base",
            "_view_module_version": "1.2.0",
            "_view_name": "StyleView",
            "description_width": ""
          }
        },
        "c3ba93b6741043cb91de5ea4ab2590df": {
          "model_module": "@jupyter-widgets/base",
          "model_name": "LayoutModel",
          "model_module_version": "1.2.0",
          "state": {
            "_model_module": "@jupyter-widgets/base",
            "_model_module_version": "1.2.0",
            "_model_name": "LayoutModel",
            "_view_count": null,
            "_view_module": "@jupyter-widgets/base",
            "_view_module_version": "1.2.0",
            "_view_name": "LayoutView",
            "align_content": null,
            "align_items": null,
            "align_self": null,
            "border": null,
            "bottom": null,
            "display": null,
            "flex": null,
            "flex_flow": null,
            "grid_area": null,
            "grid_auto_columns": null,
            "grid_auto_flow": null,
            "grid_auto_rows": null,
            "grid_column": null,
            "grid_gap": null,
            "grid_row": null,
            "grid_template_areas": null,
            "grid_template_columns": null,
            "grid_template_rows": null,
            "height": null,
            "justify_content": null,
            "justify_items": null,
            "left": null,
            "margin": null,
            "max_height": null,
            "max_width": null,
            "min_height": null,
            "min_width": null,
            "object_fit": null,
            "object_position": null,
            "order": null,
            "overflow": null,
            "overflow_x": null,
            "overflow_y": null,
            "padding": null,
            "right": null,
            "top": null,
            "visibility": null,
            "width": "20px"
          }
        },
        "3a90b6f95ca743c0b5ce83f1d586a0b1": {
          "model_module": "@jupyter-widgets/controls",
          "model_name": "ProgressStyleModel",
          "model_module_version": "1.5.0",
          "state": {
            "_model_module": "@jupyter-widgets/controls",
            "_model_module_version": "1.5.0",
            "_model_name": "ProgressStyleModel",
            "_view_count": null,
            "_view_module": "@jupyter-widgets/base",
            "_view_module_version": "1.2.0",
            "_view_name": "StyleView",
            "bar_color": null,
            "description_width": ""
          }
        },
        "15ec237b971c47c9af10136e378ddd67": {
          "model_module": "@jupyter-widgets/base",
          "model_name": "LayoutModel",
          "model_module_version": "1.2.0",
          "state": {
            "_model_module": "@jupyter-widgets/base",
            "_model_module_version": "1.2.0",
            "_model_name": "LayoutModel",
            "_view_count": null,
            "_view_module": "@jupyter-widgets/base",
            "_view_module_version": "1.2.0",
            "_view_name": "LayoutView",
            "align_content": null,
            "align_items": null,
            "align_self": null,
            "border": null,
            "bottom": null,
            "display": null,
            "flex": null,
            "flex_flow": null,
            "grid_area": null,
            "grid_auto_columns": null,
            "grid_auto_flow": null,
            "grid_auto_rows": null,
            "grid_column": null,
            "grid_gap": null,
            "grid_row": null,
            "grid_template_areas": null,
            "grid_template_columns": null,
            "grid_template_rows": null,
            "height": null,
            "justify_content": null,
            "justify_items": null,
            "left": null,
            "margin": null,
            "max_height": null,
            "max_width": null,
            "min_height": null,
            "min_width": null,
            "object_fit": null,
            "object_position": null,
            "order": null,
            "overflow": null,
            "overflow_x": null,
            "overflow_y": null,
            "padding": null,
            "right": null,
            "top": null,
            "visibility": null,
            "width": null
          }
        },
        "b0f7ccfb55aa4cbf8f864980a4437f86": {
          "model_module": "@jupyter-widgets/controls",
          "model_name": "DescriptionStyleModel",
          "model_module_version": "1.5.0",
          "state": {
            "_model_module": "@jupyter-widgets/controls",
            "_model_module_version": "1.5.0",
            "_model_name": "DescriptionStyleModel",
            "_view_count": null,
            "_view_module": "@jupyter-widgets/base",
            "_view_module_version": "1.2.0",
            "_view_name": "StyleView",
            "description_width": ""
          }
        },
        "8d87dffdf890475388cbcd025789ce58": {
          "model_module": "@jupyter-widgets/controls",
          "model_name": "HBoxModel",
          "model_module_version": "1.5.0",
          "state": {
            "_dom_classes": [],
            "_model_module": "@jupyter-widgets/controls",
            "_model_module_version": "1.5.0",
            "_model_name": "HBoxModel",
            "_view_count": null,
            "_view_module": "@jupyter-widgets/controls",
            "_view_module_version": "1.5.0",
            "_view_name": "HBoxView",
            "box_style": "",
            "children": [
              "IPY_MODEL_a2331d8ca7bf4630b6f27e0e96cef652",
              "IPY_MODEL_855eb29ea9a54acd8f0c3fa6125ebe14",
              "IPY_MODEL_51cbb24dd3314ffb8db26f6efafefe64"
            ],
            "layout": "IPY_MODEL_41e2e2851f5c4c799bd229a565645ed1"
          }
        },
        "a2331d8ca7bf4630b6f27e0e96cef652": {
          "model_module": "@jupyter-widgets/controls",
          "model_name": "HTMLModel",
          "model_module_version": "1.5.0",
          "state": {
            "_dom_classes": [],
            "_model_module": "@jupyter-widgets/controls",
            "_model_module_version": "1.5.0",
            "_model_name": "HTMLModel",
            "_view_count": null,
            "_view_module": "@jupyter-widgets/controls",
            "_view_module_version": "1.5.0",
            "_view_name": "HTMLView",
            "description": "",
            "description_tooltip": null,
            "layout": "IPY_MODEL_5a826db7c62a47bdafa1b3c466287b37",
            "placeholder": "​",
            "style": "IPY_MODEL_3e313cf3cf324797b94deec16b282255",
            "value": ""
          }
        },
        "855eb29ea9a54acd8f0c3fa6125ebe14": {
          "model_module": "@jupyter-widgets/controls",
          "model_name": "FloatProgressModel",
          "model_module_version": "1.5.0",
          "state": {
            "_dom_classes": [],
            "_model_module": "@jupyter-widgets/controls",
            "_model_module_version": "1.5.0",
            "_model_name": "FloatProgressModel",
            "_view_count": null,
            "_view_module": "@jupyter-widgets/controls",
            "_view_module_version": "1.5.0",
            "_view_name": "ProgressView",
            "bar_style": "success",
            "description": "",
            "description_tooltip": null,
            "layout": "IPY_MODEL_bc5105137de64d4ca3d5ba43408bfdab",
            "max": 1,
            "min": 0,
            "orientation": "horizontal",
            "style": "IPY_MODEL_b238afae3f964a73b46a1b6ff03949f1",
            "value": 1
          }
        },
        "51cbb24dd3314ffb8db26f6efafefe64": {
          "model_module": "@jupyter-widgets/controls",
          "model_name": "HTMLModel",
          "model_module_version": "1.5.0",
          "state": {
            "_dom_classes": [],
            "_model_module": "@jupyter-widgets/controls",
            "_model_module_version": "1.5.0",
            "_model_name": "HTMLModel",
            "_view_count": null,
            "_view_module": "@jupyter-widgets/controls",
            "_view_module_version": "1.5.0",
            "_view_name": "HTMLView",
            "description": "",
            "description_tooltip": null,
            "layout": "IPY_MODEL_8cf287b4b52141dd8dd8dcb9198ed478",
            "placeholder": "​",
            "style": "IPY_MODEL_d9ba7bf28c0543c7a9b97af97c19eebb",
            "value": " 3320/? [03:09&lt;00:00, 18.67it/s]"
          }
        },
        "41e2e2851f5c4c799bd229a565645ed1": {
          "model_module": "@jupyter-widgets/base",
          "model_name": "LayoutModel",
          "model_module_version": "1.2.0",
          "state": {
            "_model_module": "@jupyter-widgets/base",
            "_model_module_version": "1.2.0",
            "_model_name": "LayoutModel",
            "_view_count": null,
            "_view_module": "@jupyter-widgets/base",
            "_view_module_version": "1.2.0",
            "_view_name": "LayoutView",
            "align_content": null,
            "align_items": null,
            "align_self": null,
            "border": null,
            "bottom": null,
            "display": null,
            "flex": null,
            "flex_flow": null,
            "grid_area": null,
            "grid_auto_columns": null,
            "grid_auto_flow": null,
            "grid_auto_rows": null,
            "grid_column": null,
            "grid_gap": null,
            "grid_row": null,
            "grid_template_areas": null,
            "grid_template_columns": null,
            "grid_template_rows": null,
            "height": null,
            "justify_content": null,
            "justify_items": null,
            "left": null,
            "margin": null,
            "max_height": null,
            "max_width": null,
            "min_height": null,
            "min_width": null,
            "object_fit": null,
            "object_position": null,
            "order": null,
            "overflow": null,
            "overflow_x": null,
            "overflow_y": null,
            "padding": null,
            "right": null,
            "top": null,
            "visibility": null,
            "width": null
          }
        },
        "5a826db7c62a47bdafa1b3c466287b37": {
          "model_module": "@jupyter-widgets/base",
          "model_name": "LayoutModel",
          "model_module_version": "1.2.0",
          "state": {
            "_model_module": "@jupyter-widgets/base",
            "_model_module_version": "1.2.0",
            "_model_name": "LayoutModel",
            "_view_count": null,
            "_view_module": "@jupyter-widgets/base",
            "_view_module_version": "1.2.0",
            "_view_name": "LayoutView",
            "align_content": null,
            "align_items": null,
            "align_self": null,
            "border": null,
            "bottom": null,
            "display": null,
            "flex": null,
            "flex_flow": null,
            "grid_area": null,
            "grid_auto_columns": null,
            "grid_auto_flow": null,
            "grid_auto_rows": null,
            "grid_column": null,
            "grid_gap": null,
            "grid_row": null,
            "grid_template_areas": null,
            "grid_template_columns": null,
            "grid_template_rows": null,
            "height": null,
            "justify_content": null,
            "justify_items": null,
            "left": null,
            "margin": null,
            "max_height": null,
            "max_width": null,
            "min_height": null,
            "min_width": null,
            "object_fit": null,
            "object_position": null,
            "order": null,
            "overflow": null,
            "overflow_x": null,
            "overflow_y": null,
            "padding": null,
            "right": null,
            "top": null,
            "visibility": null,
            "width": null
          }
        },
        "3e313cf3cf324797b94deec16b282255": {
          "model_module": "@jupyter-widgets/controls",
          "model_name": "DescriptionStyleModel",
          "model_module_version": "1.5.0",
          "state": {
            "_model_module": "@jupyter-widgets/controls",
            "_model_module_version": "1.5.0",
            "_model_name": "DescriptionStyleModel",
            "_view_count": null,
            "_view_module": "@jupyter-widgets/base",
            "_view_module_version": "1.2.0",
            "_view_name": "StyleView",
            "description_width": ""
          }
        },
        "bc5105137de64d4ca3d5ba43408bfdab": {
          "model_module": "@jupyter-widgets/base",
          "model_name": "LayoutModel",
          "model_module_version": "1.2.0",
          "state": {
            "_model_module": "@jupyter-widgets/base",
            "_model_module_version": "1.2.0",
            "_model_name": "LayoutModel",
            "_view_count": null,
            "_view_module": "@jupyter-widgets/base",
            "_view_module_version": "1.2.0",
            "_view_name": "LayoutView",
            "align_content": null,
            "align_items": null,
            "align_self": null,
            "border": null,
            "bottom": null,
            "display": null,
            "flex": null,
            "flex_flow": null,
            "grid_area": null,
            "grid_auto_columns": null,
            "grid_auto_flow": null,
            "grid_auto_rows": null,
            "grid_column": null,
            "grid_gap": null,
            "grid_row": null,
            "grid_template_areas": null,
            "grid_template_columns": null,
            "grid_template_rows": null,
            "height": null,
            "justify_content": null,
            "justify_items": null,
            "left": null,
            "margin": null,
            "max_height": null,
            "max_width": null,
            "min_height": null,
            "min_width": null,
            "object_fit": null,
            "object_position": null,
            "order": null,
            "overflow": null,
            "overflow_x": null,
            "overflow_y": null,
            "padding": null,
            "right": null,
            "top": null,
            "visibility": null,
            "width": "20px"
          }
        },
        "b238afae3f964a73b46a1b6ff03949f1": {
          "model_module": "@jupyter-widgets/controls",
          "model_name": "ProgressStyleModel",
          "model_module_version": "1.5.0",
          "state": {
            "_model_module": "@jupyter-widgets/controls",
            "_model_module_version": "1.5.0",
            "_model_name": "ProgressStyleModel",
            "_view_count": null,
            "_view_module": "@jupyter-widgets/base",
            "_view_module_version": "1.2.0",
            "_view_name": "StyleView",
            "bar_color": null,
            "description_width": ""
          }
        },
        "8cf287b4b52141dd8dd8dcb9198ed478": {
          "model_module": "@jupyter-widgets/base",
          "model_name": "LayoutModel",
          "model_module_version": "1.2.0",
          "state": {
            "_model_module": "@jupyter-widgets/base",
            "_model_module_version": "1.2.0",
            "_model_name": "LayoutModel",
            "_view_count": null,
            "_view_module": "@jupyter-widgets/base",
            "_view_module_version": "1.2.0",
            "_view_name": "LayoutView",
            "align_content": null,
            "align_items": null,
            "align_self": null,
            "border": null,
            "bottom": null,
            "display": null,
            "flex": null,
            "flex_flow": null,
            "grid_area": null,
            "grid_auto_columns": null,
            "grid_auto_flow": null,
            "grid_auto_rows": null,
            "grid_column": null,
            "grid_gap": null,
            "grid_row": null,
            "grid_template_areas": null,
            "grid_template_columns": null,
            "grid_template_rows": null,
            "height": null,
            "justify_content": null,
            "justify_items": null,
            "left": null,
            "margin": null,
            "max_height": null,
            "max_width": null,
            "min_height": null,
            "min_width": null,
            "object_fit": null,
            "object_position": null,
            "order": null,
            "overflow": null,
            "overflow_x": null,
            "overflow_y": null,
            "padding": null,
            "right": null,
            "top": null,
            "visibility": null,
            "width": null
          }
        },
        "d9ba7bf28c0543c7a9b97af97c19eebb": {
          "model_module": "@jupyter-widgets/controls",
          "model_name": "DescriptionStyleModel",
          "model_module_version": "1.5.0",
          "state": {
            "_model_module": "@jupyter-widgets/controls",
            "_model_module_version": "1.5.0",
            "_model_name": "DescriptionStyleModel",
            "_view_count": null,
            "_view_module": "@jupyter-widgets/base",
            "_view_module_version": "1.2.0",
            "_view_name": "StyleView",
            "description_width": ""
          }
        },
        "eeba12f6b4cf49c2b33dc47d9ca6ef99": {
          "model_module": "@jupyter-widgets/controls",
          "model_name": "HBoxModel",
          "model_module_version": "1.5.0",
          "state": {
            "_dom_classes": [],
            "_model_module": "@jupyter-widgets/controls",
            "_model_module_version": "1.5.0",
            "_model_name": "HBoxModel",
            "_view_count": null,
            "_view_module": "@jupyter-widgets/controls",
            "_view_module_version": "1.5.0",
            "_view_name": "HBoxView",
            "box_style": "",
            "children": [
              "IPY_MODEL_d6ef8d1ccf244f49a21b740c0b757f78",
              "IPY_MODEL_bd032c21ca934e2e803ede1830bcf2f9",
              "IPY_MODEL_bab635f0345e4c17aa36d98527be6993"
            ],
            "layout": "IPY_MODEL_5fc776086acd427f9be77dc9b19022c2"
          }
        },
        "d6ef8d1ccf244f49a21b740c0b757f78": {
          "model_module": "@jupyter-widgets/controls",
          "model_name": "HTMLModel",
          "model_module_version": "1.5.0",
          "state": {
            "_dom_classes": [],
            "_model_module": "@jupyter-widgets/controls",
            "_model_module_version": "1.5.0",
            "_model_name": "HTMLModel",
            "_view_count": null,
            "_view_module": "@jupyter-widgets/controls",
            "_view_module_version": "1.5.0",
            "_view_name": "HTMLView",
            "description": "",
            "description_tooltip": null,
            "layout": "IPY_MODEL_e966d92af1074580b213649158c79be7",
            "placeholder": "​",
            "style": "IPY_MODEL_8e0a9678f57a44e8bef88a06a6c201d8",
            "value": "100%"
          }
        },
        "bd032c21ca934e2e803ede1830bcf2f9": {
          "model_module": "@jupyter-widgets/controls",
          "model_name": "FloatProgressModel",
          "model_module_version": "1.5.0",
          "state": {
            "_dom_classes": [],
            "_model_module": "@jupyter-widgets/controls",
            "_model_module_version": "1.5.0",
            "_model_name": "FloatProgressModel",
            "_view_count": null,
            "_view_module": "@jupyter-widgets/controls",
            "_view_module_version": "1.5.0",
            "_view_name": "ProgressView",
            "bar_style": "success",
            "description": "",
            "description_tooltip": null,
            "layout": "IPY_MODEL_fea5cce04f3043ba8b263741d21d7a90",
            "max": 2,
            "min": 0,
            "orientation": "horizontal",
            "style": "IPY_MODEL_f77a5c2a80214d0b847793bb60beeda8",
            "value": 2
          }
        },
        "bab635f0345e4c17aa36d98527be6993": {
          "model_module": "@jupyter-widgets/controls",
          "model_name": "HTMLModel",
          "model_module_version": "1.5.0",
          "state": {
            "_dom_classes": [],
            "_model_module": "@jupyter-widgets/controls",
            "_model_module_version": "1.5.0",
            "_model_name": "HTMLModel",
            "_view_count": null,
            "_view_module": "@jupyter-widgets/controls",
            "_view_module_version": "1.5.0",
            "_view_name": "HTMLView",
            "description": "",
            "description_tooltip": null,
            "layout": "IPY_MODEL_19622c2553994737a6994e952699a154",
            "placeholder": "​",
            "style": "IPY_MODEL_fc4784f7993548339d215a770ec064a9",
            "value": " 2/2 [10:31&lt;00:00, 338.13s/it]"
          }
        },
        "5fc776086acd427f9be77dc9b19022c2": {
          "model_module": "@jupyter-widgets/base",
          "model_name": "LayoutModel",
          "model_module_version": "1.2.0",
          "state": {
            "_model_module": "@jupyter-widgets/base",
            "_model_module_version": "1.2.0",
            "_model_name": "LayoutModel",
            "_view_count": null,
            "_view_module": "@jupyter-widgets/base",
            "_view_module_version": "1.2.0",
            "_view_name": "LayoutView",
            "align_content": null,
            "align_items": null,
            "align_self": null,
            "border": null,
            "bottom": null,
            "display": null,
            "flex": null,
            "flex_flow": null,
            "grid_area": null,
            "grid_auto_columns": null,
            "grid_auto_flow": null,
            "grid_auto_rows": null,
            "grid_column": null,
            "grid_gap": null,
            "grid_row": null,
            "grid_template_areas": null,
            "grid_template_columns": null,
            "grid_template_rows": null,
            "height": null,
            "justify_content": null,
            "justify_items": null,
            "left": null,
            "margin": null,
            "max_height": null,
            "max_width": null,
            "min_height": null,
            "min_width": null,
            "object_fit": null,
            "object_position": null,
            "order": null,
            "overflow": null,
            "overflow_x": null,
            "overflow_y": null,
            "padding": null,
            "right": null,
            "top": null,
            "visibility": null,
            "width": null
          }
        },
        "e966d92af1074580b213649158c79be7": {
          "model_module": "@jupyter-widgets/base",
          "model_name": "LayoutModel",
          "model_module_version": "1.2.0",
          "state": {
            "_model_module": "@jupyter-widgets/base",
            "_model_module_version": "1.2.0",
            "_model_name": "LayoutModel",
            "_view_count": null,
            "_view_module": "@jupyter-widgets/base",
            "_view_module_version": "1.2.0",
            "_view_name": "LayoutView",
            "align_content": null,
            "align_items": null,
            "align_self": null,
            "border": null,
            "bottom": null,
            "display": null,
            "flex": null,
            "flex_flow": null,
            "grid_area": null,
            "grid_auto_columns": null,
            "grid_auto_flow": null,
            "grid_auto_rows": null,
            "grid_column": null,
            "grid_gap": null,
            "grid_row": null,
            "grid_template_areas": null,
            "grid_template_columns": null,
            "grid_template_rows": null,
            "height": null,
            "justify_content": null,
            "justify_items": null,
            "left": null,
            "margin": null,
            "max_height": null,
            "max_width": null,
            "min_height": null,
            "min_width": null,
            "object_fit": null,
            "object_position": null,
            "order": null,
            "overflow": null,
            "overflow_x": null,
            "overflow_y": null,
            "padding": null,
            "right": null,
            "top": null,
            "visibility": null,
            "width": null
          }
        },
        "8e0a9678f57a44e8bef88a06a6c201d8": {
          "model_module": "@jupyter-widgets/controls",
          "model_name": "DescriptionStyleModel",
          "model_module_version": "1.5.0",
          "state": {
            "_model_module": "@jupyter-widgets/controls",
            "_model_module_version": "1.5.0",
            "_model_name": "DescriptionStyleModel",
            "_view_count": null,
            "_view_module": "@jupyter-widgets/base",
            "_view_module_version": "1.2.0",
            "_view_name": "StyleView",
            "description_width": ""
          }
        },
        "fea5cce04f3043ba8b263741d21d7a90": {
          "model_module": "@jupyter-widgets/base",
          "model_name": "LayoutModel",
          "model_module_version": "1.2.0",
          "state": {
            "_model_module": "@jupyter-widgets/base",
            "_model_module_version": "1.2.0",
            "_model_name": "LayoutModel",
            "_view_count": null,
            "_view_module": "@jupyter-widgets/base",
            "_view_module_version": "1.2.0",
            "_view_name": "LayoutView",
            "align_content": null,
            "align_items": null,
            "align_self": null,
            "border": null,
            "bottom": null,
            "display": null,
            "flex": null,
            "flex_flow": null,
            "grid_area": null,
            "grid_auto_columns": null,
            "grid_auto_flow": null,
            "grid_auto_rows": null,
            "grid_column": null,
            "grid_gap": null,
            "grid_row": null,
            "grid_template_areas": null,
            "grid_template_columns": null,
            "grid_template_rows": null,
            "height": null,
            "justify_content": null,
            "justify_items": null,
            "left": null,
            "margin": null,
            "max_height": null,
            "max_width": null,
            "min_height": null,
            "min_width": null,
            "object_fit": null,
            "object_position": null,
            "order": null,
            "overflow": null,
            "overflow_x": null,
            "overflow_y": null,
            "padding": null,
            "right": null,
            "top": null,
            "visibility": null,
            "width": null
          }
        },
        "f77a5c2a80214d0b847793bb60beeda8": {
          "model_module": "@jupyter-widgets/controls",
          "model_name": "ProgressStyleModel",
          "model_module_version": "1.5.0",
          "state": {
            "_model_module": "@jupyter-widgets/controls",
            "_model_module_version": "1.5.0",
            "_model_name": "ProgressStyleModel",
            "_view_count": null,
            "_view_module": "@jupyter-widgets/base",
            "_view_module_version": "1.2.0",
            "_view_name": "StyleView",
            "bar_color": null,
            "description_width": ""
          }
        },
        "19622c2553994737a6994e952699a154": {
          "model_module": "@jupyter-widgets/base",
          "model_name": "LayoutModel",
          "model_module_version": "1.2.0",
          "state": {
            "_model_module": "@jupyter-widgets/base",
            "_model_module_version": "1.2.0",
            "_model_name": "LayoutModel",
            "_view_count": null,
            "_view_module": "@jupyter-widgets/base",
            "_view_module_version": "1.2.0",
            "_view_name": "LayoutView",
            "align_content": null,
            "align_items": null,
            "align_self": null,
            "border": null,
            "bottom": null,
            "display": null,
            "flex": null,
            "flex_flow": null,
            "grid_area": null,
            "grid_auto_columns": null,
            "grid_auto_flow": null,
            "grid_auto_rows": null,
            "grid_column": null,
            "grid_gap": null,
            "grid_row": null,
            "grid_template_areas": null,
            "grid_template_columns": null,
            "grid_template_rows": null,
            "height": null,
            "justify_content": null,
            "justify_items": null,
            "left": null,
            "margin": null,
            "max_height": null,
            "max_width": null,
            "min_height": null,
            "min_width": null,
            "object_fit": null,
            "object_position": null,
            "order": null,
            "overflow": null,
            "overflow_x": null,
            "overflow_y": null,
            "padding": null,
            "right": null,
            "top": null,
            "visibility": null,
            "width": null
          }
        },
        "fc4784f7993548339d215a770ec064a9": {
          "model_module": "@jupyter-widgets/controls",
          "model_name": "DescriptionStyleModel",
          "model_module_version": "1.5.0",
          "state": {
            "_model_module": "@jupyter-widgets/controls",
            "_model_module_version": "1.5.0",
            "_model_name": "DescriptionStyleModel",
            "_view_count": null,
            "_view_module": "@jupyter-widgets/base",
            "_view_module_version": "1.2.0",
            "_view_name": "StyleView",
            "description_width": ""
          }
        },
        "1e4b8604c98049488058cabfeaea6553": {
          "model_module": "@jupyter-widgets/controls",
          "model_name": "HBoxModel",
          "model_module_version": "1.5.0",
          "state": {
            "_dom_classes": [],
            "_model_module": "@jupyter-widgets/controls",
            "_model_module_version": "1.5.0",
            "_model_name": "HBoxModel",
            "_view_count": null,
            "_view_module": "@jupyter-widgets/controls",
            "_view_module_version": "1.5.0",
            "_view_name": "HBoxView",
            "box_style": "",
            "children": [
              "IPY_MODEL_eb8ef067cbff4179931982f7e785c472",
              "IPY_MODEL_3c9a6fa541014fb98ab9059825ea5d79",
              "IPY_MODEL_ee373c33cf2945bb99e22d5fa7ecf8df"
            ],
            "layout": "IPY_MODEL_1a2da5f93af54278a8d42dfffec8a2dd"
          }
        },
        "eb8ef067cbff4179931982f7e785c472": {
          "model_module": "@jupyter-widgets/controls",
          "model_name": "HTMLModel",
          "model_module_version": "1.5.0",
          "state": {
            "_dom_classes": [],
            "_model_module": "@jupyter-widgets/controls",
            "_model_module_version": "1.5.0",
            "_model_name": "HTMLModel",
            "_view_count": null,
            "_view_module": "@jupyter-widgets/controls",
            "_view_module_version": "1.5.0",
            "_view_name": "HTMLView",
            "description": "",
            "description_tooltip": null,
            "layout": "IPY_MODEL_2ef50185f3164346af8ff539020c73e8",
            "placeholder": "​",
            "style": "IPY_MODEL_c9f7067b79ab4f40bc40f7c78f104a54",
            "value": ""
          }
        },
        "3c9a6fa541014fb98ab9059825ea5d79": {
          "model_module": "@jupyter-widgets/controls",
          "model_name": "FloatProgressModel",
          "model_module_version": "1.5.0",
          "state": {
            "_dom_classes": [],
            "_model_module": "@jupyter-widgets/controls",
            "_model_module_version": "1.5.0",
            "_model_name": "FloatProgressModel",
            "_view_count": null,
            "_view_module": "@jupyter-widgets/controls",
            "_view_module_version": "1.5.0",
            "_view_name": "ProgressView",
            "bar_style": "success",
            "description": "",
            "description_tooltip": null,
            "layout": "IPY_MODEL_dda1945705024c40a91caadb62c434f7",
            "max": 1,
            "min": 0,
            "orientation": "horizontal",
            "style": "IPY_MODEL_4db8b73f2d754a5da2de1e499719c4e0",
            "value": 1
          }
        },
        "ee373c33cf2945bb99e22d5fa7ecf8df": {
          "model_module": "@jupyter-widgets/controls",
          "model_name": "HTMLModel",
          "model_module_version": "1.5.0",
          "state": {
            "_dom_classes": [],
            "_model_module": "@jupyter-widgets/controls",
            "_model_module_version": "1.5.0",
            "_model_name": "HTMLModel",
            "_view_count": null,
            "_view_module": "@jupyter-widgets/controls",
            "_view_module_version": "1.5.0",
            "_view_name": "HTMLView",
            "description": "",
            "description_tooltip": null,
            "layout": "IPY_MODEL_49b4245add1241d19f7d7202962dc0fc",
            "placeholder": "​",
            "style": "IPY_MODEL_259cf0bff38747a3be09580689dccd52",
            "value": " 3249/? [03:08&lt;00:00, 18.63it/s]"
          }
        },
        "1a2da5f93af54278a8d42dfffec8a2dd": {
          "model_module": "@jupyter-widgets/base",
          "model_name": "LayoutModel",
          "model_module_version": "1.2.0",
          "state": {
            "_model_module": "@jupyter-widgets/base",
            "_model_module_version": "1.2.0",
            "_model_name": "LayoutModel",
            "_view_count": null,
            "_view_module": "@jupyter-widgets/base",
            "_view_module_version": "1.2.0",
            "_view_name": "LayoutView",
            "align_content": null,
            "align_items": null,
            "align_self": null,
            "border": null,
            "bottom": null,
            "display": null,
            "flex": null,
            "flex_flow": null,
            "grid_area": null,
            "grid_auto_columns": null,
            "grid_auto_flow": null,
            "grid_auto_rows": null,
            "grid_column": null,
            "grid_gap": null,
            "grid_row": null,
            "grid_template_areas": null,
            "grid_template_columns": null,
            "grid_template_rows": null,
            "height": null,
            "justify_content": null,
            "justify_items": null,
            "left": null,
            "margin": null,
            "max_height": null,
            "max_width": null,
            "min_height": null,
            "min_width": null,
            "object_fit": null,
            "object_position": null,
            "order": null,
            "overflow": null,
            "overflow_x": null,
            "overflow_y": null,
            "padding": null,
            "right": null,
            "top": null,
            "visibility": null,
            "width": null
          }
        },
        "2ef50185f3164346af8ff539020c73e8": {
          "model_module": "@jupyter-widgets/base",
          "model_name": "LayoutModel",
          "model_module_version": "1.2.0",
          "state": {
            "_model_module": "@jupyter-widgets/base",
            "_model_module_version": "1.2.0",
            "_model_name": "LayoutModel",
            "_view_count": null,
            "_view_module": "@jupyter-widgets/base",
            "_view_module_version": "1.2.0",
            "_view_name": "LayoutView",
            "align_content": null,
            "align_items": null,
            "align_self": null,
            "border": null,
            "bottom": null,
            "display": null,
            "flex": null,
            "flex_flow": null,
            "grid_area": null,
            "grid_auto_columns": null,
            "grid_auto_flow": null,
            "grid_auto_rows": null,
            "grid_column": null,
            "grid_gap": null,
            "grid_row": null,
            "grid_template_areas": null,
            "grid_template_columns": null,
            "grid_template_rows": null,
            "height": null,
            "justify_content": null,
            "justify_items": null,
            "left": null,
            "margin": null,
            "max_height": null,
            "max_width": null,
            "min_height": null,
            "min_width": null,
            "object_fit": null,
            "object_position": null,
            "order": null,
            "overflow": null,
            "overflow_x": null,
            "overflow_y": null,
            "padding": null,
            "right": null,
            "top": null,
            "visibility": null,
            "width": null
          }
        },
        "c9f7067b79ab4f40bc40f7c78f104a54": {
          "model_module": "@jupyter-widgets/controls",
          "model_name": "DescriptionStyleModel",
          "model_module_version": "1.5.0",
          "state": {
            "_model_module": "@jupyter-widgets/controls",
            "_model_module_version": "1.5.0",
            "_model_name": "DescriptionStyleModel",
            "_view_count": null,
            "_view_module": "@jupyter-widgets/base",
            "_view_module_version": "1.2.0",
            "_view_name": "StyleView",
            "description_width": ""
          }
        },
        "dda1945705024c40a91caadb62c434f7": {
          "model_module": "@jupyter-widgets/base",
          "model_name": "LayoutModel",
          "model_module_version": "1.2.0",
          "state": {
            "_model_module": "@jupyter-widgets/base",
            "_model_module_version": "1.2.0",
            "_model_name": "LayoutModel",
            "_view_count": null,
            "_view_module": "@jupyter-widgets/base",
            "_view_module_version": "1.2.0",
            "_view_name": "LayoutView",
            "align_content": null,
            "align_items": null,
            "align_self": null,
            "border": null,
            "bottom": null,
            "display": null,
            "flex": null,
            "flex_flow": null,
            "grid_area": null,
            "grid_auto_columns": null,
            "grid_auto_flow": null,
            "grid_auto_rows": null,
            "grid_column": null,
            "grid_gap": null,
            "grid_row": null,
            "grid_template_areas": null,
            "grid_template_columns": null,
            "grid_template_rows": null,
            "height": null,
            "justify_content": null,
            "justify_items": null,
            "left": null,
            "margin": null,
            "max_height": null,
            "max_width": null,
            "min_height": null,
            "min_width": null,
            "object_fit": null,
            "object_position": null,
            "order": null,
            "overflow": null,
            "overflow_x": null,
            "overflow_y": null,
            "padding": null,
            "right": null,
            "top": null,
            "visibility": null,
            "width": "20px"
          }
        },
        "4db8b73f2d754a5da2de1e499719c4e0": {
          "model_module": "@jupyter-widgets/controls",
          "model_name": "ProgressStyleModel",
          "model_module_version": "1.5.0",
          "state": {
            "_model_module": "@jupyter-widgets/controls",
            "_model_module_version": "1.5.0",
            "_model_name": "ProgressStyleModel",
            "_view_count": null,
            "_view_module": "@jupyter-widgets/base",
            "_view_module_version": "1.2.0",
            "_view_name": "StyleView",
            "bar_color": null,
            "description_width": ""
          }
        },
        "49b4245add1241d19f7d7202962dc0fc": {
          "model_module": "@jupyter-widgets/base",
          "model_name": "LayoutModel",
          "model_module_version": "1.2.0",
          "state": {
            "_model_module": "@jupyter-widgets/base",
            "_model_module_version": "1.2.0",
            "_model_name": "LayoutModel",
            "_view_count": null,
            "_view_module": "@jupyter-widgets/base",
            "_view_module_version": "1.2.0",
            "_view_name": "LayoutView",
            "align_content": null,
            "align_items": null,
            "align_self": null,
            "border": null,
            "bottom": null,
            "display": null,
            "flex": null,
            "flex_flow": null,
            "grid_area": null,
            "grid_auto_columns": null,
            "grid_auto_flow": null,
            "grid_auto_rows": null,
            "grid_column": null,
            "grid_gap": null,
            "grid_row": null,
            "grid_template_areas": null,
            "grid_template_columns": null,
            "grid_template_rows": null,
            "height": null,
            "justify_content": null,
            "justify_items": null,
            "left": null,
            "margin": null,
            "max_height": null,
            "max_width": null,
            "min_height": null,
            "min_width": null,
            "object_fit": null,
            "object_position": null,
            "order": null,
            "overflow": null,
            "overflow_x": null,
            "overflow_y": null,
            "padding": null,
            "right": null,
            "top": null,
            "visibility": null,
            "width": null
          }
        },
        "259cf0bff38747a3be09580689dccd52": {
          "model_module": "@jupyter-widgets/controls",
          "model_name": "DescriptionStyleModel",
          "model_module_version": "1.5.0",
          "state": {
            "_model_module": "@jupyter-widgets/controls",
            "_model_module_version": "1.5.0",
            "_model_name": "DescriptionStyleModel",
            "_view_count": null,
            "_view_module": "@jupyter-widgets/base",
            "_view_module_version": "1.2.0",
            "_view_name": "StyleView",
            "description_width": ""
          }
        },
        "d70e47b25fe745ffa2a17493514f83f0": {
          "model_module": "@jupyter-widgets/controls",
          "model_name": "HBoxModel",
          "model_module_version": "1.5.0",
          "state": {
            "_dom_classes": [],
            "_model_module": "@jupyter-widgets/controls",
            "_model_module_version": "1.5.0",
            "_model_name": "HBoxModel",
            "_view_count": null,
            "_view_module": "@jupyter-widgets/controls",
            "_view_module_version": "1.5.0",
            "_view_name": "HBoxView",
            "box_style": "",
            "children": [
              "IPY_MODEL_be68bbc3ca894aa6a03c6ebc4f237bc4",
              "IPY_MODEL_e35c8ed1a95745cb95475ab082bfdd08",
              "IPY_MODEL_c542767e693b4ebea4d561abe06cf925"
            ],
            "layout": "IPY_MODEL_7121acfd13d4458baf97961ce6dd9cc4"
          }
        },
        "be68bbc3ca894aa6a03c6ebc4f237bc4": {
          "model_module": "@jupyter-widgets/controls",
          "model_name": "HTMLModel",
          "model_module_version": "1.5.0",
          "state": {
            "_dom_classes": [],
            "_model_module": "@jupyter-widgets/controls",
            "_model_module_version": "1.5.0",
            "_model_name": "HTMLModel",
            "_view_count": null,
            "_view_module": "@jupyter-widgets/controls",
            "_view_module_version": "1.5.0",
            "_view_name": "HTMLView",
            "description": "",
            "description_tooltip": null,
            "layout": "IPY_MODEL_385bc6fdceb947d38e01484f000fe6cd",
            "placeholder": "​",
            "style": "IPY_MODEL_0d9a0a8214a144c784ea93ab53bc89fb",
            "value": ""
          }
        },
        "e35c8ed1a95745cb95475ab082bfdd08": {
          "model_module": "@jupyter-widgets/controls",
          "model_name": "FloatProgressModel",
          "model_module_version": "1.5.0",
          "state": {
            "_dom_classes": [],
            "_model_module": "@jupyter-widgets/controls",
            "_model_module_version": "1.5.0",
            "_model_name": "FloatProgressModel",
            "_view_count": null,
            "_view_module": "@jupyter-widgets/controls",
            "_view_module_version": "1.5.0",
            "_view_name": "ProgressView",
            "bar_style": "success",
            "description": "",
            "description_tooltip": null,
            "layout": "IPY_MODEL_c42a8c7df4a04d7eb34c54f4263474ad",
            "max": 1,
            "min": 0,
            "orientation": "horizontal",
            "style": "IPY_MODEL_6bbacc2e079c4500b944f6b51f9a6e35",
            "value": 1
          }
        },
        "c542767e693b4ebea4d561abe06cf925": {
          "model_module": "@jupyter-widgets/controls",
          "model_name": "HTMLModel",
          "model_module_version": "1.5.0",
          "state": {
            "_dom_classes": [],
            "_model_module": "@jupyter-widgets/controls",
            "_model_module_version": "1.5.0",
            "_model_name": "HTMLModel",
            "_view_count": null,
            "_view_module": "@jupyter-widgets/controls",
            "_view_module_version": "1.5.0",
            "_view_name": "HTMLView",
            "description": "",
            "description_tooltip": null,
            "layout": "IPY_MODEL_57e034f94a914081a02ef55737bf5323",
            "placeholder": "​",
            "style": "IPY_MODEL_efb4d56bc0444d5884ff5fe462dafccb",
            "value": " 7748/? [07:22&lt;00:00, 15.52it/s]"
          }
        },
        "7121acfd13d4458baf97961ce6dd9cc4": {
          "model_module": "@jupyter-widgets/base",
          "model_name": "LayoutModel",
          "model_module_version": "1.2.0",
          "state": {
            "_model_module": "@jupyter-widgets/base",
            "_model_module_version": "1.2.0",
            "_model_name": "LayoutModel",
            "_view_count": null,
            "_view_module": "@jupyter-widgets/base",
            "_view_module_version": "1.2.0",
            "_view_name": "LayoutView",
            "align_content": null,
            "align_items": null,
            "align_self": null,
            "border": null,
            "bottom": null,
            "display": null,
            "flex": null,
            "flex_flow": null,
            "grid_area": null,
            "grid_auto_columns": null,
            "grid_auto_flow": null,
            "grid_auto_rows": null,
            "grid_column": null,
            "grid_gap": null,
            "grid_row": null,
            "grid_template_areas": null,
            "grid_template_columns": null,
            "grid_template_rows": null,
            "height": null,
            "justify_content": null,
            "justify_items": null,
            "left": null,
            "margin": null,
            "max_height": null,
            "max_width": null,
            "min_height": null,
            "min_width": null,
            "object_fit": null,
            "object_position": null,
            "order": null,
            "overflow": null,
            "overflow_x": null,
            "overflow_y": null,
            "padding": null,
            "right": null,
            "top": null,
            "visibility": null,
            "width": null
          }
        },
        "385bc6fdceb947d38e01484f000fe6cd": {
          "model_module": "@jupyter-widgets/base",
          "model_name": "LayoutModel",
          "model_module_version": "1.2.0",
          "state": {
            "_model_module": "@jupyter-widgets/base",
            "_model_module_version": "1.2.0",
            "_model_name": "LayoutModel",
            "_view_count": null,
            "_view_module": "@jupyter-widgets/base",
            "_view_module_version": "1.2.0",
            "_view_name": "LayoutView",
            "align_content": null,
            "align_items": null,
            "align_self": null,
            "border": null,
            "bottom": null,
            "display": null,
            "flex": null,
            "flex_flow": null,
            "grid_area": null,
            "grid_auto_columns": null,
            "grid_auto_flow": null,
            "grid_auto_rows": null,
            "grid_column": null,
            "grid_gap": null,
            "grid_row": null,
            "grid_template_areas": null,
            "grid_template_columns": null,
            "grid_template_rows": null,
            "height": null,
            "justify_content": null,
            "justify_items": null,
            "left": null,
            "margin": null,
            "max_height": null,
            "max_width": null,
            "min_height": null,
            "min_width": null,
            "object_fit": null,
            "object_position": null,
            "order": null,
            "overflow": null,
            "overflow_x": null,
            "overflow_y": null,
            "padding": null,
            "right": null,
            "top": null,
            "visibility": null,
            "width": null
          }
        },
        "0d9a0a8214a144c784ea93ab53bc89fb": {
          "model_module": "@jupyter-widgets/controls",
          "model_name": "DescriptionStyleModel",
          "model_module_version": "1.5.0",
          "state": {
            "_model_module": "@jupyter-widgets/controls",
            "_model_module_version": "1.5.0",
            "_model_name": "DescriptionStyleModel",
            "_view_count": null,
            "_view_module": "@jupyter-widgets/base",
            "_view_module_version": "1.2.0",
            "_view_name": "StyleView",
            "description_width": ""
          }
        },
        "c42a8c7df4a04d7eb34c54f4263474ad": {
          "model_module": "@jupyter-widgets/base",
          "model_name": "LayoutModel",
          "model_module_version": "1.2.0",
          "state": {
            "_model_module": "@jupyter-widgets/base",
            "_model_module_version": "1.2.0",
            "_model_name": "LayoutModel",
            "_view_count": null,
            "_view_module": "@jupyter-widgets/base",
            "_view_module_version": "1.2.0",
            "_view_name": "LayoutView",
            "align_content": null,
            "align_items": null,
            "align_self": null,
            "border": null,
            "bottom": null,
            "display": null,
            "flex": null,
            "flex_flow": null,
            "grid_area": null,
            "grid_auto_columns": null,
            "grid_auto_flow": null,
            "grid_auto_rows": null,
            "grid_column": null,
            "grid_gap": null,
            "grid_row": null,
            "grid_template_areas": null,
            "grid_template_columns": null,
            "grid_template_rows": null,
            "height": null,
            "justify_content": null,
            "justify_items": null,
            "left": null,
            "margin": null,
            "max_height": null,
            "max_width": null,
            "min_height": null,
            "min_width": null,
            "object_fit": null,
            "object_position": null,
            "order": null,
            "overflow": null,
            "overflow_x": null,
            "overflow_y": null,
            "padding": null,
            "right": null,
            "top": null,
            "visibility": null,
            "width": "20px"
          }
        },
        "6bbacc2e079c4500b944f6b51f9a6e35": {
          "model_module": "@jupyter-widgets/controls",
          "model_name": "ProgressStyleModel",
          "model_module_version": "1.5.0",
          "state": {
            "_model_module": "@jupyter-widgets/controls",
            "_model_module_version": "1.5.0",
            "_model_name": "ProgressStyleModel",
            "_view_count": null,
            "_view_module": "@jupyter-widgets/base",
            "_view_module_version": "1.2.0",
            "_view_name": "StyleView",
            "bar_color": null,
            "description_width": ""
          }
        },
        "57e034f94a914081a02ef55737bf5323": {
          "model_module": "@jupyter-widgets/base",
          "model_name": "LayoutModel",
          "model_module_version": "1.2.0",
          "state": {
            "_model_module": "@jupyter-widgets/base",
            "_model_module_version": "1.2.0",
            "_model_name": "LayoutModel",
            "_view_count": null,
            "_view_module": "@jupyter-widgets/base",
            "_view_module_version": "1.2.0",
            "_view_name": "LayoutView",
            "align_content": null,
            "align_items": null,
            "align_self": null,
            "border": null,
            "bottom": null,
            "display": null,
            "flex": null,
            "flex_flow": null,
            "grid_area": null,
            "grid_auto_columns": null,
            "grid_auto_flow": null,
            "grid_auto_rows": null,
            "grid_column": null,
            "grid_gap": null,
            "grid_row": null,
            "grid_template_areas": null,
            "grid_template_columns": null,
            "grid_template_rows": null,
            "height": null,
            "justify_content": null,
            "justify_items": null,
            "left": null,
            "margin": null,
            "max_height": null,
            "max_width": null,
            "min_height": null,
            "min_width": null,
            "object_fit": null,
            "object_position": null,
            "order": null,
            "overflow": null,
            "overflow_x": null,
            "overflow_y": null,
            "padding": null,
            "right": null,
            "top": null,
            "visibility": null,
            "width": null
          }
        },
        "efb4d56bc0444d5884ff5fe462dafccb": {
          "model_module": "@jupyter-widgets/controls",
          "model_name": "DescriptionStyleModel",
          "model_module_version": "1.5.0",
          "state": {
            "_model_module": "@jupyter-widgets/controls",
            "_model_module_version": "1.5.0",
            "_model_name": "DescriptionStyleModel",
            "_view_count": null,
            "_view_module": "@jupyter-widgets/base",
            "_view_module_version": "1.2.0",
            "_view_name": "StyleView",
            "description_width": ""
          }
        }
      }
    }
  },
  "nbformat": 4,
  "nbformat_minor": 0
}